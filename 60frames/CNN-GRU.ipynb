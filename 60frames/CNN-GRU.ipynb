{
 "cells": [
  {
   "cell_type": "markdown",
   "metadata": {},
   "source": [
    "# CNN-GRU"
   ]
  },
  {
   "cell_type": "markdown",
   "metadata": {},
   "source": [
    "```zsh\n",
    "pipenv --python 3.11\n",
    "pipenv install ipykernel==6.28.0 python-dotenv==1.0.0 torch torchvision torchinfo\n",
    "```"
   ]
  },
  {
   "cell_type": "markdown",
   "metadata": {},
   "source": [
    "## Imports"
   ]
  },
  {
   "cell_type": "code",
   "execution_count": 1,
   "metadata": {},
   "outputs": [],
   "source": [
    "import torch\n",
    "from torch import nn, optim\n",
    "from torchvision import datasets, transforms\n",
    "from torchinfo import summary\n",
    "import os\n",
    "import numpy as np\n",
    "import json\n",
    "import glob\n",
    "from torch.utils.data import Dataset, DataLoader\n",
    "from sklearn.model_selection import train_test_split\n",
    "from sklearn.preprocessing import LabelEncoder\n",
    "from sklearn.metrics import confusion_matrix\n",
    "import pandas as pd\n",
    "import seaborn as sns\n",
    "import matplotlib.pyplot as plt\n",
    "import wandb\n",
    "from datetime import datetime\n",
    "import torch.onnx\n",
    "from scipy.interpolate import interp1d"
   ]
  },
  {
   "cell_type": "markdown",
   "metadata": {},
   "source": [
    "## Load Dataset"
   ]
  },
  {
   "cell_type": "code",
   "execution_count": 2,
   "metadata": {},
   "outputs": [],
   "source": [
    "# Check if CUDA is available and set the device accordingly\n",
    "device = torch.device(\"cuda\" if torch.cuda.is_available() else \"cpu\")"
   ]
  },
  {
   "cell_type": "markdown",
   "metadata": {},
   "source": [
    "### My data"
   ]
  },
  {
   "cell_type": "code",
   "execution_count": 33,
   "metadata": {},
   "outputs": [],
   "source": [
    "# Get a list of all txt files in ./data-gen/data/ and its subdirectories\n",
    "txt_files = glob.glob('../data-gen/data/**/*.txt', recursive=True)\n",
    "\n",
    "for txt_file in txt_files:\n",
    "    # Open the txt file and load the data\n",
    "    with open(txt_file, 'r') as f:\n",
    "        data = json.load(f)\n",
    "    \n",
    "    # Transform the data\n",
    "    transformed_data = []\n",
    "    for array in data:\n",
    "        transformed_array = []\n",
    "        for obj in array:\n",
    "            transformed_array.append([obj['x'], obj['y'], obj['z']])\n",
    "        transformed_data.append(transformed_array)\n",
    "    \n",
    "    # print(txt_file)\n",
    "    # print(np.array(transformed_data).shape)\n",
    "\n",
    "    # Create the new json file path\n",
    "    json_file = os.path.splitext(txt_file)[0] + '.json'\n",
    "\n",
    "    # Write the transformed data to the new json file\n",
    "    with open(json_file, 'w') as f:\n",
    "        json.dump(transformed_data, f)"
   ]
  },
  {
   "cell_type": "code",
   "execution_count": 34,
   "metadata": {},
   "outputs": [
    {
     "name": "stdout",
     "output_type": "stream",
     "text": [
      "Total number of samples: 420\n"
     ]
    }
   ],
   "source": [
    "# Assuming 'data' is your root directory containing all the data folders\n",
    "root_dir = '../../data-gen/data/'\n",
    "total_samples = 0\n",
    "\n",
    "# Iterate over all folders in the root directory\n",
    "for folder_name in os.listdir(root_dir):\n",
    "    folder_path = os.path.join(root_dir, folder_name)\n",
    "    \n",
    "    # Check if the path is indeed a folder\n",
    "    if os.path.isdir(folder_path):\n",
    "        # Count the number of json files in the folder\n",
    "        num_files = len(glob.glob(os.path.join(folder_path, '*.json')))\n",
    "        total_samples += num_files\n",
    "\n",
    "print(f\"Total number of samples: {total_samples}\")"
   ]
  },
  {
   "cell_type": "markdown",
   "metadata": {},
   "source": [
    "(60, 21, 3) ==> (1260, 3) ==> (3, 1260)"
   ]
  },
  {
   "cell_type": "code",
   "execution_count": 77,
   "metadata": {},
   "outputs": [],
   "source": [
    "batch_size=64\n",
    "\n",
    "class LandmarkDataset(Dataset):\n",
    "    def __init__(self, files, labels):\n",
    "        self.files = files\n",
    "        self.encoder = LabelEncoder()\n",
    "        self.labels = self.encoder.fit_transform(labels)\n",
    "\n",
    "    def get_original_labels(self, encoded_labels):\n",
    "        return self.encoder.inverse_transform(encoded_labels)\n",
    "        \n",
    "    def __len__(self):\n",
    "        return len(self.files)\n",
    "\n",
    "    def __getitem__(self, idx):\n",
    "        with open(self.files[idx], 'r') as f:\n",
    "            data_list = json.load(f)\n",
    "            for i, frame in enumerate(data_list):\n",
    "                if len(frame) != 21:  # Check if each frame has 21 landmarks\n",
    "                    print(f\"Unexpected frame length in file {self.files[idx]} at frame {i}: {len(frame)}\")\n",
    "            data = torch.tensor(data_list)\n",
    "            data = data.view(-1, 3)  # Flatten the data into (1260, 3)\n",
    "            data = data.transpose(0, 1)  # Transpose to get (3, 1260)\n",
    "        label = torch.tensor(self.labels[idx])\n",
    "        return data, label\n",
    "\n",
    "# Get a list of all json files in ../data-gen/data/ and its subdirectories\n",
    "json_files = glob.glob('../../data-gen/data/**/*.json', recursive=True)\n",
    "\n",
    "# Get labels (parent folder names) for each json file\n",
    "labels = [os.path.basename(os.path.dirname(file)) for file in json_files]\n",
    "\n",
    "# Split data into train and test sets\n",
    "train_files, val_files, train_labels, val_labels = train_test_split(json_files, labels, test_size=0.2, random_state=42)\n",
    "\n",
    "# Create train and test datasets\n",
    "train_dataset = LandmarkDataset(train_files, train_labels)\n",
    "val_dataset = LandmarkDataset(val_files, val_labels)\n",
    "\n",
    "# Create train and test loaders\n",
    "train_loader = DataLoader(train_dataset, batch_size, shuffle=True)\n",
    "val_loader = DataLoader(val_dataset, batch_size, shuffle=False)"
   ]
  },
  {
   "cell_type": "code",
   "execution_count": 78,
   "metadata": {},
   "outputs": [
    {
     "name": "stdout",
     "output_type": "stream",
     "text": [
      "torch.Size([64, 3, 1260])\n",
      "torch.Size([64])\n",
      "1\n",
      "torch.Size([64, 3, 1260])\n",
      "torch.Size([64])\n",
      "2\n",
      "torch.Size([64, 3, 1260])\n",
      "torch.Size([64])\n",
      "3\n",
      "torch.Size([64, 3, 1260])\n",
      "torch.Size([64])\n",
      "4\n",
      "torch.Size([24, 3, 1260])\n",
      "torch.Size([24])\n",
      "5\n"
     ]
    }
   ],
   "source": [
    "# get one batch of data\n",
    "count = 0\n",
    "for data, labels in train_loader:\n",
    "    print(data.shape)\n",
    "    print(labels.shape)\n",
    "    count += 1\n",
    "    print(count)\n"
   ]
  },
  {
   "cell_type": "code",
   "execution_count": 79,
   "metadata": {},
   "outputs": [
    {
     "name": "stdout",
     "output_type": "stream",
     "text": [
      "torch.Size([1260])\n",
      "2\n",
      "['i' 'c' 'i' 'g' 'g' 'j' 'g' 'n' 'g' 'n' 'n' 'n' 'c' 'n' 'c' 'c' 'n' 'z'\n",
      " 'g' 'j' 'c' 'j' 'g' 'z' 'm' 'm' 'g' 'z' 'n' 'n' 'n' 'j' 'i' 'z' 'm' 'm'\n",
      " 'g' 'm' 'm' 'z' 'g' 'g' 'i' 'c' 'm' 'j' 'n' 'm' 'm' 'n' 'm' 'j' 'z' 'j'\n",
      " 'i' 'i' 'c' 'c' 'm' 'n' 'i' 'g' 'j' 'i']\n",
      "torch.Size([1260])\n",
      "2\n",
      "['i' 'j' 'j' 'j' 'j' 'm' 'j' 'z' 'j' 'i' 'i' 'j' 'c' 'm' 'c' 'z' 'i' 'i'\n",
      " 'c' 'z' 'g' 'g' 'z' 'g' 'c' 'm' 'g' 'm' 'i' 'c' 'j' 'i' 'z' 'g' 'z' 'i'\n",
      " 'm' 'g' 'm' 'c' 'n' 'm' 'c' 'c' 'c' 'z' 'g' 'c' 'z' 'n' 'z' 'i' 'j' 'g'\n",
      " 'g' 'g' 'z' 'c' 'c' 'm' 'n' 'i' 'n' 'j']\n",
      "torch.Size([1260])\n",
      "1\n",
      "['g' 'g' 'c' 'i' 'c' 'g' 'j' 'j' 'm' 'i' 'j' 'j' 'm' 'g' 'c' 'z' 'z' 'm'\n",
      " 'z' 'i' 'i' 'c' 'i' 'g' 'm' 'z' 'm' 'i' 'i' 'n' 'z' 'c' 'z' 'i' 'z' 'c'\n",
      " 'c' 'g' 'g' 'z' 'g' 'n' 'm' 'i' 'z' 'i' 'i' 'c' 'n' 'c' 'n' 'n' 'n' 'm'\n",
      " 'j' 'n' 'z' 'g' 'j' 'n' 'n' 'm' 'i' 'j']\n",
      "torch.Size([1260])\n",
      "5\n",
      "['n' 'c' 'm' 'g' 'm' 'm' 'i' 'c' 'i' 'm' 'c' 'j' 'i' 'z' 'c' 'z' 'j' 'n'\n",
      " 'c' 'g' 'i' 'g' 'm' 'j' 'z' 'n' 'c' 'm' 'c' 'n' 'n' 'n' 'z' 'm' 'n' 'z'\n",
      " 'm' 'g' 'n' 'z' 'n' 'c' 'i' 'i' 'j' 'm' 'c' 'n' 'j' 'm' 'j' 'j' 'c' 'c'\n",
      " 'g' 'n' 'n' 'z' 'm' 'n' 'j' 'i' 'i' 'g']\n",
      "torch.Size([1260])\n",
      "2\n",
      "['i' 'j' 'g' 'm' 'z' 'z' 'n' 'c' 'j' 'm' 'j' 'z' 'm' 'i' 'n' 'm' 'z' 'i'\n",
      " 'g' 'n' 'g' 'n' 'i' 'j']\n"
     ]
    }
   ],
   "source": [
    "for data, labels in train_loader:\n",
    "  print(data[0][0].shape)\n",
    "  print(labels[0].item())\n",
    "  # Get original labels\n",
    "  original_labels = train_dataset.encoder.inverse_transform(labels)\n",
    "  print(original_labels)"
   ]
  },
  {
   "cell_type": "markdown",
   "metadata": {},
   "source": [
    "### Interpolated data"
   ]
  },
  {
   "cell_type": "code",
   "execution_count": 3,
   "metadata": {},
   "outputs": [
    {
     "name": "stdout",
     "output_type": "stream",
     "text": [
      "torch.Size([32, 60, 63])\n",
      "torch.Size([32])\n",
      "torch.Size([32, 60, 63])\n",
      "torch.Size([32])\n",
      "torch.Size([32, 60, 63])\n",
      "torch.Size([32])\n",
      "torch.Size([32, 60, 63])\n",
      "torch.Size([32])\n",
      "torch.Size([32, 60, 63])\n",
      "torch.Size([32])\n",
      "torch.Size([32, 60, 63])\n",
      "torch.Size([32])\n",
      "torch.Size([32, 60, 63])\n",
      "torch.Size([32])\n",
      "torch.Size([32, 60, 63])\n",
      "torch.Size([32])\n",
      "torch.Size([32, 60, 63])\n",
      "torch.Size([32])\n",
      "torch.Size([32, 60, 63])\n",
      "torch.Size([32])\n",
      "torch.Size([32, 60, 63])\n",
      "torch.Size([32])\n",
      "torch.Size([32, 60, 63])\n",
      "torch.Size([32])\n",
      "torch.Size([32, 60, 63])\n",
      "torch.Size([32])\n",
      "torch.Size([32, 60, 63])\n",
      "torch.Size([32])\n",
      "torch.Size([32, 60, 63])\n",
      "torch.Size([32])\n",
      "torch.Size([32, 60, 63])\n",
      "torch.Size([32])\n",
      "torch.Size([32, 60, 63])\n",
      "torch.Size([32])\n",
      "torch.Size([32, 60, 63])\n",
      "torch.Size([32])\n",
      "torch.Size([32, 60, 63])\n",
      "torch.Size([32])\n",
      "torch.Size([32, 60, 63])\n",
      "torch.Size([32])\n",
      "torch.Size([32, 60, 63])\n",
      "torch.Size([32])\n",
      "torch.Size([32, 60, 63])\n",
      "torch.Size([32])\n",
      "torch.Size([32, 60, 63])\n",
      "torch.Size([32])\n",
      "torch.Size([32, 60, 63])\n",
      "torch.Size([32])\n",
      "torch.Size([32, 60, 63])\n",
      "torch.Size([32])\n",
      "torch.Size([32, 60, 63])\n",
      "torch.Size([32])\n",
      "torch.Size([32, 60, 63])\n",
      "torch.Size([32])\n",
      "torch.Size([32, 60, 63])\n",
      "torch.Size([32])\n",
      "torch.Size([4, 60, 63])\n",
      "torch.Size([4])\n"
     ]
    }
   ],
   "source": [
    "class HandLandmarkDataset(Dataset):\n",
    "    def __init__(self, root_dir, labels, target_frames=60):\n",
    "        self.root_dir = root_dir\n",
    "        self.labels = labels\n",
    "        self.target_frames = target_frames\n",
    "        self.data = []\n",
    "        self.load_data()\n",
    "\n",
    "    def load_data(self):\n",
    "        for label in self.labels:\n",
    "            label_dir = os.path.join(self.root_dir, label)\n",
    "            if not os.path.isdir(label_dir):\n",
    "                continue\n",
    "            for capture_folder in os.listdir(label_dir):\n",
    "                capture_dir = os.path.join(label_dir, capture_folder)\n",
    "                if os.path.isdir(capture_dir):\n",
    "                    frames = self.load_and_interpolate_frames(capture_dir)\n",
    "                    if frames is not None:\n",
    "                        self.data.append((frames, label))\n",
    "\n",
    "    def load_and_interpolate_frames(self, capture_dir):\n",
    "        frame_files = sorted([os.path.join(capture_dir, f) for f in os.listdir(capture_dir) if f.endswith('.txt')])\n",
    "        if len(frame_files) == 0:\n",
    "            return None\n",
    "\n",
    "        frames = []\n",
    "        for frame_file in frame_files:\n",
    "            with open(frame_file, 'r') as file:\n",
    "                landmarks = np.array([list(map(float, line.strip().split())) for line in file])\n",
    "                frames.append(landmarks.flatten())\n",
    "        \n",
    "        frames = np.array(frames)\n",
    "        original_frames = frames.shape[0]\n",
    "        if original_frames == self.target_frames:\n",
    "            return frames\n",
    "        else:\n",
    "            x = np.linspace(0, 1, original_frames)\n",
    "            x_new = np.linspace(0, 1, self.target_frames)\n",
    "            interpolated_frames = interp1d(x, frames, axis=0)(x_new)\n",
    "            return interpolated_frames\n",
    "\n",
    "    def __len__(self):\n",
    "        return len(self.data)\n",
    "\n",
    "    def __getitem__(self, idx):\n",
    "        frames, label = self.data[idx]\n",
    "        frames = torch.tensor(frames, dtype=torch.float32)\n",
    "        label_idx = self.labels.index(label)\n",
    "        return frames, label_idx\n",
    "\n",
    "def collate_fn(batch):\n",
    "    frames = [item[0] for item in batch]\n",
    "    labels = [item[1] for item in batch]\n",
    "    frames = torch.stack(frames)\n",
    "    labels = torch.tensor(labels)\n",
    "    return frames, labels\n",
    "\n",
    "# Parameters\n",
    "root_dir = '../../Jesus-data/downloads'\n",
    "labels = list(\"ABCDEFGHIJKLMNOPQRSTUVWXYZ\")  # Add any other labels if needed\n",
    "batch_size = 32\n",
    "\n",
    "# Create dataset and data loader\n",
    "dataset = HandLandmarkDataset(root_dir, labels)\n",
    "data_loader = DataLoader(dataset, batch_size=batch_size, shuffle=True, collate_fn=collate_fn)\n",
    "\n",
    "# Example usage\n",
    "for batch in data_loader:\n",
    "    inputs, targets = batch\n",
    "    print(inputs.shape)  # Should be (batch_size, 60, 63)\n",
    "    print(targets.shape)  # Should be (batch_size,)\n",
    "    # Further processing...\n",
    "\n"
   ]
  },
  {
   "cell_type": "markdown",
   "metadata": {},
   "source": [
    "## Model Set Up"
   ]
  },
  {
   "cell_type": "markdown",
   "metadata": {},
   "source": [
    "```txt\n",
    "Model\n",
    "├── Input Layer\n",
    "│   └── Conv1D\n",
    "│       └── MaxPooling1D\n",
    "│           └── Flatten\n",
    "│               └── Dense\n",
    "│                   ├── Concatenate (Final Layer)\n",
    "│                   └── Reshape\n",
    "│                       └── GRU\n",
    "│                           └── GRU_1\n",
    "│                               └── Dense_1\n",
    "│                                   └── Concatenate (Final Layer)\n",
    "``` \n",
    "PyTorch's Conv1D layer expects input in the form (batch_size, num_channels, length). In your case, you can consider each coordinate as a channel. So, your input to the Conv1D layer would be (batch_size, 3, 1260), where 1260 is the product of 60 (frames) and 21 (landmarks).\n",
    "\n",
    "(60, 21, 3) ==> (1260, 3) ==> (3, 1260) ==> (batch_size, 3, 1260)\n",
    "\n",
    "In PyTorch, it's common to leave out the softmax activation function in the model and instead use the nn.CrossEntropyLoss loss function during training, which applies the softmax function internally. Then, when making predictions, you can apply the softmax function to the model's outputs to get probabilities."
   ]
  },
  {
   "cell_type": "code",
   "execution_count": 80,
   "metadata": {},
   "outputs": [
    {
     "name": "stdout",
     "output_type": "stream",
     "text": [
      "==========================================================================================\n",
      "Layer (type:depth-idx)                   Output Shape              Param #\n",
      "==========================================================================================\n",
      "CNN_GRU_Model                            [64, 7]                   --\n",
      "├─Conv1d: 1-1                            [64, 64, 1258]            640\n",
      "├─MaxPool1d: 1-2                         [64, 64, 629]             --\n",
      "├─Flatten: 1-3                           [64, 40256]               --\n",
      "├─Linear: 1-4                            [64, 64]                  2,576,448\n",
      "├─GRU: 1-5                               [64, 1, 100]              49,800\n",
      "├─GRU: 1-6                               [64, 1, 100]              60,600\n",
      "├─Linear: 1-7                            [64, 64]                  6,464\n",
      "├─Linear: 1-8                            [64, 7]                   903\n",
      "==========================================================================================\n",
      "Total params: 2,694,855\n",
      "Trainable params: 2,694,855\n",
      "Non-trainable params: 0\n",
      "Total mult-adds (Units.MEGABYTES): 223.96\n",
      "==========================================================================================\n",
      "Input size (MB): 0.97\n",
      "Forward/backward pass size (MB): 41.39\n",
      "Params size (MB): 10.78\n",
      "Estimated Total Size (MB): 53.14\n",
      "==========================================================================================\n"
     ]
    }
   ],
   "source": [
    "class CNN_GRU_Model(nn.Module):\n",
    "    def __init__(self):\n",
    "        super(CNN_GRU_Model, self).__init__()\n",
    "        self.conv1d = nn.Conv1d(3, 64, kernel_size=3)\n",
    "        self.maxpooling1d = nn.MaxPool1d(2)\n",
    "        self.flatten = nn.Flatten()\n",
    "        self.dense = nn.Linear(40256, 64)  # Adjust this based on the output of the previous layer\n",
    "        self.gru = nn.GRU(64, 100, batch_first=True)\n",
    "        self.gru_1 = nn.GRU(100, 100, batch_first=True)\n",
    "        self.dense_1 = nn.Linear(100, 64)\n",
    "        self.final_dense = nn.Linear(128, 7)  # Final Dense layer for 7 classes\n",
    "\n",
    "    def forward(self, x):\n",
    "        x = self.conv1d(x)\n",
    "        x = self.maxpooling1d(x)\n",
    "        x = self.flatten(x)\n",
    "        dense_output = self.dense(x)\n",
    "        x = dense_output.view(dense_output.shape[0], 1, -1)\n",
    "        x, _ = self.gru(x)\n",
    "        x, _ = self.gru_1(x)\n",
    "        x = self.dense_1(x[:, -1, :])\n",
    "        x = torch.cat((dense_output, x), dim=1)\n",
    "        x = self.final_dense(x)\n",
    "        return x\n",
    "\n",
    "# Instantiate the model\n",
    "model = CNN_GRU_Model().to(device)\n",
    "\n",
    "# Print model summary\n",
    "print(summary(model, input_size=(batch_size, 3, 1260)))\n"
   ]
  },
  {
   "cell_type": "markdown",
   "metadata": {},
   "source": [
    "## Training"
   ]
  },
  {
   "cell_type": "code",
   "execution_count": 81,
   "metadata": {},
   "outputs": [
    {
     "data": {
      "text/plain": [
       "True"
      ]
     },
     "execution_count": 81,
     "metadata": {},
     "output_type": "execute_result"
    }
   ],
   "source": [
    "wandb.login()"
   ]
  },
  {
   "cell_type": "code",
   "execution_count": 82,
   "metadata": {},
   "outputs": [],
   "source": [
    "def calculate_accuracy(loader):\n",
    "    correct = 0\n",
    "    total = 0\n",
    "    # Set model to evaluation mode\n",
    "    model.eval()\n",
    "    # Disable gradient calculation (unnecessary for inference)\n",
    "    with torch.no_grad():\n",
    "        for inputs, labels in loader:\n",
    "            inputs, labels = inputs.to(device), labels.to(device)\n",
    "            outputs = model(inputs)\n",
    "            _, predicted = torch.max(outputs.data, 1)\n",
    "            total += labels.size(0)\n",
    "            correct += (predicted == labels).sum().item()\n",
    "    return 100 * correct / total"
   ]
  },
  {
   "cell_type": "code",
   "execution_count": 83,
   "metadata": {},
   "outputs": [
    {
     "data": {
      "text/html": [
       "Tracking run with wandb version 0.17.1"
      ],
      "text/plain": [
       "<IPython.core.display.HTML object>"
      ]
     },
     "metadata": {},
     "output_type": "display_data"
    },
    {
     "data": {
      "text/html": [
       "Run data is saved locally in <code>/home/ubuntu/docs/team-sign-language/CNN-GRU/wandb/run-20240612_183658-bnz81xzs</code>"
      ],
      "text/plain": [
       "<IPython.core.display.HTML object>"
      ]
     },
     "metadata": {},
     "output_type": "display_data"
    },
    {
     "data": {
      "text/html": [
       "Syncing run <strong><a href='https://wandb.ai/rik0/sign_language/runs/bnz81xzs' target=\"_blank\">CNN-GRU_2024-06-12_18-36-58</a></strong> to <a href='https://wandb.ai/rik0/sign_language' target=\"_blank\">Weights & Biases</a> (<a href='https://wandb.me/run' target=\"_blank\">docs</a>)<br/>"
      ],
      "text/plain": [
       "<IPython.core.display.HTML object>"
      ]
     },
     "metadata": {},
     "output_type": "display_data"
    },
    {
     "data": {
      "text/html": [
       " View project at <a href='https://wandb.ai/rik0/sign_language' target=\"_blank\">https://wandb.ai/rik0/sign_language</a>"
      ],
      "text/plain": [
       "<IPython.core.display.HTML object>"
      ]
     },
     "metadata": {},
     "output_type": "display_data"
    },
    {
     "data": {
      "text/html": [
       " View run at <a href='https://wandb.ai/rik0/sign_language/runs/bnz81xzs' target=\"_blank\">https://wandb.ai/rik0/sign_language/runs/bnz81xzs</a>"
      ],
      "text/plain": [
       "<IPython.core.display.HTML object>"
      ]
     },
     "metadata": {},
     "output_type": "display_data"
    },
    {
     "name": "stdout",
     "output_type": "stream",
     "text": [
      "Epoch 1/40, Validation accuracy: 12.857142857142858%\n",
      "Epoch 2/40, Validation accuracy: 21.428571428571427%\n",
      "Epoch 3/40, Validation accuracy: 20.0%\n",
      "Epoch 4/40, Validation accuracy: 57.142857142857146%\n",
      "Epoch 5/40, Validation accuracy: 64.28571428571429%\n",
      "Epoch 6/40, Validation accuracy: 64.28571428571429%\n",
      "Epoch 7/40, Validation accuracy: 54.285714285714285%\n",
      "Epoch 8/40, Validation accuracy: 61.42857142857143%\n",
      "Epoch 9/40, Validation accuracy: 67.14285714285714%\n",
      "Epoch 10/40, Validation accuracy: 77.14285714285714%\n",
      "Epoch 11/40, Validation accuracy: 87.14285714285714%\n",
      "Epoch 12/40, Validation accuracy: 80.0%\n",
      "Epoch 13/40, Validation accuracy: 82.85714285714286%\n",
      "Epoch 14/40, Validation accuracy: 84.28571428571429%\n",
      "Epoch 15/40, Validation accuracy: 85.71428571428571%\n",
      "Epoch 16/40, Validation accuracy: 90.0%\n",
      "Epoch 17/40, Validation accuracy: 90.0%\n",
      "Epoch 18/40, Validation accuracy: 88.57142857142857%\n",
      "Epoch 19/40, Validation accuracy: 84.28571428571429%\n",
      "Epoch 20/40, Validation accuracy: 91.42857142857143%\n",
      "Epoch 21/40, Validation accuracy: 88.57142857142857%\n",
      "Epoch 22/40, Validation accuracy: 85.71428571428571%\n",
      "Epoch 23/40, Validation accuracy: 88.57142857142857%\n",
      "Epoch 24/40, Validation accuracy: 85.71428571428571%\n",
      "Epoch 25/40, Validation accuracy: 91.42857142857143%\n",
      "Epoch 26/40, Validation accuracy: 90.0%\n",
      "Epoch 27/40, Validation accuracy: 90.0%\n",
      "Epoch 28/40, Validation accuracy: 91.42857142857143%\n",
      "Epoch 29/40, Validation accuracy: 90.0%\n",
      "Epoch 30/40, Validation accuracy: 97.14285714285714%\n",
      "Epoch 31/40, Validation accuracy: 95.71428571428571%\n",
      "Epoch 32/40, Validation accuracy: 92.85714285714286%\n",
      "Epoch 33/40, Validation accuracy: 94.28571428571429%\n",
      "Epoch 34/40, Validation accuracy: 90.0%\n",
      "Epoch 35/40, Validation accuracy: 94.28571428571429%\n",
      "Epoch 36/40, Validation accuracy: 95.71428571428571%\n",
      "Epoch 37/40, Validation accuracy: 95.71428571428571%\n",
      "Epoch 38/40, Validation accuracy: 94.28571428571429%\n",
      "Epoch 39/40, Validation accuracy: 97.14285714285714%\n",
      "Epoch 40/40, Validation accuracy: 94.28571428571429%\n"
     ]
    }
   ],
   "source": [
    "now = datetime.now()  # current date and time\n",
    "run_time = now.strftime(\"%Y-%m-%d_%H-%M-%S\")\n",
    "run = wandb.init(project=\"sign_language\", name=f\"CNN-GRU_{run_time}\")\n",
    "\n",
    "criterion = nn.CrossEntropyLoss()\n",
    "optimizer = optim.Adam(model.parameters(), lr=0.001)\n",
    "\n",
    "num_epochs = 40\n",
    "\n",
    "train_accuracies = []\n",
    "val_accuracies = []\n",
    "losses = []\n",
    "\n",
    "for epoch in range(num_epochs):\n",
    "    # Set model to training mode\n",
    "    model.train()\n",
    "\n",
    "    # Iterate over data\n",
    "    for inputs, labels in train_loader:\n",
    "        inputs, labels = inputs.to(device), labels.to(device)\n",
    "        optimizer.zero_grad()\n",
    "        outputs = model(inputs)\n",
    "        loss = criterion(outputs, labels)\n",
    "        losses.append(loss.item())\n",
    "        loss.backward()\n",
    "        optimizer.step()\n",
    "        \n",
    "        # Log loss to WandB\n",
    "        wandb.log({\"train_loss\": loss.item()})\n",
    "\n",
    "    train_accuracy = calculate_accuracy(train_loader)\n",
    "    train_accuracies.append(train_accuracy)\n",
    "    \n",
    "    # Log train accuracy to WandB\n",
    "    wandb.log({\"train_accuracy\": train_accuracy})\n",
    "\n",
    "    # Evaluate on validation set\n",
    "    val_accuracy = calculate_accuracy(val_loader)\n",
    "    val_accuracies.append(val_accuracy)\n",
    "    \n",
    "    # Log validation accuracy to WandB\n",
    "    wandb.log({\"val_accuracy\": val_accuracy})\n",
    "    \n",
    "    print(f\"Epoch {epoch+1}/{num_epochs}, Validation accuracy: {val_accuracy}%\")\n",
    "\n",
    "# Optionally, log final metrics after training completes\n",
    "wandb.log({\"final_train_accuracy\": train_accuracies[-1], \"final_val_accuracy\": val_accuracies[-1]})\n"
   ]
  },
  {
   "cell_type": "code",
   "execution_count": 84,
   "metadata": {},
   "outputs": [],
   "source": [
    "total_train_accuracies = []\n",
    "total_val_accuracies = []\n",
    "total_losses = []"
   ]
  },
  {
   "cell_type": "code",
   "execution_count": 85,
   "metadata": {},
   "outputs": [],
   "source": [
    "total_train_accuracies += train_accuracies\n",
    "total_val_accuracies += val_accuracies\n",
    "total_losses += losses"
   ]
  },
  {
   "cell_type": "code",
   "execution_count": 86,
   "metadata": {},
   "outputs": [
    {
     "name": "stdout",
     "output_type": "stream",
     "text": [
      "40\n",
      "40\n",
      "200\n",
      "200\n"
     ]
    }
   ],
   "source": [
    "print(len(total_train_accuracies))\n",
    "print(len(total_val_accuracies))\n",
    "print(len(total_losses))\n",
    "print(len(range(1, len(total_losses) + 1)))"
   ]
  },
  {
   "cell_type": "markdown",
   "metadata": {},
   "source": [
    "## Evaluation"
   ]
  },
  {
   "cell_type": "code",
   "execution_count": 87,
   "metadata": {},
   "outputs": [
    {
     "data": {
      "image/png": "[encoded data removed]",
      "text/plain": [
       "<Figure size 500x300 with 1 Axes>"
      ]
     },
     "metadata": {},
     "output_type": "display_data"
    }
   ],
   "source": [
    "# Create a dataframe\n",
    "df_loss = pd.DataFrame({\n",
    "    'step': range(1, len(total_losses) + 1),\n",
    "    'train_loss': total_losses,\n",
    "})\n",
    "\n",
    "# Create lineplot for losses\n",
    "plt.figure(figsize=(5, 3))\n",
    "sns.lineplot(data=df_loss, x='step', y='train_loss')\n",
    "plt.title('Training Losses over Epochs')\n",
    "plt.show()"
   ]
  },
  {
   "cell_type": "code",
   "execution_count": 88,
   "metadata": {},
   "outputs": [
    {
     "data": {
      "image/png": "[encoded data removed]",
      "text/plain": [
       "<Figure size 500x300 with 1 Axes>"
      ]
     },
     "metadata": {},
     "output_type": "display_data"
    }
   ],
   "source": [
    "# Create a dataframe\n",
    "df_acc = pd.DataFrame({\n",
    "    'epoch': range(1, len(total_train_accuracies) + 1),\n",
    "    'train_accuracy': total_train_accuracies,\n",
    "    'val_accuracy': total_val_accuracies\n",
    "})\n",
    "\n",
    "# Melt dataframe to long-form for easier plotting\n",
    "df_acc_melted = df_acc.melt('epoch', var_name='metric', value_name='values')\n",
    "\n",
    "# Create lineplot for accuracies\n",
    "plt.figure(figsize=(5, 3))\n",
    "sns.lineplot(data=df_acc_melted, x='epoch', y='values', hue='metric')\n",
    "plt.title('Training and Validation Accuracies over Epochs')\n",
    "plt.show()"
   ]
  },
  {
   "cell_type": "code",
   "execution_count": 89,
   "metadata": {},
   "outputs": [
    {
     "data": {
      "image/png": "[encoded data removed]",
      "text/plain": [
       "<Figure size 500x500 with 2 Axes>"
      ]
     },
     "metadata": {},
     "output_type": "display_data"
    }
   ],
   "source": [
    "model.eval()\n",
    "all_preds = []\n",
    "all_labels = []\n",
    "with torch.no_grad():\n",
    "    for inputs, labels in val_loader:\n",
    "        inputs, labels = inputs.to(device), labels.to(device)\n",
    "        outputs = model(inputs)\n",
    "        _, preds = torch.max(outputs, 1)\n",
    "        all_preds.extend(preds.cpu().numpy())\n",
    "        all_labels.extend(labels.cpu().numpy())\n",
    "\n",
    "# Compute confusion matrix\n",
    "cm = confusion_matrix(all_labels, all_preds)\n",
    "\n",
    "# Get actual labels\n",
    "actual_labels = train_dataset.get_original_labels(range(len(train_dataset.encoder.classes_)))\n",
    "\n",
    "# Plot confusion matrix\n",
    "plt.figure(figsize=(5, 5))\n",
    "sns.heatmap(cm, annot=True, fmt='d', cmap='Blues', xticklabels=actual_labels, yticklabels=actual_labels)\n",
    "plt.xlabel('Predicted')\n",
    "plt.ylabel('Actual')\n",
    "plt.show()"
   ]
  },
  {
   "cell_type": "code",
   "execution_count": 90,
   "metadata": {},
   "outputs": [
    {
     "data": {
      "image/png": "[encoded data removed]",
      "text/plain": [
       "<Figure size 500x500 with 2 Axes>"
      ]
     },
     "metadata": {},
     "output_type": "display_data"
    }
   ],
   "source": [
    "# Compute confusion matrix\n",
    "cm = confusion_matrix(all_labels, all_preds)\n",
    "\n",
    "# Plot confusion matrix\n",
    "plt.figure(figsize=(5, 5))\n",
    "sns.heatmap(cm, annot=True, fmt='d', cmap='Blues')\n",
    "plt.xlabel('Predicted')\n",
    "plt.ylabel('Actual')\n",
    "plt.show()"
   ]
  },
  {
   "cell_type": "code",
   "execution_count": 91,
   "metadata": {},
   "outputs": [],
   "source": [
    "torch.save(model, 'model.pth')"
   ]
  },
  {
   "cell_type": "code",
   "execution_count": 92,
   "metadata": {},
   "outputs": [
    {
     "data": {
      "text/html": [
       "<style>\n",
       "    table.wandb td:nth-child(1) { padding: 0 10px; text-align: left ; width: auto;} td:nth-child(2) {text-align: left ; width: 100%}\n",
       "    .wandb-row { display: flex; flex-direction: row; flex-wrap: wrap; justify-content: flex-start; width: 100% }\n",
       "    .wandb-col { display: flex; flex-direction: column; flex-basis: 100%; flex: 1; padding: 10px; }\n",
       "    </style>\n",
       "<div class=\"wandb-row\"><div class=\"wandb-col\"><h3>Run history:</h3><br/><table class=\"wandb\"><tr><td>final_train_accuracy</td><td>▁</td></tr><tr><td>final_val_accuracy</td><td>▁</td></tr><tr><td>train_accuracy</td><td>▁▁▂▄▄▆▅▅▆▆▇▆▇▇▇▇▇▇▇▇██▇▇█████████▇██████</td></tr><tr><td>train_loss</td><td>█▅▃▃▂▂▁▁▁▁▁▁▁▁▁▁▁▁▁▁▁▁▁▁▁▁▁▁▁▁▁▁▁▁▁▁▁▁▁▁</td></tr><tr><td>val_accuracy</td><td>▁▂▂▅▅▅▄▅▆▆▇▇▇▇▇▇▇▇▇█▇▇▇▇█▇▇█▇████▇██████</td></tr></table><br/></div><div class=\"wandb-col\"><h3>Run summary:</h3><br/><table class=\"wandb\"><tr><td>final_train_accuracy</td><td>98.57143</td></tr><tr><td>final_val_accuracy</td><td>94.28571</td></tr><tr><td>train_accuracy</td><td>98.57143</td></tr><tr><td>train_loss</td><td>0.1219</td></tr><tr><td>val_accuracy</td><td>94.28571</td></tr></table><br/></div></div>"
      ],
      "text/plain": [
       "<IPython.core.display.HTML object>"
      ]
     },
     "metadata": {},
     "output_type": "display_data"
    },
    {
     "data": {
      "text/html": [
       " View run <strong style=\"color:#cdcd00\">CNN-GRU_2024-06-12_18-36-58</strong> at: <a href='https://wandb.ai/rik0/sign_language/runs/bnz81xzs' target=\"_blank\">https://wandb.ai/rik0/sign_language/runs/bnz81xzs</a><br/> View project at: <a href='https://wandb.ai/rik0/sign_language' target=\"_blank\">https://wandb.ai/rik0/sign_language</a><br/>Synced 5 W&B file(s), 0 media file(s), 0 artifact file(s) and 1 other file(s)"
      ],
      "text/plain": [
       "<IPython.core.display.HTML object>"
      ]
     },
     "metadata": {},
     "output_type": "display_data"
    },
    {
     "data": {
      "text/html": [
       "Find logs at: <code>./wandb/run-20240612_183658-bnz81xzs/logs</code>"
      ],
      "text/plain": [
       "<IPython.core.display.HTML object>"
      ]
     },
     "metadata": {},
     "output_type": "display_data"
    }
   ],
   "source": [
    "wandb.save(\"model.pth\")\n",
    "run.finish()"
   ]
  },
  {
   "cell_type": "markdown",
   "metadata": {},
   "source": [
    "## Convert model to Other format"
   ]
  },
  {
   "cell_type": "code",
   "execution_count": 93,
   "metadata": {},
   "outputs": [],
   "source": [
    "# load model.pth\n",
    "model = torch.load('model.pth')"
   ]
  },
  {
   "cell_type": "markdown",
   "metadata": {},
   "source": [
    "### ONNX"
   ]
  },
  {
   "cell_type": "code",
   "execution_count": 94,
   "metadata": {},
   "outputs": [
    {
     "name": "stderr",
     "output_type": "stream",
     "text": [
      "/home/ubuntu/.local/share/virtualenvs/CNN-GRU-9IlhNg0D/lib/python3.11/site-packages/torch/onnx/symbolic_opset9.py:4661: UserWarning: Exporting a model to ONNX with a batch_size other than 1, with a variable length with GRU can cause an error when running the ONNX model with a different batch size. Make sure to save the model with a batch size of 1, or define the initial states (h0/c0) as inputs of the model. \n",
      "  warnings.warn(\n"
     ]
    },
    {
     "name": "stdout",
     "output_type": "stream",
     "text": [
      "Model has been saved to model.onnx\n"
     ]
    }
   ],
   "source": [
    "# Create a dummy input with appropriate data type\n",
    "dummy_input = torch.randn(64, 3, 1260, device=device, dtype=torch.float32)\n",
    "\n",
    "# Specify the file path where you want to save the ONNX model\n",
    "onnx_file_path = \"model.onnx\"\n",
    "\n",
    "# Export the model to ONNX format\n",
    "torch.onnx.export(\n",
    "    model,                     # model being run\n",
    "    dummy_input,               # model input (or a tuple for multiple inputs)\n",
    "    onnx_file_path,            # where to save the model (can be a file or file-like object)\n",
    "    export_params=True,        # store the trained parameter weights inside the model file\n",
    "    opset_version=10,          # the ONNX version to export the model to\n",
    "    do_constant_folding=True,  # whether to execute constant folding for optimization\n",
    "    input_names=['input'],     # the model's input names\n",
    "    output_names=['output'],   # the model's output names\n",
    "    dynamic_axes={'input': {0: 'batch_size'}, 'output': {0: 'batch_size'}}  # variable length axes\n",
    ")\n",
    "\n",
    "\n",
    "print(f\"Model has been saved to {onnx_file_path}\")\n"
   ]
  },
  {
   "cell_type": "code",
   "execution_count": 95,
   "metadata": {},
   "outputs": [],
   "source": [
    "# import onnx\n",
    "# from onnx import helper, numpy_helper\n",
    "# import numpy as np\n",
    "\n",
    "# # Load the ONNX model\n",
    "# onnx_model = onnx.load(onnx_file_path)\n",
    "\n",
    "# # Check and convert int64 tensors to int32\n",
    "# def convert_int64_to_int32(model):\n",
    "#     for initializer in model.graph.initializer:\n",
    "#         if initializer.data_type == onnx.TensorProto.INT64:\n",
    "#             int64_data = numpy_helper.to_array(initializer)\n",
    "#             int32_data = int64_data.astype(np.int32)\n",
    "#             new_initializer = numpy_helper.from_array(int32_data, initializer.name)\n",
    "#             model.graph.initializer.remove(initializer)\n",
    "#             model.graph.initializer.append(new_initializer)\n",
    "\n",
    "#     for node in model.graph.node:\n",
    "#         for attr in node.attribute:\n",
    "#             if attr.type == onnx.AttributeProto.TENSOR and attr.t.data_type == onnx.TensorProto.INT64:\n",
    "#                 int64_data = numpy_helper.to_array(attr.t)\n",
    "#                 int32_data = int64_data.astype(np.int32)\n",
    "#                 new_tensor = numpy_helper.from_array(int32_data)\n",
    "#                 new_tensor.name = attr.t.name\n",
    "#                 attr.t.CopyFrom(new_tensor)\n",
    "\n",
    "#     return model\n",
    "\n",
    "# # Convert and save the modified model\n",
    "# onnx_model = convert_int64_to_int32(onnx_model)\n",
    "# onnx.save(onnx_model, onnx_file_path)\n",
    "\n",
    "# # Verify the ONNX model for int64 tensors\n",
    "# def check_for_int64(model):\n",
    "#     for tensor in model.graph.initializer:\n",
    "#         if tensor.data_type == onnx.TensorProto.INT64:\n",
    "#             print(f\"Found int64 tensor in initializer {tensor.name}\")\n",
    "#             return True\n",
    "#     for node in model.graph.node:\n",
    "#         for attr in node.attribute:\n",
    "#             if attr.type == onnx.AttributeProto.TENSOR and attr.t.data_type == onnx.TensorProto.INT64:\n",
    "#                 print(f\"Found int64 tensor in node {node.name}\")\n",
    "#                 return True\n",
    "#     return False\n",
    "\n",
    "# if check_for_int64(onnx_model):\n",
    "#     print(\"Model contains int64 tensors. Modify the model to use int32 tensors.\")\n",
    "# else:\n",
    "#     print(\"Model does not contain int64 tensors.\")\n",
    "\n"
   ]
  },
  {
   "cell_type": "markdown",
   "metadata": {},
   "source": [
    "### TorchScript"
   ]
  },
  {
   "cell_type": "code",
   "execution_count": 96,
   "metadata": {},
   "outputs": [],
   "source": [
    "scripted_model = torch.jit.script(model)  # Convert to TorchScript\n",
    "scripted_model.save('model_scripted.pt')  # Save the scripted model"
   ]
  },
  {
   "cell_type": "code",
   "execution_count": 97,
   "metadata": {},
   "outputs": [
    {
     "ename": "ModuleNotFoundError",
     "evalue": "No module named 'tensorflow_probability'",
     "output_type": "error",
     "traceback": [
      "\u001b[0;31m---------------------------------------------------------------------------\u001b[0m",
      "\u001b[0;31mModuleNotFoundError\u001b[0m                       Traceback (most recent call last)",
      "Cell \u001b[0;32mIn[97], line 1\u001b[0m\n\u001b[0;32m----> 1\u001b[0m \u001b[38;5;28;01mfrom\u001b[39;00m \u001b[38;5;21;01monnx_tf\u001b[39;00m\u001b[38;5;21;01m.\u001b[39;00m\u001b[38;5;21;01mbackend\u001b[39;00m \u001b[38;5;28;01mimport\u001b[39;00m prepare\n\u001b[1;32m      2\u001b[0m \u001b[38;5;28;01mimport\u001b[39;00m \u001b[38;5;21;01monnx\u001b[39;00m\n\u001b[1;32m      4\u001b[0m onnx_model \u001b[38;5;241m=\u001b[39m onnx\u001b[38;5;241m.\u001b[39mload(\u001b[38;5;124m\"\u001b[39m\u001b[38;5;124mmodel.onnx\u001b[39m\u001b[38;5;124m\"\u001b[39m)\n",
      "File \u001b[0;32m~/.local/share/virtualenvs/CNN-GRU-9IlhNg0D/lib/python3.11/site-packages/onnx_tf/__init__.py:1\u001b[0m\n\u001b[0;32m----> 1\u001b[0m \u001b[38;5;28;01mfrom\u001b[39;00m \u001b[38;5;21;01m.\u001b[39;00m \u001b[38;5;28;01mimport\u001b[39;00m backend\n\u001b[1;32m      2\u001b[0m \u001b[38;5;28;01mfrom\u001b[39;00m \u001b[38;5;21;01m.\u001b[39;00m\u001b[38;5;21;01mversion\u001b[39;00m \u001b[38;5;28;01mimport\u001b[39;00m version \u001b[38;5;28;01mas\u001b[39;00m __version__\n",
      "File \u001b[0;32m~/.local/share/virtualenvs/CNN-GRU-9IlhNg0D/lib/python3.11/site-packages/onnx_tf/backend.py:28\u001b[0m\n\u001b[1;32m     26\u001b[0m \u001b[38;5;28;01mfrom\u001b[39;00m \u001b[38;5;21;01monnx_tf\u001b[39;00m\u001b[38;5;21;01m.\u001b[39;00m\u001b[38;5;21;01mcommon\u001b[39;00m \u001b[38;5;28;01mimport\u001b[39;00m get_unique_suffix\n\u001b[1;32m     27\u001b[0m \u001b[38;5;28;01mfrom\u001b[39;00m \u001b[38;5;21;01monnx_tf\u001b[39;00m\u001b[38;5;21;01m.\u001b[39;00m\u001b[38;5;21;01mcommon\u001b[39;00m \u001b[38;5;28;01mimport\u001b[39;00m supports_device \u001b[38;5;28;01mas\u001b[39;00m common_supports_device\n\u001b[0;32m---> 28\u001b[0m \u001b[38;5;28;01mfrom\u001b[39;00m \u001b[38;5;21;01monnx_tf\u001b[39;00m\u001b[38;5;21;01m.\u001b[39;00m\u001b[38;5;21;01mcommon\u001b[39;00m\u001b[38;5;21;01m.\u001b[39;00m\u001b[38;5;21;01mhandler_helper\u001b[39;00m \u001b[38;5;28;01mimport\u001b[39;00m get_all_backend_handlers\n\u001b[1;32m     29\u001b[0m \u001b[38;5;28;01mfrom\u001b[39;00m \u001b[38;5;21;01monnx_tf\u001b[39;00m\u001b[38;5;21;01m.\u001b[39;00m\u001b[38;5;21;01mpb_wrapper\u001b[39;00m \u001b[38;5;28;01mimport\u001b[39;00m OnnxNode\n\u001b[1;32m     30\u001b[0m \u001b[38;5;28;01mfrom\u001b[39;00m \u001b[38;5;21;01monnx_tf\u001b[39;00m\u001b[38;5;21;01m.\u001b[39;00m\u001b[38;5;21;01mbackend_tf_module\u001b[39;00m \u001b[38;5;28;01mimport\u001b[39;00m BackendTFModule, TFModule\n",
      "File \u001b[0;32m~/.local/share/virtualenvs/CNN-GRU-9IlhNg0D/lib/python3.11/site-packages/onnx_tf/common/handler_helper.py:3\u001b[0m\n\u001b[1;32m      1\u001b[0m \u001b[38;5;28;01mfrom\u001b[39;00m \u001b[38;5;21;01monnx\u001b[39;00m \u001b[38;5;28;01mimport\u001b[39;00m defs\n\u001b[0;32m----> 3\u001b[0m \u001b[38;5;28;01mfrom\u001b[39;00m \u001b[38;5;21;01monnx_tf\u001b[39;00m\u001b[38;5;21;01m.\u001b[39;00m\u001b[38;5;21;01mhandlers\u001b[39;00m\u001b[38;5;21;01m.\u001b[39;00m\u001b[38;5;21;01mbackend\u001b[39;00m \u001b[38;5;28;01mimport\u001b[39;00m \u001b[38;5;241m*\u001b[39m  \u001b[38;5;66;03m# noqa\u001b[39;00m\n\u001b[1;32m      4\u001b[0m \u001b[38;5;28;01mfrom\u001b[39;00m \u001b[38;5;21;01monnx_tf\u001b[39;00m\u001b[38;5;21;01m.\u001b[39;00m\u001b[38;5;21;01mhandlers\u001b[39;00m\u001b[38;5;21;01m.\u001b[39;00m\u001b[38;5;21;01mbackend_handler\u001b[39;00m \u001b[38;5;28;01mimport\u001b[39;00m BackendHandler\n\u001b[1;32m      5\u001b[0m \u001b[38;5;28;01mimport\u001b[39;00m \u001b[38;5;21;01monnx_tf\u001b[39;00m\u001b[38;5;21;01m.\u001b[39;00m\u001b[38;5;21;01mcommon\u001b[39;00m \u001b[38;5;28;01mas\u001b[39;00m \u001b[38;5;21;01mcommon\u001b[39;00m\n",
      "File \u001b[0;32m~/.local/share/virtualenvs/CNN-GRU-9IlhNg0D/lib/python3.11/site-packages/onnx_tf/handlers/backend/bernoulli.py:2\u001b[0m\n\u001b[1;32m      1\u001b[0m \u001b[38;5;28;01mimport\u001b[39;00m \u001b[38;5;21;01mtensorflow\u001b[39;00m \u001b[38;5;28;01mas\u001b[39;00m \u001b[38;5;21;01mtf\u001b[39;00m\n\u001b[0;32m----> 2\u001b[0m \u001b[38;5;28;01mfrom\u001b[39;00m \u001b[38;5;21;01mtensorflow_probability\u001b[39;00m \u001b[38;5;28;01mimport\u001b[39;00m distributions \u001b[38;5;28;01mas\u001b[39;00m tfd\n\u001b[1;32m      4\u001b[0m \u001b[38;5;28;01mfrom\u001b[39;00m \u001b[38;5;21;01monnx_tf\u001b[39;00m\u001b[38;5;21;01m.\u001b[39;00m\u001b[38;5;21;01mhandlers\u001b[39;00m\u001b[38;5;21;01m.\u001b[39;00m\u001b[38;5;21;01mbackend_handler\u001b[39;00m \u001b[38;5;28;01mimport\u001b[39;00m BackendHandler\n\u001b[1;32m      5\u001b[0m \u001b[38;5;28;01mfrom\u001b[39;00m \u001b[38;5;21;01monnx_tf\u001b[39;00m\u001b[38;5;21;01m.\u001b[39;00m\u001b[38;5;21;01mhandlers\u001b[39;00m\u001b[38;5;21;01m.\u001b[39;00m\u001b[38;5;21;01mhandler\u001b[39;00m \u001b[38;5;28;01mimport\u001b[39;00m onnx_op\n",
      "\u001b[0;31mModuleNotFoundError\u001b[0m: No module named 'tensorflow_probability'"
     ]
    }
   ],
   "source": [
    "from onnx_tf.backend import prepare\n",
    "import onnx\n",
    "\n",
    "onnx_model = onnx.load(\"model.onnx\")\n",
    "tf_rep = prepare(onnx_model)\n",
    "tf_rep.export_graph(\"model_tf.pb\")"
   ]
  },
  {
   "cell_type": "code",
   "execution_count": null,
   "metadata": {},
   "outputs": [],
   "source": [
    "# bash command to convert the TensorFlow model to TensorFlow.js\n",
    "# tensorflowjs_converter --input_format=tf_saved_model --output_format=tfjs_graph_model model_tf web_model"
   ]
  },
  {
   "cell_type": "markdown",
   "metadata": {},
   "source": [
    "tensorflow\n",
    "pytorch -> onnx -> tensorflow -> tensorflow.js\n",
    "uses @tensorflow/tfjs on the front\n",
    "\n",
    "error when onnx -> tensorflow\n",
    "\n",
    "onnx\n",
    "pytorch -> onnx\n",
    "ueses either onnxjs or onnxruntime-web\n",
    "\n",
    "onnxjs: error when loading model\n",
    "onnxruntime-web: error with wasm"
   ]
  },
  {
   "cell_type": "code",
   "execution_count": null,
   "metadata": {},
   "outputs": [],
   "source": [
    "# Save the model state_dict\n",
    "torch.save(model.state_dict(), 'model_state_dict.pth')"
   ]
  },
  {
   "cell_type": "code",
   "execution_count": null,
   "metadata": {},
   "outputs": [
    {
     "name": "stdout",
     "output_type": "stream",
     "text": [
      "Model saved to model.json\n"
     ]
    }
   ],
   "source": [
    "import torch\n",
    "import json\n",
    "\n",
    "# Define your model class exactly as it was when you saved the model\n",
    "class CNN_GRU_Model(nn.Module):\n",
    "    def __init__(self):\n",
    "        super(CNN_GRU_Model, self).__init__()\n",
    "        self.conv1d = nn.Conv1d(3, 64, kernel_size=3)\n",
    "        self.maxpooling1d = nn.MaxPool1d(2)\n",
    "        self.flatten = nn.Flatten()\n",
    "        self.dense = nn.Linear(40256, 64)  # Adjust this based on the output of the previous layer\n",
    "        self.gru = nn.GRU(64, 100, batch_first=True)\n",
    "        self.gru_1 = nn.GRU(100, 100, batch_first=True)\n",
    "        self.dense_1 = nn.Linear(100, 64)\n",
    "        self.final_dense = nn.Linear(128, 7)  # Final Dense layer for 7 classes\n",
    "\n",
    "    def forward(self, x):\n",
    "        x = self.conv1d(x)\n",
    "        x = self.maxpooling1d(x)\n",
    "        x = self.flatten(x)\n",
    "        dense_output = self.dense(x)\n",
    "        x = dense_output.view(dense_output.shape[0], 1, -1)\n",
    "        x, _ = self.gru(x)\n",
    "        x, _ = self.gru_1(x)\n",
    "        x = self.dense_1(x[:, -1, :])\n",
    "        x = torch.cat((dense_output, x), dim=1)\n",
    "        x = self.final_dense(x)\n",
    "        return x\n",
    "\n",
    "# Load the model\n",
    "model = CNN_GRU_Model()\n",
    "\n",
    "# Load the state_dict\n",
    "state_dict = torch.load('model_state_dict.pth')\n",
    "\n",
    "# Ensure the state_dict is in the correct format (i.e., a dictionary)\n",
    "if not isinstance(state_dict, dict):\n",
    "    raise TypeError(f\"Expected state_dict to be dict-like, got {type(state_dict)}.\")\n",
    "\n",
    "# Load the state_dict into the model\n",
    "model.load_state_dict(state_dict)\n",
    "\n",
    "# Extract the model's state_dict (parameters)\n",
    "model_state_dict = model.state_dict()\n",
    "\n",
    "# Convert the state_dict to a dictionary suitable for JSON\n",
    "model_state_dict = {k: v.tolist() for k, v in model_state_dict.items()}\n",
    "\n",
    "# Save the state_dict to a JSON file\n",
    "with open('model.json', 'w') as json_file:\n",
    "    json.dump(model_state_dict, json_file)\n",
    "\n",
    "print(\"Model saved to model.json\")\n",
    "\n"
   ]
  }
 ],
 "metadata": {
  "kernelspec": {
   "display_name": "data-gen-gFpVQeOr",
   "language": "python",
   "name": "python3"
  },
  "language_info": {
   "codemirror_mode": {
    "name": "ipython",
    "version": 3
   },
   "file_extension": ".py",
   "mimetype": "text/x-python",
   "name": "python",
   "nbconvert_exporter": "python",
   "pygments_lexer": "ipython3",
   "version": "3.11.9"
  }
 },
 "nbformat": 4,
 "nbformat_minor": 2
}
