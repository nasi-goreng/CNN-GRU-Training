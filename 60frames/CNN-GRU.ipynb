{
 "cells": [
  {
   "cell_type": "markdown",
   "metadata": {},
   "source": [
    "# CNN-GRU (60 frames)"
   ]
  },
  {
   "cell_type": "markdown",
   "metadata": {},
   "source": [
    "```zsh\n",
    "pipenv --python 3.11\n",
    "pipenv install ipykernel==6.28.0 python-dotenv==1.0.0 torch torchvision torchinfo\n",
    "```"
   ]
  },
  {
   "cell_type": "markdown",
   "metadata": {},
   "source": [
    "## Imports"
   ]
  },
  {
   "cell_type": "code",
   "execution_count": 1,
   "metadata": {},
   "outputs": [],
   "source": [
    "import torch\n",
    "from torch import nn, optim\n",
    "from torchvision import datasets, transforms\n",
    "from torchinfo import summary\n",
    "import os\n",
    "import numpy as np\n",
    "import json\n",
    "import glob\n",
    "from torch.utils.data import Dataset, DataLoader\n",
    "from sklearn.model_selection import train_test_split\n",
    "from sklearn.preprocessing import LabelEncoder\n",
    "from sklearn.metrics import confusion_matrix\n",
    "import pandas as pd\n",
    "import seaborn as sns\n",
    "import matplotlib.pyplot as plt\n",
    "import wandb\n",
    "from datetime import datetime\n",
    "import torch.onnx\n",
    "from scipy.interpolate import interp1d\n",
    "from sklearn.metrics import accuracy_score, precision_score, f1_score, recall_score\n",
    "import re"
   ]
  },
  {
   "cell_type": "markdown",
   "metadata": {},
   "source": [
    "## Load Dataset"
   ]
  },
  {
   "cell_type": "code",
   "execution_count": 2,
   "metadata": {},
   "outputs": [],
   "source": [
    "# Check if CUDA is available and set the device accordingly\n",
    "device = torch.device(\"cuda\" if torch.cuda.is_available() else \"cpu\")"
   ]
  },
  {
   "cell_type": "markdown",
   "metadata": {},
   "source": [
    "### My data"
   ]
  },
  {
   "cell_type": "code",
   "execution_count": 33,
   "metadata": {},
   "outputs": [],
   "source": [
    "# Get a list of all txt files in ./data-gen/data/ and its subdirectories\n",
    "txt_files = glob.glob('../data-gen/data/**/*.txt', recursive=True)\n",
    "\n",
    "for txt_file in txt_files:\n",
    "    # Open the txt file and load the data\n",
    "    with open(txt_file, 'r') as f:\n",
    "        data = json.load(f)\n",
    "    \n",
    "    # Transform the data\n",
    "    transformed_data = []\n",
    "    for array in data:\n",
    "        transformed_array = []\n",
    "        for obj in array:\n",
    "            transformed_array.append([obj['x'], obj['y'], obj['z']])\n",
    "        transformed_data.append(transformed_array)\n",
    "    \n",
    "    # print(txt_file)\n",
    "    # print(np.array(transformed_data).shape)\n",
    "\n",
    "    # Create the new json file path\n",
    "    json_file = os.path.splitext(txt_file)[0] + '.json'\n",
    "\n",
    "    # Write the transformed data to the new json file\n",
    "    with open(json_file, 'w') as f:\n",
    "        json.dump(transformed_data, f)"
   ]
  },
  {
   "cell_type": "code",
   "execution_count": 8,
   "metadata": {},
   "outputs": [
    {
     "name": "stdout",
     "output_type": "stream",
     "text": [
      "Total number of samples: 1540\n"
     ]
    }
   ],
   "source": [
    "# Assuming 'data' is your root directory containing all the data folders\n",
    "root_dir = '../../data-gen/data/'\n",
    "total_samples = 0\n",
    "\n",
    "# Iterate over all folders in the root directory\n",
    "for folder_name in os.listdir(root_dir):\n",
    "    folder_path = os.path.join(root_dir, folder_name)\n",
    "    \n",
    "    # Check if the path is indeed a folder\n",
    "    if os.path.isdir(folder_path):\n",
    "        # Count the number of json files in the folder\n",
    "        num_files = len(glob.glob(os.path.join(folder_path, '*.json')))\n",
    "        total_samples += num_files\n",
    "\n",
    "print(f\"Total number of samples: {total_samples}\")"
   ]
  },
  {
   "cell_type": "markdown",
   "metadata": {},
   "source": [
    "(60, 21, 3) ==> (1260, 3) ==> (3, 1260)"
   ]
  },
  {
   "cell_type": "code",
   "execution_count": 45,
   "metadata": {},
   "outputs": [],
   "source": [
    "batch_size=64\n",
    "\n",
    "class LandmarkDataset(Dataset):\n",
    "    def __init__(self, files, labels):\n",
    "        self.files = files\n",
    "        self.encoder = LabelEncoder()\n",
    "        self.labels = self.encoder.fit_transform(labels)\n",
    "\n",
    "    def get_original_labels(self, encoded_labels):\n",
    "        return self.encoder.inverse_transform(encoded_labels)\n",
    "        \n",
    "    def __len__(self):\n",
    "        return len(self.files)\n",
    "\n",
    "    def __getitem__(self, idx):\n",
    "        with open(self.files[idx], 'r') as f:\n",
    "            data_list = json.load(f)\n",
    "            for i, frame in enumerate(data_list):\n",
    "                if len(frame) != 21:  # Check if each frame has 21 landmarks\n",
    "                    print(f\"Unexpected frame length in file {self.files[idx]} at frame {i}: {len(frame)}\")\n",
    "            data = torch.tensor(data_list)\n",
    "            data = data.view(-1, 3)  # Flatten the data into (1260, 3)\n",
    "            data = data.transpose(0, 1)  # Transpose to get (3, 1260)\n",
    "        label = torch.tensor(self.labels[idx])\n",
    "        return data, label\n",
    "\n",
    "# Get a list of all json files in ../data-gen/data/ and its subdirectories\n",
    "json_files = glob.glob('../../data-gen/data/**/*.json', recursive=True)\n",
    "\n",
    "# Get labels (parent folder names) for each json file\n",
    "labels = [os.path.basename(os.path.dirname(file)) for file in json_files]\n",
    "\n",
    "# Split data into train and test sets\n",
    "train_files, val_files, train_labels, val_labels = train_test_split(json_files, labels, test_size=0.2, random_state=42)\n",
    "\n",
    "# Create train and test datasets\n",
    "train_dataset = LandmarkDataset(train_files, train_labels)\n",
    "val_dataset = LandmarkDataset(val_files, val_labels)\n",
    "\n",
    "# Create train and test loaders\n",
    "train_loader = DataLoader(train_dataset, batch_size, shuffle=True)\n",
    "val_loader = DataLoader(val_dataset, batch_size, shuffle=False)"
   ]
  },
  {
   "cell_type": "code",
   "execution_count": 54,
   "metadata": {},
   "outputs": [
    {
     "name": "stdout",
     "output_type": "stream",
     "text": [
      "Total Data Label Counts:\n",
      "Label A: 50\n",
      "Label B: 50\n",
      "Label C: 80\n",
      "Label D: 50\n",
      "Label E: 50\n",
      "Label F: 50\n",
      "Label G: 80\n",
      "Label H: 50\n",
      "Label I: 80\n",
      "Label J: 80\n",
      "Label K: 50\n",
      "Label L: 50\n",
      "Label M: 80\n",
      "Label N: 80\n",
      "Label O: 80\n",
      "Label P: 50\n",
      "Label Q: 50\n",
      "Label R: 50\n",
      "Label S: 50\n",
      "Label T: 50\n",
      "Label U: 50\n",
      "Label V: 50\n",
      "Label W: 50\n",
      "Label X: 50\n",
      "Label Y: 50\n",
      "Label Z: 80\n",
      "Label that has 80 samples:\n",
      "C, G, I, J, M, N, O, Z, "
     ]
    }
   ],
   "source": [
    "from collections import defaultdict\n",
    "\n",
    "def count_labels(dataset):\n",
    "    label_counts = defaultdict(int)\n",
    "    for _, label in dataset:\n",
    "        original_label = dataset.get_original_labels([label.item()])[0]\n",
    "        label_counts[original_label] += 1\n",
    "    return label_counts\n",
    "\n",
    "# Count the number of data samples for each label in train and validation datasets\n",
    "train_label_counts = count_labels(train_dataset)\n",
    "val_label_counts = count_labels(val_dataset)\n",
    "\n",
    "# Combine counts from both datasets\n",
    "total_label_counts = defaultdict(int, train_label_counts)\n",
    "for label, count in val_label_counts.items():\n",
    "    total_label_counts[label] += count\n",
    "\n",
    "# Print the label counts alphabetically\n",
    "print(\"Total Data Label Counts:\")\n",
    "for label in sorted(total_label_counts.keys()):\n",
    "    print(f\"Label {label.upper()}: {total_label_counts[label]}\")\n",
    "\n",
    "# print the label that has 80 samples\n",
    "print(\"Label that has 80 samples:\")\n",
    "samples_80 = []\n",
    "for label in total_label_counts.keys():\n",
    "    if total_label_counts[label] == 80:\n",
    "        samples_80.append(label.upper())\n",
    "\n",
    "for sample in sorted(samples_80):\n",
    "    print(sample, end=', ')\n"
   ]
  },
  {
   "cell_type": "code",
   "execution_count": 14,
   "metadata": {},
   "outputs": [
    {
     "name": "stdout",
     "output_type": "stream",
     "text": [
      "torch.Size([64, 3, 1260])\n",
      "torch.Size([64])\n",
      "1\n",
      "torch.Size([64, 3, 1260])\n",
      "torch.Size([64])\n",
      "2\n",
      "torch.Size([64, 3, 1260])\n",
      "torch.Size([64])\n",
      "3\n",
      "torch.Size([64, 3, 1260])\n",
      "torch.Size([64])\n",
      "4\n",
      "torch.Size([64, 3, 1260])\n",
      "torch.Size([64])\n",
      "5\n",
      "torch.Size([64, 3, 1260])\n",
      "torch.Size([64])\n",
      "6\n",
      "torch.Size([64, 3, 1260])\n",
      "torch.Size([64])\n",
      "7\n",
      "torch.Size([64, 3, 1260])\n",
      "torch.Size([64])\n",
      "8\n",
      "torch.Size([64, 3, 1260])\n",
      "torch.Size([64])\n",
      "9\n",
      "torch.Size([64, 3, 1260])\n",
      "torch.Size([64])\n",
      "10\n",
      "torch.Size([64, 3, 1260])\n",
      "torch.Size([64])\n",
      "11\n",
      "torch.Size([64, 3, 1260])\n",
      "torch.Size([64])\n",
      "12\n",
      "torch.Size([64, 3, 1260])\n",
      "torch.Size([64])\n",
      "13\n",
      "torch.Size([64, 3, 1260])\n",
      "torch.Size([64])\n",
      "14\n",
      "torch.Size([64, 3, 1260])\n",
      "torch.Size([64])\n",
      "15\n",
      "torch.Size([64, 3, 1260])\n",
      "torch.Size([64])\n",
      "16\n",
      "torch.Size([64, 3, 1260])\n",
      "torch.Size([64])\n",
      "17\n",
      "torch.Size([64, 3, 1260])\n",
      "torch.Size([64])\n",
      "18\n",
      "torch.Size([64, 3, 1260])\n",
      "torch.Size([64])\n",
      "19\n",
      "torch.Size([16, 3, 1260])\n",
      "torch.Size([16])\n",
      "20\n"
     ]
    }
   ],
   "source": [
    "# get one batch of data\n",
    "count = 0\n",
    "for data, labels in train_loader:\n",
    "    print(data.shape)\n",
    "    print(labels.shape)\n",
    "    count += 1\n",
    "    print(count)\n"
   ]
  },
  {
   "cell_type": "code",
   "execution_count": 79,
   "metadata": {},
   "outputs": [
    {
     "name": "stdout",
     "output_type": "stream",
     "text": [
      "torch.Size([1260])\n",
      "2\n",
      "['i' 'c' 'i' 'g' 'g' 'j' 'g' 'n' 'g' 'n' 'n' 'n' 'c' 'n' 'c' 'c' 'n' 'z'\n",
      " 'g' 'j' 'c' 'j' 'g' 'z' 'm' 'm' 'g' 'z' 'n' 'n' 'n' 'j' 'i' 'z' 'm' 'm'\n",
      " 'g' 'm' 'm' 'z' 'g' 'g' 'i' 'c' 'm' 'j' 'n' 'm' 'm' 'n' 'm' 'j' 'z' 'j'\n",
      " 'i' 'i' 'c' 'c' 'm' 'n' 'i' 'g' 'j' 'i']\n",
      "torch.Size([1260])\n",
      "2\n",
      "['i' 'j' 'j' 'j' 'j' 'm' 'j' 'z' 'j' 'i' 'i' 'j' 'c' 'm' 'c' 'z' 'i' 'i'\n",
      " 'c' 'z' 'g' 'g' 'z' 'g' 'c' 'm' 'g' 'm' 'i' 'c' 'j' 'i' 'z' 'g' 'z' 'i'\n",
      " 'm' 'g' 'm' 'c' 'n' 'm' 'c' 'c' 'c' 'z' 'g' 'c' 'z' 'n' 'z' 'i' 'j' 'g'\n",
      " 'g' 'g' 'z' 'c' 'c' 'm' 'n' 'i' 'n' 'j']\n",
      "torch.Size([1260])\n",
      "1\n",
      "['g' 'g' 'c' 'i' 'c' 'g' 'j' 'j' 'm' 'i' 'j' 'j' 'm' 'g' 'c' 'z' 'z' 'm'\n",
      " 'z' 'i' 'i' 'c' 'i' 'g' 'm' 'z' 'm' 'i' 'i' 'n' 'z' 'c' 'z' 'i' 'z' 'c'\n",
      " 'c' 'g' 'g' 'z' 'g' 'n' 'm' 'i' 'z' 'i' 'i' 'c' 'n' 'c' 'n' 'n' 'n' 'm'\n",
      " 'j' 'n' 'z' 'g' 'j' 'n' 'n' 'm' 'i' 'j']\n",
      "torch.Size([1260])\n",
      "5\n",
      "['n' 'c' 'm' 'g' 'm' 'm' 'i' 'c' 'i' 'm' 'c' 'j' 'i' 'z' 'c' 'z' 'j' 'n'\n",
      " 'c' 'g' 'i' 'g' 'm' 'j' 'z' 'n' 'c' 'm' 'c' 'n' 'n' 'n' 'z' 'm' 'n' 'z'\n",
      " 'm' 'g' 'n' 'z' 'n' 'c' 'i' 'i' 'j' 'm' 'c' 'n' 'j' 'm' 'j' 'j' 'c' 'c'\n",
      " 'g' 'n' 'n' 'z' 'm' 'n' 'j' 'i' 'i' 'g']\n",
      "torch.Size([1260])\n",
      "2\n",
      "['i' 'j' 'g' 'm' 'z' 'z' 'n' 'c' 'j' 'm' 'j' 'z' 'm' 'i' 'n' 'm' 'z' 'i'\n",
      " 'g' 'n' 'g' 'n' 'i' 'j']\n"
     ]
    }
   ],
   "source": [
    "for data, labels in train_loader:\n",
    "  print(data[0][0].shape)\n",
    "  print(labels[0].item())\n",
    "  # Get original labels\n",
    "  original_labels = train_dataset.encoder.inverse_transform(labels)\n",
    "  print(original_labels)"
   ]
  },
  {
   "cell_type": "markdown",
   "metadata": {},
   "source": [
    "### Interpolated data"
   ]
  },
  {
   "cell_type": "code",
   "execution_count": 11,
   "metadata": {},
   "outputs": [
    {
     "name": "stdout",
     "output_type": "stream",
     "text": [
      "torch.Size([64, 3, 1260])\n",
      "torch.Size([64])\n",
      "torch.Size([64, 3, 1260])\n",
      "torch.Size([64])\n",
      "torch.Size([64, 3, 1260])\n",
      "torch.Size([64])\n",
      "torch.Size([64, 3, 1260])\n",
      "torch.Size([64])\n",
      "torch.Size([64, 3, 1260])\n",
      "torch.Size([64])\n",
      "torch.Size([64, 3, 1260])\n",
      "torch.Size([64])\n",
      "torch.Size([64, 3, 1260])\n",
      "torch.Size([64])\n",
      "torch.Size([64, 3, 1260])\n",
      "torch.Size([64])\n",
      "torch.Size([64, 3, 1260])\n",
      "torch.Size([64])\n",
      "torch.Size([64, 3, 1260])\n",
      "torch.Size([64])\n",
      "torch.Size([64, 3, 1260])\n",
      "torch.Size([64])\n",
      "torch.Size([64, 3, 1260])\n",
      "torch.Size([64])\n",
      "torch.Size([64, 3, 1260])\n",
      "torch.Size([64])\n",
      "torch.Size([64, 3, 1260])\n",
      "torch.Size([64])\n",
      "torch.Size([4, 3, 1260])\n",
      "torch.Size([4])\n"
     ]
    }
   ],
   "source": [
    "def numerical_sort(value):\n",
    "    numbers = re.findall(r'\\d+', value)\n",
    "    return int(numbers[0]) if numbers else float('inf')\n",
    "\n",
    "class HandLandmarkDataset(Dataset):\n",
    "    def __init__(self, root_dir, labels, target_frames=60):\n",
    "        self.root_dir = root_dir\n",
    "        self.labels = labels\n",
    "        self.target_frames = target_frames\n",
    "        self.data = []\n",
    "        self.load_data()\n",
    "\n",
    "    def load_data(self):\n",
    "        for label in self.labels:\n",
    "            label_dir = os.path.join(self.root_dir, label)\n",
    "            if not os.path.isdir(label_dir):\n",
    "                continue\n",
    "            for capture_folder in os.listdir(label_dir):\n",
    "                capture_dir = os.path.join(label_dir, capture_folder)\n",
    "                if os.path.isdir(capture_dir):\n",
    "                    frames = self.load_and_interpolate_frames(capture_dir)\n",
    "                    if frames is not None:\n",
    "                        self.data.append((frames, label))\n",
    "\n",
    "    def load_and_interpolate_frames(self, capture_dir):\n",
    "        # List all .txt files in the capture_dir, sort them numerically using numerical_sort\n",
    "        frame_files = sorted([os.path.join(capture_dir, f) for f in os.listdir(capture_dir) if f.endswith('.txt')], key=numerical_sort)\n",
    "        \n",
    "        # If no frame files are found, return None\n",
    "        if len(frame_files) == 0:\n",
    "            return None\n",
    "\n",
    "        frames = []  # Initialize an empty list to hold frames\n",
    "\n",
    "        # Iterate over each frame file\n",
    "        for frame_file in frame_files:\n",
    "            with open(frame_file, 'r') as file:  # Open the frame file for reading\n",
    "                landmarks = []  # Initialize an empty list to hold landmarks for the current frame\n",
    "                for line in file:  # Read each line in the file\n",
    "                    # Convert each line of text into a list of floats and append to landmarks\n",
    "                    landmarks.append(list(map(float, line.strip().split())))\n",
    "                # Append the landmarks for the current frame to the frames list\n",
    "                # Uncomment the next line if you want to flatten the landmarks\n",
    "                frames.append(landmarks)\n",
    "\n",
    "        # if the parent folder of the capture_dir is 'A', print shape of frames\n",
    "        # if os.path.basename(os.path.dirname(capture_dir)) == 'A':\n",
    "        #     print(np.array(frames).shape)\n",
    "\n",
    "        # Convert the frames list to a NumPy array\n",
    "        frames = np.array(frames)\n",
    "        original_frames = frames.shape[0]  # Get the number of frames in the frames array\n",
    "        \n",
    "        # If the number of original frames matches the target number of frames, return the frames as-is\n",
    "        if original_frames == self.target_frames:\n",
    "            return frames\n",
    "        else:\n",
    "            # Otherwise, interpolate the frames to match the target number of frames\n",
    "            x = np.linspace(0, 1, original_frames)  # Create a linear space of original frame indices\n",
    "            x_new = np.linspace(0, 1, self.target_frames)  # Create a linear space of target frame indices\n",
    "            \n",
    "            # Perform cubic interpolation along the frame axis\n",
    "            interpolated_frames = interp1d(x, frames, kind='cubic', axis=0)(x_new)\n",
    "\n",
    "            # if os.path.basename(os.path.dirname(capture_dir)) == 'A':\n",
    "            #     print(np.array(interpolated_frames).shape)\n",
    "            \n",
    "            # Return the interpolated frames\n",
    "            return interpolated_frames\n",
    "\n",
    "\n",
    "    def __len__(self):\n",
    "        return len(self.data)\n",
    "\n",
    "    def __getitem__(self, idx):\n",
    "        frames, label = self.data[idx]\n",
    "        frames = torch.tensor(frames, dtype=torch.float32)\n",
    "        # print the shape of frames if the label is 'A'\n",
    "        if os.path.basename(os.path.dirname(self.root_dir)) == 'A':\n",
    "            print(np.array(frames).shape)\n",
    "        frames = frames.view(-1, 3).transpose(0, 1)  # Reshape to (1260, 3) and transpose to (3, 1260)\n",
    "        if os.path.basename(os.path.dirname(self.root_dir)) == 'A':\n",
    "            print(np.array(frames).shape)\n",
    "        label_idx = self.labels.index(label)\n",
    "        return frames, label_idx\n",
    "\n",
    "def collate_fn(batch):\n",
    "    frames = [item[0] for item in batch]\n",
    "    labels = [item[1] for item in batch]\n",
    "    frames = torch.stack(frames)\n",
    "    labels = torch.tensor(labels)\n",
    "    return frames, labels\n",
    "\n",
    "# Parameters\n",
    "root_dir = '../../Jesus-data/downloads'\n",
    "labels = list(\"ABCDEFGHIJKLMNOPQRSTUVWXYZ\")  # Add any other labels if needed\n",
    "batch_size = 64\n",
    "\n",
    "# Create dataset and data loader\n",
    "dataset = HandLandmarkDataset(root_dir, labels)\n",
    "data_loader = DataLoader(dataset, batch_size=batch_size, shuffle=True, collate_fn=collate_fn)\n",
    "\n",
    "# Example usage\n",
    "for batch in data_loader:\n",
    "    inputs, targets = batch\n",
    "    print(inputs.shape)  # Should be (batch_size, 60, 63)\n",
    "    print(targets.shape)  # Should be (batch_size,)\n",
    "    # Further processing...\n",
    "\n"
   ]
  },
  {
   "cell_type": "markdown",
   "metadata": {},
   "source": [
    "### Concatenated Data"
   ]
  },
  {
   "cell_type": "code",
   "execution_count": 15,
   "metadata": {},
   "outputs": [
    {
     "name": "stdout",
     "output_type": "stream",
     "text": [
      "torch.Size([64, 3, 1260])\n",
      "torch.Size([64])\n"
     ]
    }
   ],
   "source": [
    "# Define the numerical sort function\n",
    "def numerical_sort(value):\n",
    "    import re\n",
    "    numbers = re.findall(r'\\d+', value)\n",
    "    return int(numbers[0]) if numbers else float('inf')\n",
    "\n",
    "# Define the LandmarkDataset class\n",
    "class LandmarkDataset(Dataset):\n",
    "    def __init__(self, files, labels):\n",
    "        self.files = files\n",
    "        self.encoder = LabelEncoder()\n",
    "        self.labels = self.encoder.fit_transform([label.upper() for label in labels])\n",
    "\n",
    "    def get_original_labels(self, encoded_labels):\n",
    "        return self.encoder.inverse_transform(encoded_labels)\n",
    "        \n",
    "    def __len__(self):\n",
    "        return len(self.files)\n",
    "\n",
    "    def __getitem__(self, idx):\n",
    "        with open(self.files[idx], 'r') as f:\n",
    "            data_list = json.load(f)\n",
    "            data = torch.tensor(data_list).view(-1, 3).transpose(0, 1)\n",
    "        label = torch.tensor(self.labels[idx])\n",
    "        return data, label\n",
    "\n",
    "# Define the HandLandmarkDataset class\n",
    "class HandLandmarkDataset(Dataset):\n",
    "    def __init__(self, root_dir, labels, target_frames=60):\n",
    "        self.root_dir = root_dir\n",
    "        self.labels = [label.upper() for label in labels]  # Convert labels to uppercase\n",
    "        self.target_frames = target_frames\n",
    "        self.data = []\n",
    "        self.load_data()\n",
    "\n",
    "    def load_data(self):\n",
    "        for label in self.labels:\n",
    "            label_dir = os.path.join(self.root_dir, label)\n",
    "            if not os.path.isdir(label_dir):\n",
    "                continue\n",
    "            for capture_folder in os.listdir(label_dir):\n",
    "                capture_dir = os.path.join(label_dir, capture_folder)\n",
    "                if os.path.isdir(capture_dir):\n",
    "                    frames = self.load_and_interpolate_frames(capture_dir)\n",
    "                    if frames is not None:\n",
    "                        self.data.append((frames, label))\n",
    "\n",
    "    def load_and_interpolate_frames(self, capture_dir):\n",
    "        frame_files = sorted([os.path.join(capture_dir, f) for f in os.listdir(capture_dir) if f.endswith('.txt')], key=numerical_sort)\n",
    "        if len(frame_files) == 0:\n",
    "            return None\n",
    "\n",
    "        frames = []\n",
    "        for frame_file in frame_files:\n",
    "            with open(frame_file, 'r') as file:\n",
    "                landmarks = [list(map(float, line.strip().split())) for line in file]\n",
    "                frames.append(landmarks)\n",
    "\n",
    "        frames = np.array(frames)\n",
    "        original_frames = frames.shape[0]\n",
    "        if original_frames == self.target_frames:\n",
    "            return frames\n",
    "        else:\n",
    "            x = np.linspace(0, 1, original_frames)\n",
    "            x_new = np.linspace(0, 1, self.target_frames)\n",
    "            return interp1d(x, frames, kind='cubic', axis=0)(x_new)\n",
    "\n",
    "    def __len__(self):\n",
    "        return len(self.data)\n",
    "\n",
    "    def __getitem__(self, idx):\n",
    "        frames, label = self.data[idx]\n",
    "        frames = torch.tensor(frames, dtype=torch.float32).view(-1, 3).transpose(0, 1)\n",
    "        label_idx = self.labels.index(label)\n",
    "        return frames, label_idx\n",
    "\n",
    "def collate_fn(batch):\n",
    "    data = torch.stack([item[0] for item in batch])\n",
    "    labels = torch.tensor([item[1] for item in batch])\n",
    "    return data, labels\n",
    "\n",
    "# Load json files and their labels\n",
    "json_files = glob.glob('../../data-gen/data/**/*.json', recursive=True)\n",
    "labels = [os.path.basename(os.path.dirname(file)).upper() for file in json_files]  # Convert labels to uppercase\n",
    "\n",
    "# Create LandmarkDataset\n",
    "landmark_dataset = LandmarkDataset(json_files, labels)\n",
    "\n",
    "# Define root directory and labels for HandLandmarkDataset\n",
    "root_dir = '../../Jesus-data/downloads'\n",
    "hand_labels = list(\"ABCDEFGHIJKLMNOPQRSTUVWXYZ\")\n",
    "\n",
    "# Create HandLandmarkDataset\n",
    "hand_dataset = HandLandmarkDataset(root_dir, hand_labels)\n",
    "\n",
    "# Combine both datasets\n",
    "combined_dataset = torch.utils.data.ConcatDataset([landmark_dataset, hand_dataset])\n",
    "\n",
    "# Split the combined dataset into train and validation sets using train_test_split\n",
    "combined_size = len(combined_dataset)\n",
    "indices = list(range(combined_size))\n",
    "train_indices, val_indices = train_test_split(indices, test_size=0.2, random_state=42)\n",
    "\n",
    "train_sampler = torch.utils.data.SubsetRandomSampler(train_indices)\n",
    "val_sampler = torch.utils.data.SubsetRandomSampler(val_indices)\n",
    "\n",
    "batch_size = 64\n",
    "train_loader = DataLoader(combined_dataset, batch_size=batch_size, sampler=train_sampler, collate_fn=collate_fn)\n",
    "val_loader = DataLoader(combined_dataset, batch_size=batch_size, sampler=val_sampler, collate_fn=collate_fn)\n",
    "\n",
    "# Get one batch of data\n",
    "for data, labels in train_loader:\n",
    "    print(data.shape)\n",
    "    print(labels.shape)\n",
    "    break\n"
   ]
  },
  {
   "cell_type": "code",
   "execution_count": 17,
   "metadata": {},
   "outputs": [
    {
     "name": "stdout",
     "output_type": "stream",
     "text": [
      "Label A: 80\n",
      "Label B: 80\n",
      "Label C: 130\n",
      "Label D: 80\n",
      "Label E: 80\n",
      "Label F: 80\n",
      "Label G: 130\n",
      "Label H: 80\n",
      "Label I: 110\n",
      "Label J: 130\n",
      "Label K: 80\n",
      "Label L: 80\n",
      "Label M: 130\n",
      "Label N: 130\n",
      "Label O: 110\n",
      "Label P: 80\n",
      "Label Q: 80\n",
      "Label R: 80\n",
      "Label S: 80\n",
      "Label T: 80\n",
      "Label U: 80\n",
      "Label V: 80\n",
      "Label W: 80\n",
      "Label X: 80\n",
      "Label Y: 80\n",
      "Label Z: 130\n"
     ]
    }
   ],
   "source": [
    "# Function to count the number of data samples for each label\n",
    "def count_labels(dataset):\n",
    "    label_counts = {}\n",
    "    for _, label in dataset:\n",
    "        original_label = dataset.datasets[0].get_original_labels([label])[0]\n",
    "        if original_label in label_counts:\n",
    "            label_counts[original_label] += 1\n",
    "        else:\n",
    "            label_counts[original_label] = 1\n",
    "    return label_counts\n",
    "\n",
    "# Count the number of data samples for each label in the combined dataset\n",
    "label_counts = count_labels(combined_dataset)\n",
    "\n",
    "# Sort the label counts alphabetically and print\n",
    "for label in sorted(label_counts.keys()):\n",
    "    print(f\"Label {label}: {label_counts[label]}\")\n"
   ]
  },
  {
   "cell_type": "markdown",
   "metadata": {},
   "source": [
    "### Randomly Horizontally mirrored data"
   ]
  },
  {
   "cell_type": "markdown",
   "metadata": {},
   "source": [
    "1. Augmentation Parameter: Both LandmarkDataset and HandLandmarkDataset now have an augment parameter that controls whether augmentation should be applied.\n",
    "1. Mirroring: When augmentation is enabled (augment=True), the x-coordinates of the hand landmarks are mirrored with a 50% probability.\n",
    "1. Dataset Creation: The train datasets are created with augment=True, while the validation datasets are created without augmentation to ensure that validation data remains consistent.\n",
    "1. Combining Datasets: The train and validation datasets are combined and split, as before.\n",
    "Counting and Printing Labels: The total number of samples for each label is counted and printed.\n",
    "\n",
    "the training datasets will include augmented data (with horizontal mirroring), while the validation datasets will not be augmented. \n",
    "\n",
    "1. Separate Dataset Creation for Train and Validation:\n",
    "\n",
    "- train_landmark_dataset and val_landmark_dataset are created with augment=True and augment=False, respectively.\n",
    "- train_hand_dataset and val_hand_dataset are similarly created.\n",
    "1. Combine Datasets:\n",
    "\n",
    "- train_combined_dataset is created by concatenating train_landmark_dataset and train_hand_dataset.\n",
    "- val_combined_dataset is created by concatenating val_landmark_dataset and val_hand_dataset.\n",
    "1. Data Loaders:\n",
    "\n",
    "- Data loaders are created for both train and validation datasets, using the combined datasets."
   ]
  },
  {
   "cell_type": "code",
   "execution_count": 58,
   "metadata": {},
   "outputs": [
    {
     "name": "stdout",
     "output_type": "stream",
     "text": [
      "torch.Size([64, 3, 1260])\n",
      "torch.Size([64])\n"
     ]
    }
   ],
   "source": [
    "# Define the numerical sort function\n",
    "def numerical_sort(value):\n",
    "    import re\n",
    "    numbers = re.findall(r'\\d+', value)\n",
    "    return int(numbers[0]) if numbers else float('inf')\n",
    "\n",
    "# Define the LandmarkDataset class\n",
    "class LandmarkDataset(Dataset):\n",
    "    def __init__(self, files, labels, augment=False):\n",
    "        self.files = files\n",
    "        self.encoder = LabelEncoder()\n",
    "        self.labels = self.encoder.fit_transform([label.upper() for label in labels])\n",
    "        self.augment = augment\n",
    "\n",
    "    def get_original_labels(self, encoded_labels):\n",
    "        return self.encoder.inverse_transform(encoded_labels)\n",
    "        \n",
    "    def __len__(self):\n",
    "        return len(self.files)\n",
    "\n",
    "    def __getitem__(self, idx):\n",
    "        with open(self.files[idx], 'r') as f:\n",
    "            data_list = json.load(f)\n",
    "            data = torch.tensor(data_list).view(-1, 3)\n",
    "            if self.augment and np.random.rand() > 0.5:\n",
    "                data[:, 0] = 1 - data[:, 0]  # Mirroring x-coordinates\n",
    "            data = data.transpose(0, 1)\n",
    "        label = torch.tensor(self.labels[idx])\n",
    "        return data, label\n",
    "\n",
    "# Define the HandLandmarkDataset class\n",
    "class HandLandmarkDataset(Dataset):\n",
    "    def __init__(self, root_dir, labels, target_frames=60, augment=False):\n",
    "        self.root_dir = root_dir\n",
    "        self.labels = [label.upper() for label in labels]  # Convert labels to uppercase\n",
    "        self.target_frames = target_frames\n",
    "        self.augment = augment\n",
    "        self.data = []\n",
    "        self.load_data()\n",
    "\n",
    "    def load_data(self):\n",
    "        for label in self.labels:\n",
    "            label_dir = os.path.join(self.root_dir, label)\n",
    "            if not os.path.isdir(label_dir):\n",
    "                continue\n",
    "            for capture_folder in os.listdir(label_dir):\n",
    "                capture_dir = os.path.join(label_dir, capture_folder)\n",
    "                if os.path.isdir(capture_dir):\n",
    "                    frames = self.load_and_interpolate_frames(capture_dir)\n",
    "                    if frames is not None:\n",
    "                        self.data.append((frames, label))\n",
    "\n",
    "    def load_and_interpolate_frames(self, capture_dir):\n",
    "        frame_files = sorted([os.path.join(capture_dir, f) for f in os.listdir(capture_dir) if f.endswith('.txt')], key=numerical_sort)\n",
    "        if len(frame_files) == 0:\n",
    "            return None\n",
    "\n",
    "        frames = []\n",
    "        for frame_file in frame_files:\n",
    "            with open(frame_file, 'r') as file:\n",
    "                landmarks = [list(map(float, line.strip().split())) for line in file]\n",
    "                frames.append(landmarks)\n",
    "\n",
    "        frames = np.array(frames)\n",
    "        original_frames = frames.shape[0]\n",
    "        if original_frames == self.target_frames:\n",
    "            return frames\n",
    "        else:\n",
    "            x = np.linspace(0, 1, original_frames)\n",
    "            x_new = np.linspace(0, 1, self.target_frames)\n",
    "            return interp1d(x, frames, kind='cubic', axis=0)(x_new)\n",
    "\n",
    "    def __len__(self):\n",
    "        return len(self.data)\n",
    "\n",
    "    def __getitem__(self, idx):\n",
    "        frames, label = self.data[idx]\n",
    "        frames = torch.tensor(frames, dtype=torch.float32).view(-1, 3)\n",
    "        if self.augment and np.random.rand() > 0.5:\n",
    "            frames[:, 0] = 1 - frames[:, 0]  # Mirroring x-coordinates\n",
    "        frames = frames.transpose(0, 1)\n",
    "        label_idx = self.labels.index(label)\n",
    "        return frames, label_idx\n",
    "\n",
    "def collate_fn(batch):\n",
    "    data = torch.stack([item[0] for item in batch])\n",
    "    labels = torch.tensor([item[1] for item in batch])\n",
    "    return data, labels\n",
    "\n",
    "# Load json files and their labels\n",
    "json_files = glob.glob('../../data-gen/data/**/*.json', recursive=True)\n",
    "labels = [os.path.basename(os.path.dirname(file)).upper() for file in json_files]  # Convert labels to uppercase\n",
    "\n",
    "# Create LandmarkDataset\n",
    "train_landmark_dataset = LandmarkDataset(json_files, labels, augment=True)  # Augment train data\n",
    "val_landmark_dataset = LandmarkDataset(json_files, labels, augment=False)  # Do not augment validation data\n",
    "\n",
    "# Define root directory and labels for HandLandmarkDataset\n",
    "root_dir = '../../Jesus-data/downloads'\n",
    "hand_labels = list(\"ABCDEFGHIJKLMNOPQRSTUVWXYZ\")\n",
    "\n",
    "# Create HandLandmarkDataset\n",
    "train_hand_dataset = HandLandmarkDataset(root_dir, hand_labels, augment=True)  # Augment train data\n",
    "val_hand_dataset = HandLandmarkDataset(root_dir, hand_labels, augment=False)  # Do not augment validation data\n",
    "\n",
    "# Combine both datasets\n",
    "train_combined_dataset = torch.utils.data.ConcatDataset([train_landmark_dataset, train_hand_dataset])\n",
    "val_combined_dataset = torch.utils.data.ConcatDataset([val_landmark_dataset, val_hand_dataset])\n",
    "\n",
    "# Split the combined dataset into train and validation sets using train_test_split\n",
    "combined_size = len(train_combined_dataset)\n",
    "indices = list(range(combined_size))\n",
    "train_indices, val_indices = train_test_split(indices, test_size=0.2, random_state=42)\n",
    "\n",
    "train_sampler = torch.utils.data.SubsetRandomSampler(train_indices)\n",
    "val_sampler = torch.utils.data.SubsetRandomSampler(val_indices)\n",
    "\n",
    "batch_size = 64\n",
    "train_loader = DataLoader(train_combined_dataset, batch_size=batch_size, sampler=train_sampler, collate_fn=collate_fn)\n",
    "val_loader = DataLoader(val_combined_dataset, batch_size=batch_size, sampler=val_sampler, collate_fn=collate_fn)\n",
    "\n",
    "# Get one batch of data\n",
    "for data, labels in train_loader:\n",
    "    print(data.shape)\n",
    "    print(labels.shape)\n",
    "    break"
   ]
  },
  {
   "cell_type": "code",
   "execution_count": 59,
   "metadata": {},
   "outputs": [
    {
     "name": "stdout",
     "output_type": "stream",
     "text": [
      "Label A: 80\n",
      "Label B: 80\n",
      "Label C: 130\n",
      "Label D: 80\n",
      "Label E: 80\n",
      "Label F: 80\n",
      "Label G: 130\n",
      "Label H: 80\n",
      "Label I: 110\n",
      "Label J: 130\n",
      "Label K: 80\n",
      "Label L: 80\n",
      "Label M: 130\n",
      "Label N: 130\n",
      "Label O: 110\n",
      "Label P: 80\n",
      "Label Q: 80\n",
      "Label R: 80\n",
      "Label S: 80\n",
      "Label T: 80\n",
      "Label U: 80\n",
      "Label V: 80\n",
      "Label W: 80\n",
      "Label X: 80\n",
      "Label Y: 80\n",
      "Label Z: 130\n"
     ]
    }
   ],
   "source": [
    "# Function to count the number of data samples for each label\n",
    "def count_labels(dataset):\n",
    "    label_counts = {}\n",
    "    for _, label in dataset:\n",
    "        original_label = dataset.datasets[0].get_original_labels([label])[0]\n",
    "        if original_label in label_counts:\n",
    "            label_counts[original_label] += 1\n",
    "        else:\n",
    "            label_counts[original_label] = 1\n",
    "    return label_counts\n",
    "\n",
    "# Count the number of data samples for each label in the combined dataset\n",
    "label_counts = count_labels(combined_dataset)\n",
    "\n",
    "# Sort the label counts alphabetically and print\n",
    "for label in sorted(label_counts.keys()):\n",
    "    print(f\"Label {label}: {label_counts[label]}\")"
   ]
  },
  {
   "cell_type": "markdown",
   "metadata": {},
   "source": [
    "## Model Set Up"
   ]
  },
  {
   "cell_type": "markdown",
   "metadata": {},
   "source": [
    "```txt\n",
    "Model\n",
    "├── Input Layer\n",
    "│   └── Conv1D\n",
    "│       └── MaxPooling1D\n",
    "│           └── Flatten\n",
    "│               └── Dense\n",
    "│                   ├── Concatenate (Final Layer)\n",
    "│                   └── Reshape\n",
    "│                       └── GRU\n",
    "│                           └── GRU_1\n",
    "│                               └── Dense_1\n",
    "│                                   └── Concatenate (Final Layer)\n",
    "``` \n",
    "PyTorch's Conv1D layer expects input in the form (batch_size, num_channels, length). In your case, you can consider each coordinate as a channel. So, your input to the Conv1D layer would be (batch_size, 3, 1260), where 1260 is the product of 60 (frames) and 21 (landmarks).\n",
    "\n",
    "(60, 21, 3) ==> (1260, 3) ==> (3, 1260) ==> (batch_size, 3, 1260)\n",
    "\n",
    "In PyTorch, it's common to leave out the softmax activation function in the model and instead use the nn.CrossEntropyLoss loss function during training, which applies the softmax function internally. Then, when making predictions, you can apply the softmax function to the model's outputs to get probabilities."
   ]
  },
  {
   "cell_type": "code",
   "execution_count": 60,
   "metadata": {},
   "outputs": [
    {
     "name": "stdout",
     "output_type": "stream",
     "text": [
      "==========================================================================================\n",
      "Layer (type:depth-idx)                   Output Shape              Param #\n",
      "==========================================================================================\n",
      "CNN_GRU_Model                            [64, 26]                  --\n",
      "├─Conv1d: 1-1                            [64, 64, 1258]            640\n",
      "├─MaxPool1d: 1-2                         [64, 64, 629]             --\n",
      "├─Flatten: 1-3                           [64, 40256]               --\n",
      "├─Linear: 1-4                            [64, 64]                  2,576,448\n",
      "├─GRU: 1-5                               [64, 1, 100]              49,800\n",
      "├─GRU: 1-6                               [64, 1, 100]              60,600\n",
      "├─Linear: 1-7                            [64, 64]                  6,464\n",
      "├─Linear: 1-8                            [64, 26]                  3,354\n",
      "==========================================================================================\n",
      "Total params: 2,697,306\n",
      "Trainable params: 2,697,306\n",
      "Non-trainable params: 0\n",
      "Total mult-adds (Units.MEGABYTES): 224.11\n",
      "==========================================================================================\n",
      "Input size (MB): 0.97\n",
      "Forward/backward pass size (MB): 41.40\n",
      "Params size (MB): 10.79\n",
      "Estimated Total Size (MB): 53.16\n",
      "==========================================================================================\n"
     ]
    }
   ],
   "source": [
    "class CNN_GRU_Model(nn.Module):\n",
    "    def __init__(self):\n",
    "        super(CNN_GRU_Model, self).__init__()\n",
    "        self.conv1d = nn.Conv1d(3, 64, kernel_size=3)\n",
    "        self.maxpooling1d = nn.MaxPool1d(2)\n",
    "        self.flatten = nn.Flatten()\n",
    "        self.dense = nn.Linear(40256, 64)  # Adjust this based on the output of the previous layer\n",
    "        self.gru = nn.GRU(64, 100, batch_first=True)\n",
    "        self.gru_1 = nn.GRU(100, 100, batch_first=True)\n",
    "        self.dense_1 = nn.Linear(100, 64)\n",
    "        self.final_dense = nn.Linear(128, 26)  # Final Dense layer for 26 classes\n",
    "\n",
    "    def forward(self, x):\n",
    "        x = self.conv1d(x)\n",
    "        x = self.maxpooling1d(x)\n",
    "        x = self.flatten(x)\n",
    "        dense_output = self.dense(x)\n",
    "        x = dense_output.view(dense_output.shape[0], 1, -1)\n",
    "        x, _ = self.gru(x)\n",
    "        x, _ = self.gru_1(x)\n",
    "        x = self.dense_1(x[:, -1, :])\n",
    "        x = torch.cat((dense_output, x), dim=1)\n",
    "        x = self.final_dense(x)\n",
    "        return x\n",
    "\n",
    "# Instantiate the model\n",
    "model = CNN_GRU_Model().to(device)\n",
    "\n",
    "# Print model summary\n",
    "print(summary(model, input_size=(batch_size, 3, 1260)))\n"
   ]
  },
  {
   "cell_type": "markdown",
   "metadata": {},
   "source": [
    "## Training"
   ]
  },
  {
   "cell_type": "code",
   "execution_count": 61,
   "metadata": {},
   "outputs": [
    {
     "data": {
      "text/plain": [
       "True"
      ]
     },
     "execution_count": 61,
     "metadata": {},
     "output_type": "execute_result"
    }
   ],
   "source": [
    "wandb.login()"
   ]
  },
  {
   "cell_type": "code",
   "execution_count": 20,
   "metadata": {},
   "outputs": [],
   "source": [
    "def calculate_accuracy(loader):\n",
    "    correct = 0\n",
    "    total = 0\n",
    "    # Set model to evaluation mode\n",
    "    model.eval()\n",
    "    # Disable gradient calculation (unnecessary for inference)\n",
    "    with torch.no_grad():\n",
    "        for inputs, labels in loader:\n",
    "            inputs, labels = inputs.to(device), labels.to(device)\n",
    "            outputs = model(inputs)\n",
    "            _, predicted = torch.max(outputs.data, 1)\n",
    "            total += labels.size(0)\n",
    "            correct += (predicted == labels).sum().item()\n",
    "    return 100 * correct / total"
   ]
  },
  {
   "cell_type": "code",
   "execution_count": 67,
   "metadata": {},
   "outputs": [
    {
     "name": "stdout",
     "output_type": "stream",
     "text": [
      "Epoch 1/20, Validation accuracy: 94.26229508196721%\n",
      "Epoch 2/20, Validation accuracy: 95.49180327868852%\n",
      "Epoch 3/20, Validation accuracy: 96.31147540983606%\n",
      "Epoch 4/20, Validation accuracy: 94.05737704918033%\n",
      "Epoch 5/20, Validation accuracy: 97.3360655737705%\n",
      "Epoch 6/20, Validation accuracy: 95.28688524590164%\n",
      "Epoch 7/20, Validation accuracy: 94.05737704918033%\n",
      "Epoch 8/20, Validation accuracy: 95.69672131147541%\n",
      "Epoch 9/20, Validation accuracy: 96.10655737704919%\n",
      "Epoch 10/20, Validation accuracy: 95.90163934426229%\n",
      "Epoch 11/20, Validation accuracy: 96.10655737704919%\n",
      "Epoch 12/20, Validation accuracy: 96.51639344262296%\n",
      "Epoch 13/20, Validation accuracy: 96.51639344262296%\n",
      "Epoch 14/20, Validation accuracy: 92.62295081967213%\n",
      "Epoch 15/20, Validation accuracy: 96.51639344262296%\n",
      "Epoch 16/20, Validation accuracy: 94.26229508196721%\n",
      "Epoch 17/20, Validation accuracy: 93.85245901639344%\n",
      "Epoch 18/20, Validation accuracy: 96.10655737704919%\n",
      "Epoch 19/20, Validation accuracy: 96.31147540983606%\n",
      "Epoch 20/20, Validation accuracy: 95.28688524590164%\n"
     ]
    }
   ],
   "source": [
    "now = datetime.now()  # current date and time\n",
    "run_time = now.strftime(\"%Y-%m-%d_%H-%M-%S\")\n",
    "# run = wandb.init(project=\"sign_language\", name=f\"CNN-GRU_{run_time}\")\n",
    "\n",
    "criterion = nn.CrossEntropyLoss()\n",
    "optimizer = optim.Adam(model.parameters(), lr=0.001)\n",
    "\n",
    "num_epochs = 20\n",
    "\n",
    "train_accuracies = []\n",
    "val_accuracies = []\n",
    "losses = []\n",
    "\n",
    "for epoch in range(num_epochs):\n",
    "    # Set model to training mode\n",
    "    model.train()\n",
    "\n",
    "    # Iterate over data\n",
    "    for inputs, labels in train_loader:\n",
    "        inputs, labels = inputs.to(device), labels.to(device)\n",
    "        optimizer.zero_grad()\n",
    "        outputs = model(inputs)\n",
    "        loss = criterion(outputs, labels)\n",
    "        losses.append(loss.item())\n",
    "        loss.backward()\n",
    "        optimizer.step()\n",
    "        \n",
    "        # Log loss to WandB\n",
    "        wandb.log({\"train_loss\": loss.item()})\n",
    "\n",
    "    train_accuracy = calculate_accuracy(train_loader)\n",
    "    train_accuracies.append(train_accuracy)\n",
    "    \n",
    "    # Log train accuracy to WandB\n",
    "    wandb.log({\"train_accuracy\": train_accuracy})\n",
    "\n",
    "    # Evaluate on validation set\n",
    "    val_accuracy = calculate_accuracy(val_loader)\n",
    "    val_accuracies.append(val_accuracy)\n",
    "    \n",
    "    # Log validation accuracy to WandB\n",
    "    wandb.log({\"val_accuracy\": val_accuracy})\n",
    "    \n",
    "    print(f\"Epoch {epoch+1}/{num_epochs}, Validation accuracy: {val_accuracy}%\")\n",
    "\n",
    "# Optionally, log final metrics after training completes\n",
    "wandb.log({\"final_train_accuracy\": train_accuracies[-1], \"final_val_accuracy\": val_accuracies[-1]})\n"
   ]
  },
  {
   "cell_type": "code",
   "execution_count": 63,
   "metadata": {},
   "outputs": [],
   "source": [
    "# total_train_accuracies = []\n",
    "# total_val_accuracies = []\n",
    "# total_losses = []"
   ]
  },
  {
   "cell_type": "code",
   "execution_count": 68,
   "metadata": {},
   "outputs": [],
   "source": [
    "total_train_accuracies += train_accuracies\n",
    "total_val_accuracies += val_accuracies\n",
    "total_losses += losses"
   ]
  },
  {
   "cell_type": "code",
   "execution_count": 69,
   "metadata": {},
   "outputs": [
    {
     "name": "stdout",
     "output_type": "stream",
     "text": [
      "80\n",
      "80\n",
      "2480\n",
      "2480\n"
     ]
    }
   ],
   "source": [
    "print(len(total_train_accuracies))\n",
    "print(len(total_val_accuracies))\n",
    "print(len(total_losses))\n",
    "print(len(range(1, len(total_losses) + 1)))"
   ]
  },
  {
   "cell_type": "markdown",
   "metadata": {},
   "source": [
    "## Evaluation"
   ]
  },
  {
   "cell_type": "code",
   "execution_count": 70,
   "metadata": {},
   "outputs": [
    {
     "data": {
      "image/png": "[encoded data removed]",
      "text/plain": [
       "<Figure size 500x300 with 1 Axes>"
      ]
     },
     "metadata": {},
     "output_type": "display_data"
    }
   ],
   "source": [
    "# Create a dataframe\n",
    "df_loss = pd.DataFrame({\n",
    "    'step': range(1, len(total_losses) + 1),\n",
    "    'train_loss': total_losses,\n",
    "})\n",
    "\n",
    "# Create lineplot for losses\n",
    "plt.figure(figsize=(5, 3))\n",
    "sns.lineplot(data=df_loss, x='step', y='train_loss')\n",
    "plt.title('Training Losses over Epochs')\n",
    "plt.show()"
   ]
  },
  {
   "cell_type": "code",
   "execution_count": 71,
   "metadata": {},
   "outputs": [
    {
     "data": {
      "image/png": "[encoded data removed]",
      "text/plain": [
       "<Figure size 500x300 with 1 Axes>"
      ]
     },
     "metadata": {},
     "output_type": "display_data"
    }
   ],
   "source": [
    "# Create a dataframe\n",
    "df_acc = pd.DataFrame({\n",
    "    'epoch': range(1, len(total_train_accuracies) + 1),\n",
    "    'train_accuracy': total_train_accuracies,\n",
    "    'val_accuracy': total_val_accuracies\n",
    "})\n",
    "\n",
    "# Melt dataframe to long-form for easier plotting\n",
    "df_acc_melted = df_acc.melt('epoch', var_name='metric', value_name='values')\n",
    "\n",
    "# Create lineplot for accuracies\n",
    "plt.figure(figsize=(5, 3))\n",
    "sns.lineplot(data=df_acc_melted, x='epoch', y='values', hue='metric')\n",
    "plt.title('Training and Validation Accuracies over Epochs')\n",
    "plt.show()"
   ]
  },
  {
   "cell_type": "code",
   "execution_count": 72,
   "metadata": {},
   "outputs": [
    {
     "data": {
      "image/png": "[encoded data removed]",
      "text/plain": [
       "<Figure size 1000x1000 with 2 Axes>"
      ]
     },
     "metadata": {},
     "output_type": "display_data"
    }
   ],
   "source": [
    "model.eval()\n",
    "all_preds = []\n",
    "all_labels = []\n",
    "with torch.no_grad():\n",
    "    for inputs, labels in val_loader:\n",
    "        inputs, labels = inputs.to(device), labels.to(device)\n",
    "        outputs = model(inputs)\n",
    "        _, preds = torch.max(outputs, 1)\n",
    "        all_preds.extend(preds.cpu().numpy())\n",
    "        all_labels.extend(labels.cpu().numpy())\n",
    "\n",
    "# Compute confusion matrix\n",
    "cm = confusion_matrix(all_labels, all_preds)\n",
    "\n",
    "# Get actual labels\n",
    "alphabets = \"ABCDEFGHIJKLMNOPQRSTUVWXYZ\"\n",
    "actual_labels = [alphabets[i] for i in range(26)]\n",
    "\n",
    "# Plot confusion matrix\n",
    "plt.figure(figsize=(10, 10))\n",
    "sns.heatmap(cm, annot=True, fmt='d', cmap='coolwarm', xticklabels=actual_labels, yticklabels=actual_labels)\n",
    "plt.xlabel('Predicted')\n",
    "plt.ylabel('Actual')\n",
    "plt.show()"
   ]
  },
  {
   "cell_type": "code",
   "execution_count": 73,
   "metadata": {},
   "outputs": [
    {
     "data": {
      "image/png": "[encoded data removed]",
      "text/plain": [
       "<Figure size 500x500 with 2 Axes>"
      ]
     },
     "metadata": {},
     "output_type": "display_data"
    }
   ],
   "source": [
    "# Compute confusion matrix\n",
    "cm = confusion_matrix(all_labels, all_preds)\n",
    "\n",
    "# Plot confusion matrix\n",
    "plt.figure(figsize=(5, 5))\n",
    "sns.heatmap(cm, annot=True, fmt='d', cmap='Blues')\n",
    "plt.xlabel('Predicted')\n",
    "plt.ylabel('Actual')\n",
    "plt.show()"
   ]
  },
  {
   "cell_type": "code",
   "execution_count": 74,
   "metadata": {},
   "outputs": [
    {
     "name": "stdout",
     "output_type": "stream",
     "text": [
      "Accuracy: 0.9528688524590164\n",
      "Precision: 0.9558385155239061\n",
      "F1 Score: 0.9535943227097181\n",
      "Recall: 0.9528688524590164\n"
     ]
    }
   ],
   "source": [
    "# Collect validation features and labels\n",
    "X_val = []\n",
    "y_val = []\n",
    "\n",
    "for data in val_loader:\n",
    "    inputs, labels = data\n",
    "    X_val.extend(inputs.numpy())  # Assuming inputs is a Tensor\n",
    "    y_val.extend(labels.numpy())  # Assuming labels is a Tensor\n",
    "\n",
    "X_val = torch.tensor(X_val).to(device)\n",
    "y_val = torch.tensor(y_val).to(device)\n",
    "\n",
    "# Use your model to predict and evaluate\n",
    "model.eval()\n",
    "with torch.no_grad():\n",
    "    y_pred = model(X_val)\n",
    "    y_pred = y_pred.argmax(dim=1)\n",
    "\n",
    "# Move y_val and y_pred back to CPU for evaluation\n",
    "y_val = y_val.cpu()\n",
    "y_pred = y_pred.cpu()\n",
    "\n",
    "accuracy = accuracy_score(y_val, y_pred)\n",
    "precision = precision_score(y_val, y_pred, average='weighted') # 'weighted' accounts for label imbalance\n",
    "f1 = f1_score(y_val, y_pred, average='weighted')\n",
    "recall = recall_score(y_val, y_pred, average='weighted')\n",
    "\n",
    "print(f\"Accuracy: {accuracy}\")\n",
    "print(f\"Precision: {precision}\")\n",
    "print(f\"F1 Score: {f1}\")\n",
    "print(f\"Recall: {recall}\")\n",
    "\n",
    "# Log metrics to wandb\n",
    "wandb.log({\n",
    "    'accuracy': accuracy,\n",
    "    'precision': precision,\n",
    "    'f1_score': f1,\n",
    "    'recall': recall\n",
    "})\n"
   ]
  },
  {
   "cell_type": "code",
   "execution_count": 75,
   "metadata": {},
   "outputs": [],
   "source": [
    "torch.save(model, 'model.pth')"
   ]
  },
  {
   "cell_type": "code",
   "execution_count": 76,
   "metadata": {},
   "outputs": [
    {
     "data": {
      "text/html": [
       "<style>\n",
       "    table.wandb td:nth-child(1) { padding: 0 10px; text-align: left ; width: auto;} td:nth-child(2) {text-align: left ; width: 100%}\n",
       "    .wandb-row { display: flex; flex-direction: row; flex-wrap: wrap; justify-content: flex-start; width: 100% }\n",
       "    .wandb-col { display: flex; flex-direction: column; flex-basis: 100%; flex: 1; padding: 10px; }\n",
       "    </style>\n",
       "<div class=\"wandb-row\"><div class=\"wandb-col\"><h3>Run history:</h3><br/><table class=\"wandb\"><tr><td>accuracy</td><td>▁</td></tr><tr><td>f1_score</td><td>▁</td></tr><tr><td>final_train_accuracy</td><td>▁▆█</td></tr><tr><td>final_val_accuracy</td><td>▁█▇</td></tr><tr><td>precision</td><td>▁</td></tr><tr><td>recall</td><td>▁</td></tr><tr><td>train_accuracy</td><td>▁▄▅▆▇▇▇▇████████████████████████████████</td></tr><tr><td>train_loss</td><td>█▆▃▃▂▂▂▂▁▁▁▁▁▁▁▁▁▁▁▁▂▁▁▁▁▁▁▁▁▁▁▁▁▁▁▁▁▁▁▁</td></tr><tr><td>val_accuracy</td><td>▁▄▅▆▇▇▇▇▇▇▇█████▇█████▇███▇█████████████</td></tr></table><br/></div><div class=\"wandb-col\"><h3>Run summary:</h3><br/><table class=\"wandb\"><tr><td>accuracy</td><td>0.95287</td></tr><tr><td>f1_score</td><td>0.95359</td></tr><tr><td>final_train_accuracy</td><td>98.71926</td></tr><tr><td>final_val_accuracy</td><td>95.28689</td></tr><tr><td>precision</td><td>0.95584</td></tr><tr><td>recall</td><td>0.95287</td></tr><tr><td>train_accuracy</td><td>98.71926</td></tr><tr><td>train_loss</td><td>0.02477</td></tr><tr><td>val_accuracy</td><td>95.28689</td></tr></table><br/></div></div>"
      ],
      "text/plain": [
       "<IPython.core.display.HTML object>"
      ]
     },
     "metadata": {},
     "output_type": "display_data"
    },
    {
     "data": {
      "text/html": [
       " View run <strong style=\"color:#cdcd00\">CNN-GRU_2024-06-16_03-13-06</strong> at: <a href='https://wandb.ai/rik0/sign_language/runs/bim49vvs' target=\"_blank\">https://wandb.ai/rik0/sign_language/runs/bim49vvs</a><br/> View project at: <a href='https://wandb.ai/rik0/sign_language' target=\"_blank\">https://wandb.ai/rik0/sign_language</a><br/>Synced 5 W&B file(s), 0 media file(s), 0 artifact file(s) and 1 other file(s)"
      ],
      "text/plain": [
       "<IPython.core.display.HTML object>"
      ]
     },
     "metadata": {},
     "output_type": "display_data"
    },
    {
     "data": {
      "text/html": [
       "Find logs at: <code>./wandb/run-20240616_031306-bim49vvs/logs</code>"
      ],
      "text/plain": [
       "<IPython.core.display.HTML object>"
      ]
     },
     "metadata": {},
     "output_type": "display_data"
    }
   ],
   "source": [
    "wandb.save(\"model.pth\")\n",
    "run.finish()"
   ]
  },
  {
   "cell_type": "markdown",
   "metadata": {},
   "source": [
    "## Convert model to Other format"
   ]
  },
  {
   "cell_type": "code",
   "execution_count": 93,
   "metadata": {},
   "outputs": [],
   "source": [
    "# load model.pth\n",
    "model = torch.load('model.pth')"
   ]
  },
  {
   "cell_type": "markdown",
   "metadata": {},
   "source": [
    "### ONNX"
   ]
  },
  {
   "cell_type": "code",
   "execution_count": 77,
   "metadata": {},
   "outputs": [
    {
     "name": "stderr",
     "output_type": "stream",
     "text": [
      "/home/ubuntu/.local/share/virtualenvs/CNN-GRU-9IlhNg0D/lib/python3.11/site-packages/torch/onnx/symbolic_opset9.py:4661: UserWarning: Exporting a model to ONNX with a batch_size other than 1, with a variable length with GRU can cause an error when running the ONNX model with a different batch size. Make sure to save the model with a batch size of 1, or define the initial states (h0/c0) as inputs of the model. \n",
      "  warnings.warn(\n"
     ]
    },
    {
     "name": "stdout",
     "output_type": "stream",
     "text": [
      "Model has been saved to model_arg.onnx\n"
     ]
    }
   ],
   "source": [
    "# Create a dummy input with appropriate data type\n",
    "dummy_input = torch.randn(64, 3, 1260, device=device, dtype=torch.float32)\n",
    "\n",
    "# Specify the file path where you want to save the ONNX model\n",
    "onnx_file_path = \"model.onnx\"\n",
    "\n",
    "# Export the model to ONNX format\n",
    "torch.onnx.export(\n",
    "    model,                     # model being run\n",
    "    dummy_input,               # model input (or a tuple for multiple inputs)\n",
    "    onnx_file_path,            # where to save the model (can be a file or file-like object)\n",
    "    export_params=True,        # store the trained parameter weights inside the model file\n",
    "    opset_version=10,          # the ONNX version to export the model to\n",
    "    do_constant_folding=True,  # whether to execute constant folding for optimization\n",
    "    input_names=['input'],     # the model's input names\n",
    "    output_names=['output'],   # the model's output names\n",
    "    dynamic_axes={'input': {0: 'batch_size'}, 'output': {0: 'batch_size'}}  # variable length axes\n",
    ")\n",
    "\n",
    "\n",
    "print(f\"Model has been saved to {onnx_file_path}\")\n"
   ]
  },
  {
   "cell_type": "code",
   "execution_count": 95,
   "metadata": {},
   "outputs": [],
   "source": [
    "# import onnx\n",
    "# from onnx import helper, numpy_helper\n",
    "# import numpy as np\n",
    "\n",
    "# # Load the ONNX model\n",
    "# onnx_model = onnx.load(onnx_file_path)\n",
    "\n",
    "# # Check and convert int64 tensors to int32\n",
    "# def convert_int64_to_int32(model):\n",
    "#     for initializer in model.graph.initializer:\n",
    "#         if initializer.data_type == onnx.TensorProto.INT64:\n",
    "#             int64_data = numpy_helper.to_array(initializer)\n",
    "#             int32_data = int64_data.astype(np.int32)\n",
    "#             new_initializer = numpy_helper.from_array(int32_data, initializer.name)\n",
    "#             model.graph.initializer.remove(initializer)\n",
    "#             model.graph.initializer.append(new_initializer)\n",
    "\n",
    "#     for node in model.graph.node:\n",
    "#         for attr in node.attribute:\n",
    "#             if attr.type == onnx.AttributeProto.TENSOR and attr.t.data_type == onnx.TensorProto.INT64:\n",
    "#                 int64_data = numpy_helper.to_array(attr.t)\n",
    "#                 int32_data = int64_data.astype(np.int32)\n",
    "#                 new_tensor = numpy_helper.from_array(int32_data)\n",
    "#                 new_tensor.name = attr.t.name\n",
    "#                 attr.t.CopyFrom(new_tensor)\n",
    "\n",
    "#     return model\n",
    "\n",
    "# # Convert and save the modified model\n",
    "# onnx_model = convert_int64_to_int32(onnx_model)\n",
    "# onnx.save(onnx_model, onnx_file_path)\n",
    "\n",
    "# # Verify the ONNX model for int64 tensors\n",
    "# def check_for_int64(model):\n",
    "#     for tensor in model.graph.initializer:\n",
    "#         if tensor.data_type == onnx.TensorProto.INT64:\n",
    "#             print(f\"Found int64 tensor in initializer {tensor.name}\")\n",
    "#             return True\n",
    "#     for node in model.graph.node:\n",
    "#         for attr in node.attribute:\n",
    "#             if attr.type == onnx.AttributeProto.TENSOR and attr.t.data_type == onnx.TensorProto.INT64:\n",
    "#                 print(f\"Found int64 tensor in node {node.name}\")\n",
    "#                 return True\n",
    "#     return False\n",
    "\n",
    "# if check_for_int64(onnx_model):\n",
    "#     print(\"Model contains int64 tensors. Modify the model to use int32 tensors.\")\n",
    "# else:\n",
    "#     print(\"Model does not contain int64 tensors.\")\n",
    "\n"
   ]
  },
  {
   "cell_type": "markdown",
   "metadata": {},
   "source": [
    "### TorchScript"
   ]
  },
  {
   "cell_type": "code",
   "execution_count": 96,
   "metadata": {},
   "outputs": [],
   "source": [
    "scripted_model = torch.jit.script(model)  # Convert to TorchScript\n",
    "scripted_model.save('model_scripted.pt')  # Save the scripted model"
   ]
  },
  {
   "cell_type": "code",
   "execution_count": 97,
   "metadata": {},
   "outputs": [
    {
     "ename": "ModuleNotFoundError",
     "evalue": "No module named 'tensorflow_probability'",
     "output_type": "error",
     "traceback": [
      "\u001b[0;31m---------------------------------------------------------------------------\u001b[0m",
      "\u001b[0;31mModuleNotFoundError\u001b[0m                       Traceback (most recent call last)",
      "Cell \u001b[0;32mIn[97], line 1\u001b[0m\n\u001b[0;32m----> 1\u001b[0m \u001b[38;5;28;01mfrom\u001b[39;00m \u001b[38;5;21;01monnx_tf\u001b[39;00m\u001b[38;5;21;01m.\u001b[39;00m\u001b[38;5;21;01mbackend\u001b[39;00m \u001b[38;5;28;01mimport\u001b[39;00m prepare\n\u001b[1;32m      2\u001b[0m \u001b[38;5;28;01mimport\u001b[39;00m \u001b[38;5;21;01monnx\u001b[39;00m\n\u001b[1;32m      4\u001b[0m onnx_model \u001b[38;5;241m=\u001b[39m onnx\u001b[38;5;241m.\u001b[39mload(\u001b[38;5;124m\"\u001b[39m\u001b[38;5;124mmodel.onnx\u001b[39m\u001b[38;5;124m\"\u001b[39m)\n",
      "File \u001b[0;32m~/.local/share/virtualenvs/CNN-GRU-9IlhNg0D/lib/python3.11/site-packages/onnx_tf/__init__.py:1\u001b[0m\n\u001b[0;32m----> 1\u001b[0m \u001b[38;5;28;01mfrom\u001b[39;00m \u001b[38;5;21;01m.\u001b[39;00m \u001b[38;5;28;01mimport\u001b[39;00m backend\n\u001b[1;32m      2\u001b[0m \u001b[38;5;28;01mfrom\u001b[39;00m \u001b[38;5;21;01m.\u001b[39;00m\u001b[38;5;21;01mversion\u001b[39;00m \u001b[38;5;28;01mimport\u001b[39;00m version \u001b[38;5;28;01mas\u001b[39;00m __version__\n",
      "File \u001b[0;32m~/.local/share/virtualenvs/CNN-GRU-9IlhNg0D/lib/python3.11/site-packages/onnx_tf/backend.py:28\u001b[0m\n\u001b[1;32m     26\u001b[0m \u001b[38;5;28;01mfrom\u001b[39;00m \u001b[38;5;21;01monnx_tf\u001b[39;00m\u001b[38;5;21;01m.\u001b[39;00m\u001b[38;5;21;01mcommon\u001b[39;00m \u001b[38;5;28;01mimport\u001b[39;00m get_unique_suffix\n\u001b[1;32m     27\u001b[0m \u001b[38;5;28;01mfrom\u001b[39;00m \u001b[38;5;21;01monnx_tf\u001b[39;00m\u001b[38;5;21;01m.\u001b[39;00m\u001b[38;5;21;01mcommon\u001b[39;00m \u001b[38;5;28;01mimport\u001b[39;00m supports_device \u001b[38;5;28;01mas\u001b[39;00m common_supports_device\n\u001b[0;32m---> 28\u001b[0m \u001b[38;5;28;01mfrom\u001b[39;00m \u001b[38;5;21;01monnx_tf\u001b[39;00m\u001b[38;5;21;01m.\u001b[39;00m\u001b[38;5;21;01mcommon\u001b[39;00m\u001b[38;5;21;01m.\u001b[39;00m\u001b[38;5;21;01mhandler_helper\u001b[39;00m \u001b[38;5;28;01mimport\u001b[39;00m get_all_backend_handlers\n\u001b[1;32m     29\u001b[0m \u001b[38;5;28;01mfrom\u001b[39;00m \u001b[38;5;21;01monnx_tf\u001b[39;00m\u001b[38;5;21;01m.\u001b[39;00m\u001b[38;5;21;01mpb_wrapper\u001b[39;00m \u001b[38;5;28;01mimport\u001b[39;00m OnnxNode\n\u001b[1;32m     30\u001b[0m \u001b[38;5;28;01mfrom\u001b[39;00m \u001b[38;5;21;01monnx_tf\u001b[39;00m\u001b[38;5;21;01m.\u001b[39;00m\u001b[38;5;21;01mbackend_tf_module\u001b[39;00m \u001b[38;5;28;01mimport\u001b[39;00m BackendTFModule, TFModule\n",
      "File \u001b[0;32m~/.local/share/virtualenvs/CNN-GRU-9IlhNg0D/lib/python3.11/site-packages/onnx_tf/common/handler_helper.py:3\u001b[0m\n\u001b[1;32m      1\u001b[0m \u001b[38;5;28;01mfrom\u001b[39;00m \u001b[38;5;21;01monnx\u001b[39;00m \u001b[38;5;28;01mimport\u001b[39;00m defs\n\u001b[0;32m----> 3\u001b[0m \u001b[38;5;28;01mfrom\u001b[39;00m \u001b[38;5;21;01monnx_tf\u001b[39;00m\u001b[38;5;21;01m.\u001b[39;00m\u001b[38;5;21;01mhandlers\u001b[39;00m\u001b[38;5;21;01m.\u001b[39;00m\u001b[38;5;21;01mbackend\u001b[39;00m \u001b[38;5;28;01mimport\u001b[39;00m \u001b[38;5;241m*\u001b[39m  \u001b[38;5;66;03m# noqa\u001b[39;00m\n\u001b[1;32m      4\u001b[0m \u001b[38;5;28;01mfrom\u001b[39;00m \u001b[38;5;21;01monnx_tf\u001b[39;00m\u001b[38;5;21;01m.\u001b[39;00m\u001b[38;5;21;01mhandlers\u001b[39;00m\u001b[38;5;21;01m.\u001b[39;00m\u001b[38;5;21;01mbackend_handler\u001b[39;00m \u001b[38;5;28;01mimport\u001b[39;00m BackendHandler\n\u001b[1;32m      5\u001b[0m \u001b[38;5;28;01mimport\u001b[39;00m \u001b[38;5;21;01monnx_tf\u001b[39;00m\u001b[38;5;21;01m.\u001b[39;00m\u001b[38;5;21;01mcommon\u001b[39;00m \u001b[38;5;28;01mas\u001b[39;00m \u001b[38;5;21;01mcommon\u001b[39;00m\n",
      "File \u001b[0;32m~/.local/share/virtualenvs/CNN-GRU-9IlhNg0D/lib/python3.11/site-packages/onnx_tf/handlers/backend/bernoulli.py:2\u001b[0m\n\u001b[1;32m      1\u001b[0m \u001b[38;5;28;01mimport\u001b[39;00m \u001b[38;5;21;01mtensorflow\u001b[39;00m \u001b[38;5;28;01mas\u001b[39;00m \u001b[38;5;21;01mtf\u001b[39;00m\n\u001b[0;32m----> 2\u001b[0m \u001b[38;5;28;01mfrom\u001b[39;00m \u001b[38;5;21;01mtensorflow_probability\u001b[39;00m \u001b[38;5;28;01mimport\u001b[39;00m distributions \u001b[38;5;28;01mas\u001b[39;00m tfd\n\u001b[1;32m      4\u001b[0m \u001b[38;5;28;01mfrom\u001b[39;00m \u001b[38;5;21;01monnx_tf\u001b[39;00m\u001b[38;5;21;01m.\u001b[39;00m\u001b[38;5;21;01mhandlers\u001b[39;00m\u001b[38;5;21;01m.\u001b[39;00m\u001b[38;5;21;01mbackend_handler\u001b[39;00m \u001b[38;5;28;01mimport\u001b[39;00m BackendHandler\n\u001b[1;32m      5\u001b[0m \u001b[38;5;28;01mfrom\u001b[39;00m \u001b[38;5;21;01monnx_tf\u001b[39;00m\u001b[38;5;21;01m.\u001b[39;00m\u001b[38;5;21;01mhandlers\u001b[39;00m\u001b[38;5;21;01m.\u001b[39;00m\u001b[38;5;21;01mhandler\u001b[39;00m \u001b[38;5;28;01mimport\u001b[39;00m onnx_op\n",
      "\u001b[0;31mModuleNotFoundError\u001b[0m: No module named 'tensorflow_probability'"
     ]
    }
   ],
   "source": [
    "from onnx_tf.backend import prepare\n",
    "import onnx\n",
    "\n",
    "onnx_model = onnx.load(\"model.onnx\")\n",
    "tf_rep = prepare(onnx_model)\n",
    "tf_rep.export_graph(\"model_tf.pb\")"
   ]
  },
  {
   "cell_type": "code",
   "execution_count": null,
   "metadata": {},
   "outputs": [],
   "source": [
    "# bash command to convert the TensorFlow model to TensorFlow.js\n",
    "# tensorflowjs_converter --input_format=tf_saved_model --output_format=tfjs_graph_model model_tf web_model"
   ]
  },
  {
   "cell_type": "markdown",
   "metadata": {},
   "source": [
    "tensorflow\n",
    "pytorch -> onnx -> tensorflow -> tensorflow.js\n",
    "uses @tensorflow/tfjs on the front\n",
    "\n",
    "error when onnx -> tensorflow\n",
    "\n",
    "onnx\n",
    "pytorch -> onnx\n",
    "ueses either onnxjs or onnxruntime-web\n",
    "\n",
    "onnxjs: error when loading model\n",
    "onnxruntime-web: error with wasm"
   ]
  },
  {
   "cell_type": "code",
   "execution_count": null,
   "metadata": {},
   "outputs": [],
   "source": [
    "# Save the model state_dict\n",
    "torch.save(model.state_dict(), 'model_state_dict.pth')"
   ]
  },
  {
   "cell_type": "code",
   "execution_count": null,
   "metadata": {},
   "outputs": [
    {
     "name": "stdout",
     "output_type": "stream",
     "text": [
      "Model saved to model.json\n"
     ]
    }
   ],
   "source": [
    "import torch\n",
    "import json\n",
    "\n",
    "# Define your model class exactly as it was when you saved the model\n",
    "class CNN_GRU_Model(nn.Module):\n",
    "    def __init__(self):\n",
    "        super(CNN_GRU_Model, self).__init__()\n",
    "        self.conv1d = nn.Conv1d(3, 64, kernel_size=3)\n",
    "        self.maxpooling1d = nn.MaxPool1d(2)\n",
    "        self.flatten = nn.Flatten()\n",
    "        self.dense = nn.Linear(40256, 64)  # Adjust this based on the output of the previous layer\n",
    "        self.gru = nn.GRU(64, 100, batch_first=True)\n",
    "        self.gru_1 = nn.GRU(100, 100, batch_first=True)\n",
    "        self.dense_1 = nn.Linear(100, 64)\n",
    "        self.final_dense = nn.Linear(128, 7)  # Final Dense layer for 7 classes\n",
    "\n",
    "    def forward(self, x):\n",
    "        x = self.conv1d(x)\n",
    "        x = self.maxpooling1d(x)\n",
    "        x = self.flatten(x)\n",
    "        dense_output = self.dense(x)\n",
    "        x = dense_output.view(dense_output.shape[0], 1, -1)\n",
    "        x, _ = self.gru(x)\n",
    "        x, _ = self.gru_1(x)\n",
    "        x = self.dense_1(x[:, -1, :])\n",
    "        x = torch.cat((dense_output, x), dim=1)\n",
    "        x = self.final_dense(x)\n",
    "        return x\n",
    "\n",
    "# Load the model\n",
    "model = CNN_GRU_Model()\n",
    "\n",
    "# Load the state_dict\n",
    "state_dict = torch.load('model_state_dict.pth')\n",
    "\n",
    "# Ensure the state_dict is in the correct format (i.e., a dictionary)\n",
    "if not isinstance(state_dict, dict):\n",
    "    raise TypeError(f\"Expected state_dict to be dict-like, got {type(state_dict)}.\")\n",
    "\n",
    "# Load the state_dict into the model\n",
    "model.load_state_dict(state_dict)\n",
    "\n",
    "# Extract the model's state_dict (parameters)\n",
    "model_state_dict = model.state_dict()\n",
    "\n",
    "# Convert the state_dict to a dictionary suitable for JSON\n",
    "model_state_dict = {k: v.tolist() for k, v in model_state_dict.items()}\n",
    "\n",
    "# Save the state_dict to a JSON file\n",
    "with open('model.json', 'w') as json_file:\n",
    "    json.dump(model_state_dict, json_file)\n",
    "\n",
    "print(\"Model saved to model.json\")\n",
    "\n"
   ]
  }
 ],
 "metadata": {
  "kernelspec": {
   "display_name": "data-gen-gFpVQeOr",
   "language": "python",
   "name": "python3"
  },
  "language_info": {
   "codemirror_mode": {
    "name": "ipython",
    "version": 3
   },
   "file_extension": ".py",
   "mimetype": "text/x-python",
   "name": "python",
   "nbconvert_exporter": "python",
   "pygments_lexer": "ipython3",
   "version": "3.11.9"
  }
 },
 "nbformat": 4,
 "nbformat_minor": 2
}
