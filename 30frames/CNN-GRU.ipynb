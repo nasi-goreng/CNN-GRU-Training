{
 "cells": [
  {
   "cell_type": "markdown",
   "metadata": {},
   "source": [
    "# CNN-GRU"
   ]
  },
  {
   "cell_type": "markdown",
   "metadata": {},
   "source": [
    "```zsh\n",
    "pipenv --python 3.11\n",
    "pipenv install ipykernel==6.28.0 python-dotenv==1.0.0 torch torchvision torchinfo\n",
    "```"
   ]
  },
  {
   "cell_type": "markdown",
   "metadata": {},
   "source": [
    "## Imports"
   ]
  },
  {
   "cell_type": "code",
   "execution_count": 29,
   "metadata": {},
   "outputs": [],
   "source": [
    "import torch\n",
    "from torch import nn, optim\n",
    "from torchvision import datasets, transforms\n",
    "from torchinfo import summary\n",
    "import os\n",
    "import numpy as np\n",
    "import json\n",
    "import glob\n",
    "from torch.utils.data import Dataset, DataLoader, ConcatDataset\n",
    "from sklearn.model_selection import train_test_split\n",
    "from sklearn.preprocessing import LabelEncoder\n",
    "from sklearn.metrics import confusion_matrix\n",
    "import pandas as pd\n",
    "import seaborn as sns\n",
    "import matplotlib.pyplot as plt\n",
    "import wandb\n",
    "from datetime import datetime\n",
    "import torch.onnx\n",
    "from sklearn.metrics import accuracy_score, precision_score, f1_score, recall_score"
   ]
  },
  {
   "cell_type": "markdown",
   "metadata": {},
   "source": [
    "## Load Dataset"
   ]
  },
  {
   "cell_type": "code",
   "execution_count": 2,
   "metadata": {},
   "outputs": [],
   "source": [
    "# Check if CUDA is available and set the device accordingly\n",
    "device = torch.device(\"cuda\" if torch.cuda.is_available() else \"cpu\")"
   ]
  },
  {
   "cell_type": "markdown",
   "metadata": {},
   "source": [
    "### My data"
   ]
  },
  {
   "cell_type": "code",
   "execution_count": 33,
   "metadata": {},
   "outputs": [],
   "source": [
    "# Get a list of all txt files in ./data-gen/data/ and its subdirectories\n",
    "txt_files = glob.glob('../../Jesus-data/downloads/', recursive=True)\n",
    "\n",
    "for txt_file in txt_files:\n",
    "    # Open the txt file and load the data\n",
    "    with open(txt_file, 'r') as f:\n",
    "        data = json.load(f)\n",
    "    \n",
    "    # Transform the data\n",
    "    transformed_data = []\n",
    "    for array in data:\n",
    "        transformed_array = []\n",
    "        for obj in array:\n",
    "            transformed_array.append([obj['x'], obj['y'], obj['z']])\n",
    "        transformed_data.append(transformed_array)\n",
    "    \n",
    "    # print(txt_file)\n",
    "    # print(np.array(transformed_data).shape)\n",
    "\n",
    "    # Create the new json file path\n",
    "    json_file = os.path.splitext(txt_file)[0] + '.json'\n",
    "\n",
    "    # Write the transformed data to the new json file\n",
    "    with open(json_file, 'w') as f:\n",
    "        json.dump(transformed_data, f)"
   ]
  },
  {
   "cell_type": "code",
   "execution_count": 4,
   "metadata": {},
   "outputs": [
    {
     "name": "stdout",
     "output_type": "stream",
     "text": [
      "Total number of samples: 350\n"
     ]
    }
   ],
   "source": [
    "# Assuming 'data' is your root directory containing all the data folders\n",
    "root_dir = '../../data-gen/data/'\n",
    "total_samples = 0\n",
    "\n",
    "# Iterate over all folders in the root directory\n",
    "for folder_name in os.listdir(root_dir):\n",
    "    folder_path = os.path.join(root_dir, folder_name)\n",
    "    \n",
    "    # Check if the path is indeed a folder\n",
    "    if os.path.isdir(folder_path):\n",
    "        # Count the number of json files in the folder\n",
    "        num_files = len(glob.glob(os.path.join(folder_path, '*.json')))\n",
    "        total_samples += num_files\n",
    "\n",
    "print(f\"Total number of samples: {total_samples}\")"
   ]
  },
  {
   "cell_type": "markdown",
   "metadata": {},
   "source": [
    "(30, 21, 3) ==> (630, 3) ==> (3, 630)"
   ]
  },
  {
   "cell_type": "code",
   "execution_count": 7,
   "metadata": {},
   "outputs": [],
   "source": [
    "batch_size=64\n",
    "\n",
    "class LandmarkDataset(Dataset):\n",
    "    def __init__(self, files, labels):\n",
    "        self.files = files\n",
    "        self.encoder = LabelEncoder()\n",
    "        self.labels = self.encoder.fit_transform(labels)\n",
    "\n",
    "    def get_original_labels(self, encoded_labels):\n",
    "        return self.encoder.inverse_transform(encoded_labels)\n",
    "        \n",
    "    def __len__(self):\n",
    "        return len(self.files)\n",
    "\n",
    "    def __getitem__(self, idx):\n",
    "        with open(self.files[idx], 'r') as f:\n",
    "            data_list = json.load(f)\n",
    "            filtered_data_list = [frame for i, frame in enumerate(data_list) if i % 2 == 0]  # Keep every other frame\n",
    "            if any(len(frame) != 21 for frame in filtered_data_list):  # Check if each remaining frame has 21 landmarks\n",
    "                print(f\"Unexpected frame length in file {self.files[idx]} after filtering frames\")\n",
    "            data = torch.tensor(filtered_data_list)\n",
    "            data = data.view(-1, 3)  # Flatten the data into (630, 3) because (30*21=630)\n",
    "            data = data.transpose(0, 1)  # Transpose to get (3, 630)\n",
    "        label = torch.tensor(self.labels[idx])\n",
    "        return data, label\n",
    "\n",
    "# Get a list of all json files in ../data-gen/data/ and its subdirectories\n",
    "json_files = glob.glob('../../data-gen/data/**/*.json', recursive=True)\n",
    "\n",
    "# Get labels (parent folder names) for each json file\n",
    "labels = [os.path.basename(os.path.dirname(file)) for file in json_files]\n",
    "\n",
    "# Split data into train and test sets\n",
    "train_files, val_files, train_labels, val_labels = train_test_split(json_files, labels, test_size=0.2, random_state=42)\n",
    "\n",
    "# Create train and test datasets\n",
    "train_dataset = LandmarkDataset(train_files, train_labels)\n",
    "val_dataset = LandmarkDataset(val_files, val_labels)\n",
    "\n",
    "# Create train and test loaders\n",
    "train_loader = DataLoader(train_dataset, batch_size, shuffle=True)\n",
    "val_loader = DataLoader(val_dataset, batch_size, shuffle=False)"
   ]
  },
  {
   "cell_type": "code",
   "execution_count": 8,
   "metadata": {},
   "outputs": [
    {
     "name": "stdout",
     "output_type": "stream",
     "text": [
      "torch.Size([64, 3, 630])\n",
      "torch.Size([64])\n",
      "1\n",
      "torch.Size([64, 3, 630])\n",
      "torch.Size([64])\n",
      "2\n",
      "torch.Size([64, 3, 630])\n",
      "torch.Size([64])\n",
      "3\n",
      "torch.Size([64, 3, 630])\n",
      "torch.Size([64])\n",
      "4\n",
      "torch.Size([24, 3, 630])\n",
      "torch.Size([24])\n",
      "5\n"
     ]
    }
   ],
   "source": [
    "# get one batch of data\n",
    "count = 0\n",
    "for data, labels in train_loader:\n",
    "    print(data.shape)\n",
    "    print(labels.shape)\n",
    "    count += 1\n",
    "    print(count)\n"
   ]
  },
  {
   "cell_type": "code",
   "execution_count": 9,
   "metadata": {},
   "outputs": [
    {
     "name": "stdout",
     "output_type": "stream",
     "text": [
      "torch.Size([630])\n",
      "0\n",
      "['c' 'n' 'c' 'c' 'm' 'z' 'j' 'm' 'c' 'n' 'n' 'j' 'c' 'm' 'g' 'n' 'g' 'c'\n",
      " 'g' 'c' 'c' 'm' 'g' 'm' 'i' 'n' 'g' 'g' 'c' 'c' 'z' 'j' 'g' 'm' 'n' 'j'\n",
      " 'c' 'c' 'n' 'c' 'g' 'c' 'm' 'z' 'm' 'n' 'm' 'j' 'n' 'z' 'j' 'i' 'i' 'g'\n",
      " 'm' 'i' 'g' 'n' 'g' 'j' 'i' 'n' 'n' 'n']\n",
      "torch.Size([630])\n",
      "0\n",
      "['c' 'n' 'g' 'n' 'g' 'g' 'm' 'm' 'j' 'c' 'n' 'g' 'z' 'n' 'i' 'i' 'm' 'm'\n",
      " 'z' 'n' 'g' 'j' 'n' 'n' 'c' 'g' 'i' 'c' 'z' 'i' 'c' 'i' 'z' 'i' 'j' 'i'\n",
      " 'm' 'm' 'c' 'j' 'm' 'm' 'i' 'c' 'i' 'n' 'm' 'n' 'c' 'z' 'm' 'j' 'g' 'i'\n",
      " 'g' 'g' 'z' 'j' 'j' 'z' 'm' 'i' 'i' 'm']\n",
      "torch.Size([630])\n",
      "0\n",
      "['c' 'z' 'z' 'm' 'n' 'i' 'i' 'j' 'g' 'n' 'j' 'n' 'z' 'j' 'g' 'z' 'z' 'c'\n",
      " 'm' 'n' 'z' 'j' 'm' 'j' 'm' 'g' 'i' 'j' 'i' 'z' 'i' 'c' 'j' 'n' 'i' 'n'\n",
      " 'n' 'z' 'c' 'g' 'g' 'c' 'z' 'c' 'j' 'i' 'i' 'j' 'i' 'z' 'g' 'z' 'z' 'z'\n",
      " 'j' 'g' 'z' 'n' 'j' 'z' 'g' 'c' 'i' 'c']\n",
      "torch.Size([630])\n",
      "6\n",
      "['z' 'i' 'i' 'c' 'n' 'm' 'g' 'z' 'm' 'i' 'm' 'j' 'i' 'm' 'i' 'c' 'n' 'i'\n",
      " 'z' 'z' 'm' 'c' 'g' 'j' 'm' 'z' 'i' 'z' 'n' 'j' 'g' 'c' 'i' 'c' 'i' 'z'\n",
      " 'c' 'm' 'c' 'n' 'n' 'j' 'c' 'c' 'g' 'j' 'g' 'z' 'n' 'n' 'i' 'm' 'j' 'z'\n",
      " 'm' 'z' 'g' 'n' 'i' 'g' 'g' 'n' 'g' 'n']\n",
      "torch.Size([630])\n",
      "3\n",
      "['j' 'm' 'i' 'm' 'i' 'n' 'z' 'm' 'c' 'j' 'j' 'm' 'm' 'n' 'c' 'j' 'i' 'm'\n",
      " 'g' 'j' 'i' 'm' 'j' 'g']\n"
     ]
    }
   ],
   "source": [
    "for data, labels in train_loader:\n",
    "  print(data[0][0].shape)\n",
    "  print(labels[0].item())\n",
    "  # Get original labels\n",
    "  original_labels = train_dataset.encoder.inverse_transform(labels)\n",
    "  print(original_labels)"
   ]
  },
  {
   "cell_type": "markdown",
   "metadata": {},
   "source": [
    "### Jesus's data"
   ]
  },
  {
   "cell_type": "code",
   "execution_count": 35,
   "metadata": {},
   "outputs": [
    {
     "name": "stdout",
     "output_type": "stream",
     "text": [
      "J, 50 captures: (50, 30, 21, 3)\n",
      "P, 30 captures: (80, 30, 21, 3)\n",
      "G, 50 captures: (130, 30, 21, 3)\n",
      "V, 30 captures: (160, 30, 21, 3)\n",
      "L, 30 captures: (190, 30, 21, 3)\n",
      "B, 30 captures: (220, 30, 21, 3)\n",
      "D, 30 captures: (250, 30, 21, 3)\n",
      "A, 30 captures: (280, 30, 21, 3)\n",
      "Q, 30 captures: (310, 30, 21, 3)\n",
      "O, 30 captures: (340, 30, 21, 3)\n",
      "U, 30 captures: (370, 30, 21, 3)\n",
      "I, 30 captures: (400, 30, 21, 3)\n",
      "T, 30 captures: (430, 30, 21, 3)\n",
      "C, 50 captures: (480, 30, 21, 3)\n",
      "K, 30 captures: (510, 30, 21, 3)\n",
      "R, 30 captures: (540, 30, 21, 3)\n",
      "M, 50 captures: (590, 30, 21, 3)\n",
      "F, 30 captures: (620, 30, 21, 3)\n",
      "Y, 30 captures: (650, 30, 21, 3)\n",
      "W, 30 captures: (680, 30, 21, 3)\n",
      "E, 30 captures: (710, 30, 21, 3)\n",
      "X, 30 captures: (740, 30, 21, 3)\n",
      "N, 50 captures: (790, 30, 21, 3)\n",
      "H, 30 captures: (820, 30, 21, 3)\n",
      "S, 30 captures: (850, 30, 21, 3)\n",
      "Z, 50 captures: (900, 30, 21, 3)\n",
      "torch.Size([32, 3, 630])\n",
      "['O', 'M', 'J', 'F', 'S', 'D', 'S', 'N', 'J', 'Y', 'S', 'I', 'C', 'T', 'T', 'V', 'Z', 'J', 'X', 'Z', 'O', 'Z', 'R', 'D', 'Z', 'P', 'B', 'M', 'M', 'O', 'S', 'X']\n"
     ]
    }
   ],
   "source": [
    "import os\n",
    "import torch\n",
    "from torch.utils.data import Dataset, DataLoader\n",
    "\n",
    "class HandLandmarkDataset(Dataset):\n",
    "    def __init__(self, root_dir):\n",
    "        self.root_dir = root_dir\n",
    "        self.data = []\n",
    "        self.labels = []\n",
    "        self._load_data()\n",
    "\n",
    "    def _load_data(self):\n",
    "        # Iterate over each label directory in the root directory\n",
    "        for label in os.listdir(self.root_dir): # A, B, C, etc--------------------------------------------\n",
    "            label_dir = os.path.join(self.root_dir, label)  # Construct the full path to the label directory\n",
    "            if os.path.isdir(label_dir):  # Check if the path is a directory\n",
    "                capture_count = 0  # Initialize a counter for the number of captures\n",
    "                # Iterate over each capture directory in the label directory\n",
    "                for capture in os.listdir(label_dir): # capture_1, capture_2, etc--------------------------------\n",
    "                    capture_dir = os.path.join(label_dir, capture)  # Construct the full path to the capture directory\n",
    "                    if os.path.isdir(capture_dir):  # Check if the path is a directory\n",
    "                        frames = []  # Initialize an empty list to store frames === capture\n",
    "                        # Iterate over each frame file in the capture directory\n",
    "                        for frame_file in sorted(os.listdir(capture_dir)): # frame_1.txt, frame_2.txt, etc--------------\n",
    "                            if frame_file.endswith('.txt'):  # Check if the file has a .txt extension\n",
    "                                frame_path = os.path.join(capture_dir, frame_file)  # Construct the full path to the frame file\n",
    "                                # Open the frame file and read its contents\n",
    "                                with open(frame_path, 'r') as f:\n",
    "                                    landmarks = []  # Initialize an empty list for landmarks\n",
    "                                    for line in f:\n",
    "                                        # Convert each line into an array of floats and append to the landmarks list\n",
    "                                        landmarks.append([float(coord) for coord in line.strip().split()])\n",
    "                                    frames.append(landmarks)  # Append the landmarks to the frames list\n",
    "                        # Check if the number of frames in a capture is exactly 30\n",
    "                        if len(frames) == 30:\n",
    "                            self.data.append(frames)  # Append the frames list to the data list\n",
    "                            self.labels.append(label)  # Append the label to the labels list\n",
    "                            capture_count += 1  # Increment the capture counter\n",
    "                        else:\n",
    "                            print(f\"Unexpected number of frames in {capture_dir}\")\n",
    "                print(f\"{label}, {capture_count} captures: {np.array(self.data).shape}\")  # Print the number of captures for the current label\n",
    "\n",
    "\n",
    "\n",
    "\n",
    "    def __len__(self):\n",
    "        return len(self.data)\n",
    "\n",
    "    def __getitem__(self, idx):\n",
    "        captures = self.data[idx]\n",
    "        label = self.labels[idx]\n",
    "        # (30, 21, 3) ==> (630, 3) ==> (3, 630)\n",
    "        frames_tensor = torch.tensor(captures).view(-1, 3).transpose(0, 1)\n",
    "        return frames_tensor, label\n",
    "\n",
    "def collate_fn(batch):\n",
    "    data = torch.stack([item[0] for item in batch])\n",
    "    labels = [item[1] for item in batch]\n",
    "    return data, labels\n",
    "\n",
    "# Usage\n",
    "root_dir = '../../Jesus-data/downloads/'\n",
    "dataset = HandLandmarkDataset(root_dir)\n",
    "data_loader = DataLoader(dataset, batch_size=32, shuffle=True, collate_fn=collate_fn)\n",
    "\n",
    "# Example of iterating through the data loader\n",
    "for batch_data, batch_labels in data_loader:\n",
    "    print(batch_data.shape)  # Should be (batch_size, 3, 630)\n",
    "    print(batch_labels)\n",
    "    break\n"
   ]
  },
  {
   "cell_type": "markdown",
   "metadata": {},
   "source": [
    "### combined data"
   ]
  },
  {
   "cell_type": "code",
   "execution_count": 38,
   "metadata": {},
   "outputs": [
    {
     "name": "stdout",
     "output_type": "stream",
     "text": [
      "Combined data shape: (1250, 3, 630)\n"
     ]
    }
   ],
   "source": [
    "class CombinedDataset(Dataset):\n",
    "    def __init__(self, landmark_files, landmark_labels, handlandmark_root_dir):\n",
    "        self.landmark_files = landmark_files\n",
    "        self.landmark_labels = [label.upper() for label in landmark_labels]\n",
    "        self.handlandmark_root_dir = handlandmark_root_dir\n",
    "        self.landmark_dataset = LandmarkDataset(self.landmark_files, self.landmark_labels)\n",
    "        self.handlandmark_dataset = HandLandmarkDataset(self.handlandmark_root_dir)\n",
    "\n",
    "        self.data = []\n",
    "        self.labels = []\n",
    "        self.encoder = LabelEncoder()\n",
    "        self._combine_datasets()\n",
    "\n",
    "    def _combine_datasets(self):\n",
    "        # Combine data from LandmarkDataset\n",
    "        for idx in range(len(self.landmark_dataset)):\n",
    "            data, label = self.landmark_dataset[idx]\n",
    "            self.data.append(data)\n",
    "            self.labels.append(label)\n",
    "\n",
    "        # Combine data from HandLandmarkDataset\n",
    "        for idx in range(len(self.handlandmark_dataset)):\n",
    "            data, label = self.handlandmark_dataset[idx]\n",
    "            self.data.append(data)\n",
    "            self.labels.append(label)\n",
    "\n",
    "        # Fit the LabelEncoder on the combined labels and transform the labels\n",
    "        self.labels = self.encoder.fit_transform(self.labels)\n",
    "        print(f\"Combined data shape: {np.array(self.data).shape}\")\n",
    "\n",
    "    def get_original_labels(self, encoded_labels):\n",
    "        return self.encoder.inverse_transform(encoded_labels)\n",
    "\n",
    "    def __len__(self):\n",
    "        return len(self.data)\n",
    "\n",
    "    def __getitem__(self, idx):\n",
    "        return self.data[idx], self.labels[idx]\n",
    "\n",
    "class LandmarkDataset(Dataset):\n",
    "    def __init__(self, files, labels):\n",
    "        self.files = files\n",
    "        self.encoder = LabelEncoder()\n",
    "        self.labels = self.encoder.fit_transform([label.upper() for label in labels])  # Convert labels to uppercase\n",
    "\n",
    "    def get_original_labels(self, encoded_labels):\n",
    "        return self.encoder.inverse_transform(encoded_labels)\n",
    "        \n",
    "    def __len__(self):\n",
    "        return len(self.files)\n",
    "\n",
    "    def __getitem__(self, idx):\n",
    "        with open(self.files[idx], 'r') as f:\n",
    "            data_list = json.load(f)\n",
    "            filtered_data_list = [frame for i, frame in enumerate(data_list) if i % 2 == 0]  # Keep every other frame\n",
    "            if any(len(frame) != 21 for frame in filtered_data_list):  # Check if each remaining frame has 21 landmarks\n",
    "                print(f\"Unexpected frame length in file {self.files[idx]} after filtering frames\")\n",
    "            data = torch.tensor(filtered_data_list)\n",
    "            data = data.view(-1, 3)  # Flatten the data into (630, 3) because (30*21=630)\n",
    "            data = data.transpose(0, 1)  # Transpose to get (3, 630)\n",
    "        label = torch.tensor(self.labels[idx])\n",
    "        return data, label\n",
    "\n",
    "class HandLandmarkDataset(Dataset):\n",
    "    def __init__(self, root_dir):\n",
    "        self.root_dir = root_dir\n",
    "        self.data = []\n",
    "        self.labels = []\n",
    "        self._load_data()\n",
    "\n",
    "    def _load_data(self):\n",
    "        for label in os.listdir(self.root_dir):\n",
    "            label_dir = os.path.join(self.root_dir, label)\n",
    "            if os.path.isdir(label_dir):\n",
    "                capture_count = 0\n",
    "                for capture in os.listdir(label_dir):\n",
    "                    capture_dir = os.path.join(label_dir, capture)\n",
    "                    if os.path.isdir(capture_dir):\n",
    "                        frames = []\n",
    "                        for frame_file in sorted(os.listdir(capture_dir)):\n",
    "                            if frame_file.endswith('.txt'):\n",
    "                                frame_path = os.path.join(capture_dir, frame_file)\n",
    "                                with open(frame_path, 'r') as f:\n",
    "                                    landmarks = []\n",
    "                                    for line in f:\n",
    "                                        landmarks.append([float(coord) for coord in line.strip().split()])\n",
    "                                    frames.append(landmarks)\n",
    "                        if len(frames) == 30:\n",
    "                            self.data.append(frames)\n",
    "                            self.labels.append(label.upper())  # Convert label to uppercase\n",
    "                            capture_count += 1\n",
    "                        else:\n",
    "                            print(f\"Unexpected number of frames in {capture_dir}\")\n",
    "                # print(f\"{label}, {capture_count} captures: {np.array(self.data).shape}\")\n",
    "\n",
    "    def __len__(self):\n",
    "        return len(self.data)\n",
    "\n",
    "    def __getitem__(self, idx):\n",
    "        captures = self.data[idx]\n",
    "        label = self.labels[idx]\n",
    "        frames_tensor = torch.tensor(captures).view(-1, 3).transpose(0, 1)\n",
    "        return frames_tensor, label\n",
    "\n",
    "def collate_fn(batch):\n",
    "    data = torch.stack([item[0] for item in batch])\n",
    "    labels = [item[1] for item in batch]\n",
    "    return data, labels\n",
    "\n",
    "# Get a list of all json files in ../data-gen/data/ and its subdirectories\n",
    "json_files = glob.glob('../../data-gen/data/**/*.json', recursive=True)\n",
    "\n",
    "# Get labels (parent folder names) for each json file\n",
    "labels = [os.path.basename(os.path.dirname(file)) for file in json_files]\n",
    "\n",
    "# Root directory for HandLandmarkDataset\n",
    "root_dir = '../../Jesus-data/downloads/'\n",
    "\n",
    "# Create combined dataset\n",
    "combined_dataset = CombinedDataset(json_files, labels, root_dir)\n",
    "\n",
    "# Split combined data into train and val sets\n",
    "train_data, val_data, train_labels, val_labels = train_test_split(combined_dataset.data, combined_dataset.labels, test_size=0.2, random_state=42)\n",
    "\n",
    "# Create train and val datasets\n",
    "train_dataset = torch.utils.data.TensorDataset(torch.stack(train_data), torch.tensor(train_labels))\n",
    "val_dataset = torch.utils.data.TensorDataset(torch.stack(val_data), torch.tensor(val_labels))\n",
    "\n",
    "# Create train and val loaders\n",
    "batch_size = 32\n",
    "train_loader = DataLoader(train_dataset, batch_size=batch_size, shuffle=True)\n",
    "val_loader = DataLoader(val_dataset, batch_size=batch_size, shuffle=False)\n"
   ]
  },
  {
   "cell_type": "markdown",
   "metadata": {},
   "source": [
    "### combined data (used ConcatDataset)"
   ]
  },
  {
   "cell_type": "code",
   "execution_count": 3,
   "metadata": {},
   "outputs": [
    {
     "name": "stdout",
     "output_type": "stream",
     "text": [
      "Train and validation loaders created successfully.\n"
     ]
    }
   ],
   "source": [
    "class LandmarkDataset(Dataset):\n",
    "    def __init__(self, files, labels):\n",
    "        self.files = files\n",
    "        self.encoder = LabelEncoder()\n",
    "        self.labels = self.encoder.fit_transform([label.upper() for label in labels])  # Convert labels to uppercase\n",
    "\n",
    "    def get_original_labels(self, encoded_labels):\n",
    "        return self.encoder.inverse_transform(encoded_labels)\n",
    "        \n",
    "    def __len__(self):\n",
    "        return len(self.files)\n",
    "\n",
    "    def __getitem__(self, idx):\n",
    "        with open(self.files[idx], 'r') as f:\n",
    "            data_list = json.load(f)\n",
    "            filtered_data_list = [frame for i, frame in enumerate(data_list) if i % 2 == 0]  # Keep every other frame\n",
    "            if any(len(frame) != 21 for frame in filtered_data_list):  # Check if each remaining frame has 21 landmarks\n",
    "                print(f\"Unexpected frame length in file {self.files[idx]} after filtering frames\")\n",
    "            data = torch.tensor(filtered_data_list)\n",
    "            data = data.view(-1, 3)  # Flatten the data into (630, 3) because (30*21=630)\n",
    "            data = data.transpose(0, 1)  # Transpose to get (3, 630)\n",
    "        label = torch.tensor(self.labels[idx])\n",
    "        return data, label\n",
    "\n",
    "class HandLandmarkDataset(Dataset):\n",
    "    def __init__(self, root_dir):\n",
    "        self.root_dir = root_dir\n",
    "        self.data = []\n",
    "        self.labels = []\n",
    "        self._load_data()\n",
    "\n",
    "        self.encoder = LabelEncoder()\n",
    "        self.labels = self.encoder.fit_transform([label.upper() for label in self.labels])\n",
    "\n",
    "    def _load_data(self):\n",
    "        for label in os.listdir(self.root_dir):\n",
    "            label_dir = os.path.join(self.root_dir, label)\n",
    "            if os.path.isdir(label_dir):\n",
    "                capture_count = 0\n",
    "                for capture in os.listdir(label_dir):\n",
    "                    capture_dir = os.path.join(label_dir, capture)\n",
    "                    if os.path.isdir(capture_dir):\n",
    "                        frames = []\n",
    "                        for frame_file in sorted(os.listdir(capture_dir)):\n",
    "                            if frame_file.endswith('.txt'):\n",
    "                                frame_path = os.path.join(capture_dir, frame_file)\n",
    "                                with open(frame_path, 'r') as f:\n",
    "                                    landmarks = []\n",
    "                                    for line in f:\n",
    "                                        landmarks.append([float(coord) for coord in line.strip().split()])\n",
    "                                    frames.append(landmarks)\n",
    "                        if len(frames) == 30:\n",
    "                            self.data.append(frames)\n",
    "                            self.labels.append(label.upper())  # Convert label to uppercase\n",
    "                            capture_count += 1\n",
    "                        else:\n",
    "                            print(f\"Unexpected number of frames in {capture_dir}\")\n",
    "                # print(f\"{label}, {capture_count} captures: {np.array(self.data).shape}\")\n",
    "\n",
    "    def __len__(self):\n",
    "        return len(self.data)\n",
    "\n",
    "    def __getitem__(self, idx):\n",
    "        captures = self.data[idx]\n",
    "        label = self.labels[idx]\n",
    "        frames_tensor = torch.tensor(captures).view(-1, 3).transpose(0, 1)\n",
    "        return frames_tensor, label\n",
    "\n",
    "def collate_fn(batch):\n",
    "    data = torch.stack([item[0] for item in batch])\n",
    "    labels = torch.tensor([item[1] for item in batch])\n",
    "    return data, labels\n",
    "\n",
    "# Get a list of all json files in ../data-gen/data/ and its subdirectories\n",
    "json_files = glob.glob('../../data-gen/data/**/*.json', recursive=True)\n",
    "\n",
    "# Get labels (parent folder names) for each json file\n",
    "labels = [os.path.basename(os.path.dirname(file)) for file in json_files]\n",
    "\n",
    "# Create LandmarkDataset\n",
    "landmark_dataset = LandmarkDataset(json_files, labels)\n",
    "\n",
    "# Root directory for HandLandmarkDataset\n",
    "root_dir = '../../Jesus-data/downloads/'\n",
    "\n",
    "# Create HandLandmarkDataset\n",
    "handlandmark_dataset = HandLandmarkDataset(root_dir)\n",
    "\n",
    "# Combine datasets using ConcatDataset\n",
    "combined_dataset = ConcatDataset([landmark_dataset, handlandmark_dataset])\n",
    "\n",
    "# Split combined dataset into train and val sets\n",
    "combined_size = len(combined_dataset)\n",
    "indices = list(range(combined_size))\n",
    "train_indices, val_indices = train_test_split(indices, test_size=0.2, random_state=42)\n",
    "\n",
    "train_sampler = torch.utils.data.SubsetRandomSampler(train_indices)\n",
    "val_sampler = torch.utils.data.SubsetRandomSampler(val_indices)\n",
    "\n",
    "batch_size = 64\n",
    "train_loader = DataLoader(combined_dataset, batch_size=batch_size, sampler=train_sampler, collate_fn=collate_fn)\n",
    "val_loader = DataLoader(combined_dataset, batch_size=batch_size, sampler=val_sampler, collate_fn=collate_fn)\n",
    "\n",
    "print(\"Train and validation loaders created successfully.\")\n"
   ]
  },
  {
   "cell_type": "code",
   "execution_count": 4,
   "metadata": {},
   "outputs": [
    {
     "name": "stdout",
     "output_type": "stream",
     "text": [
      "Total number of samples in the combined dataset: 1250\n",
      "torch.Size([64, 3, 630])\n",
      "tensor([14, 23,  5, 13, 13, 12,  3,  3,  8,  8, 16, 20,  3,  1, 16, 12,  6,  3,\n",
      "         1,  1,  4,  0,  1,  1, 15, 17,  9,  5,  4, 12, 13,  9,  2, 14,  2,  1,\n",
      "        20,  4, 16, 21,  4,  4, 13, 25,  1, 21,  3, 23,  2,  8,  2, 25, 10,  4,\n",
      "         9, 12, 19, 11,  0,  6,  6, 22,  3, 25])\n"
     ]
    }
   ],
   "source": [
    "# Check the size of the combined dataset\n",
    "combined_size = len(combined_dataset)\n",
    "print(f\"Total number of samples in the combined dataset: {combined_size}\")\n",
    "\n",
    "# Example of iterating through the data loader\n",
    "for batch_data, batch_labels in train_loader:\n",
    "    print(batch_data.shape)  # Should be (batch_size, 3, 630)\n",
    "    print(batch_labels)\n",
    "    break\n"
   ]
  },
  {
   "cell_type": "markdown",
   "metadata": {},
   "source": [
    "## Model Set Up"
   ]
  },
  {
   "cell_type": "markdown",
   "metadata": {},
   "source": [
    "```txt\n",
    "Model\n",
    "├── Input Layer\n",
    "│   └── Conv1D\n",
    "│       └── MaxPooling1D\n",
    "│           └── Flatten\n",
    "│               └── Dense\n",
    "│                   ├── Concatenate (Final Layer)\n",
    "│                   └── Reshape\n",
    "│                       └── GRU\n",
    "│                           └── GRU_1\n",
    "│                               └── Dense_1\n",
    "│                                   └── Concatenate (Final Layer)\n",
    "``` \n",
    "PyTorch's Conv1D layer expects input in the form (batch_size, num_channels, length). In your case, you can consider each coordinate as a channel. So, your input to the Conv1D layer would be (batch_size, 3, 1260), where 1260 is the product of 60 (frames) and 21 (landmarks).\n",
    "\n",
    "(30, 21, 3) ==> (630, 3) ==> (3, 630) ==> (batch_size, 3, 630)\n",
    "\n",
    "In PyTorch, it's common to leave out the softmax activation function in the model and instead use the nn.CrossEntropyLoss loss function during training, which applies the softmax function internally. Then, when making predictions, you can apply the softmax function to the model's outputs to get probabilities."
   ]
  },
  {
   "cell_type": "code",
   "execution_count": 4,
   "metadata": {},
   "outputs": [
    {
     "name": "stdout",
     "output_type": "stream",
     "text": [
      "==========================================================================================\n",
      "Layer (type:depth-idx)                   Output Shape              Param #\n",
      "==========================================================================================\n",
      "CNN_GRU_Model                            [64, 26]                  --\n",
      "├─Conv1d: 1-1                            [64, 64, 630]             640\n",
      "├─MaxPool1d: 1-2                         [64, 64, 315]             --\n",
      "├─Flatten: 1-3                           [64, 20160]               --\n",
      "├─Linear: 1-4                            [64, 64]                  1,290,304\n",
      "├─GRU: 1-5                               [64, 1, 100]              49,800\n",
      "├─GRU: 1-6                               [64, 1, 100]              60,600\n",
      "├─Linear: 1-7                            [64, 64]                  6,464\n",
      "├─Linear: 1-8                            [64, 26]                  3,354\n",
      "==========================================================================================\n",
      "Total params: 1,411,162\n",
      "Trainable params: 1,411,162\n",
      "Non-trainable params: 0\n",
      "Total mult-adds (Units.MEGABYTES): 116.08\n",
      "==========================================================================================\n",
      "Input size (MB): 0.48\n",
      "Forward/backward pass size (MB): 20.83\n",
      "Params size (MB): 5.64\n",
      "Estimated Total Size (MB): 26.95\n",
      "==========================================================================================\n"
     ]
    }
   ],
   "source": [
    "class CNN_GRU_Model(nn.Module):\n",
    "    def __init__(self):\n",
    "        super(CNN_GRU_Model, self).__init__()\n",
    "        self.conv1d = nn.Conv1d(3, 64, kernel_size=3, padding=1)\n",
    "        self.maxpooling1d = nn.MaxPool1d(2)\n",
    "        self.flatten = nn.Flatten()\n",
    "        # Calculate the output size after Conv1d and MaxPool1d\n",
    "        conv_output_size = 64 * (630 // 2)  # Output channels * reduced sequence length\n",
    "        self.dense = nn.Linear(conv_output_size, 64)  # Adjust this based on the output of the previous layer\n",
    "        self.gru = nn.GRU(64, 100, batch_first=True)\n",
    "        self.gru_1 = nn.GRU(100, 100, batch_first=True)\n",
    "        self.dense_1 = nn.Linear(100, 64)\n",
    "        self.final_dense = nn.Linear(128, 26)  # Final Dense layer for 7 classes\n",
    "\n",
    "    def forward(self, x):\n",
    "        x = self.conv1d(x)\n",
    "        x = self.maxpooling1d(x)\n",
    "        x = self.flatten(x)\n",
    "        dense_output = self.dense(x)\n",
    "        x = dense_output.view(dense_output.shape[0], 1, -1)\n",
    "        x, _ = self.gru(x)\n",
    "        x, _ = self.gru_1(x)\n",
    "        x = self.dense_1(x[:, -1, :])\n",
    "        x = torch.cat((dense_output, x), dim=1)\n",
    "        x = self.final_dense(x)\n",
    "        return x\n",
    "\n",
    "# Instantiate the model\n",
    "model = CNN_GRU_Model().to(device)\n",
    "\n",
    "# Print model summary\n",
    "print(summary(model, input_size=(batch_size, 3, 630)))\n"
   ]
  },
  {
   "cell_type": "markdown",
   "metadata": {},
   "source": [
    "## Training"
   ]
  },
  {
   "cell_type": "code",
   "execution_count": 5,
   "metadata": {},
   "outputs": [
    {
     "name": "stderr",
     "output_type": "stream",
     "text": [
      "Failed to detect the name of this notebook, you can set it manually with the WANDB_NOTEBOOK_NAME environment variable to enable code saving.\n",
      "\u001b[34m\u001b[1mwandb\u001b[0m: Currently logged in as: \u001b[33mrik0\u001b[0m. Use \u001b[1m`wandb login --relogin`\u001b[0m to force relogin\n"
     ]
    },
    {
     "data": {
      "text/plain": [
       "True"
      ]
     },
     "execution_count": 5,
     "metadata": {},
     "output_type": "execute_result"
    }
   ],
   "source": [
    "wandb.login()"
   ]
  },
  {
   "cell_type": "code",
   "execution_count": 6,
   "metadata": {},
   "outputs": [],
   "source": [
    "def calculate_accuracy(loader):\n",
    "    correct = 0\n",
    "    total = 0\n",
    "    # Set model to evaluation mode\n",
    "    model.eval()\n",
    "    # Disable gradient calculation (unnecessary for inference)\n",
    "    with torch.no_grad():\n",
    "        for inputs, labels in loader:\n",
    "            inputs, labels = inputs.to(device), labels.to(device)\n",
    "            outputs = model(inputs)\n",
    "            _, predicted = torch.max(outputs.data, 1)\n",
    "            total += labels.size(0)\n",
    "            correct += (predicted == labels).sum().item()\n",
    "    return 100 * correct / total"
   ]
  },
  {
   "cell_type": "code",
   "execution_count": 19,
   "metadata": {},
   "outputs": [
    {
     "data": {
      "text/html": [
       "Tracking run with wandb version 0.17.1"
      ],
      "text/plain": [
       "<IPython.core.display.HTML object>"
      ]
     },
     "metadata": {},
     "output_type": "display_data"
    },
    {
     "data": {
      "text/html": [
       "Run data is saved locally in <code>/home/ubuntu/docs/team-sign-language/CNN-GRU/30frames/wandb/run-20240612_231006-0oy0okyc</code>"
      ],
      "text/plain": [
       "<IPython.core.display.HTML object>"
      ]
     },
     "metadata": {},
     "output_type": "display_data"
    },
    {
     "data": {
      "text/html": [
       "Syncing run <strong><a href='https://wandb.ai/rik0/sign_language/runs/0oy0okyc' target=\"_blank\">CNN-GRU_2024-06-12_23-10-06</a></strong> to <a href='https://wandb.ai/rik0/sign_language' target=\"_blank\">Weights & Biases</a> (<a href='https://wandb.me/run' target=\"_blank\">docs</a>)<br/>"
      ],
      "text/plain": [
       "<IPython.core.display.HTML object>"
      ]
     },
     "metadata": {},
     "output_type": "display_data"
    },
    {
     "data": {
      "text/html": [
       " View project at <a href='https://wandb.ai/rik0/sign_language' target=\"_blank\">https://wandb.ai/rik0/sign_language</a>"
      ],
      "text/plain": [
       "<IPython.core.display.HTML object>"
      ]
     },
     "metadata": {},
     "output_type": "display_data"
    },
    {
     "data": {
      "text/html": [
       " View run at <a href='https://wandb.ai/rik0/sign_language/runs/0oy0okyc' target=\"_blank\">https://wandb.ai/rik0/sign_language/runs/0oy0okyc</a>"
      ],
      "text/plain": [
       "<IPython.core.display.HTML object>"
      ]
     },
     "metadata": {},
     "output_type": "display_data"
    },
    {
     "name": "stdout",
     "output_type": "stream",
     "text": [
      "Epoch 1/40, Validation accuracy: 92.0%\n",
      "Epoch 2/40, Validation accuracy: 92.4%\n",
      "Epoch 3/40, Validation accuracy: 96.0%\n",
      "Epoch 4/40, Validation accuracy: 95.6%\n",
      "Epoch 5/40, Validation accuracy: 96.0%\n",
      "Epoch 6/40, Validation accuracy: 95.6%\n",
      "Epoch 7/40, Validation accuracy: 96.0%\n",
      "Epoch 8/40, Validation accuracy: 95.6%\n",
      "Epoch 9/40, Validation accuracy: 96.4%\n",
      "Epoch 10/40, Validation accuracy: 96.4%\n",
      "Epoch 11/40, Validation accuracy: 94.4%\n",
      "Epoch 12/40, Validation accuracy: 94.0%\n",
      "Epoch 13/40, Validation accuracy: 94.0%\n",
      "Epoch 14/40, Validation accuracy: 94.4%\n",
      "Epoch 15/40, Validation accuracy: 94.8%\n",
      "Epoch 16/40, Validation accuracy: 94.8%\n",
      "Epoch 17/40, Validation accuracy: 91.6%\n",
      "Epoch 18/40, Validation accuracy: 93.2%\n",
      "Epoch 19/40, Validation accuracy: 93.2%\n",
      "Epoch 20/40, Validation accuracy: 96.0%\n",
      "Epoch 21/40, Validation accuracy: 94.8%\n",
      "Epoch 22/40, Validation accuracy: 95.6%\n",
      "Epoch 23/40, Validation accuracy: 96.4%\n",
      "Epoch 24/40, Validation accuracy: 94.8%\n",
      "Epoch 25/40, Validation accuracy: 95.6%\n",
      "Epoch 26/40, Validation accuracy: 95.2%\n",
      "Epoch 27/40, Validation accuracy: 94.8%\n",
      "Epoch 28/40, Validation accuracy: 95.6%\n",
      "Epoch 29/40, Validation accuracy: 95.2%\n",
      "Epoch 30/40, Validation accuracy: 94.4%\n",
      "Epoch 31/40, Validation accuracy: 93.6%\n",
      "Epoch 32/40, Validation accuracy: 95.6%\n",
      "Epoch 33/40, Validation accuracy: 96.0%\n",
      "Epoch 34/40, Validation accuracy: 96.4%\n",
      "Epoch 35/40, Validation accuracy: 95.6%\n",
      "Epoch 36/40, Validation accuracy: 95.6%\n",
      "Epoch 37/40, Validation accuracy: 96.4%\n",
      "Epoch 38/40, Validation accuracy: 96.0%\n",
      "Epoch 39/40, Validation accuracy: 96.4%\n",
      "Epoch 40/40, Validation accuracy: 96.4%\n"
     ]
    }
   ],
   "source": [
    "now = datetime.now()  # current date and time\n",
    "run_time = now.strftime(\"%Y-%m-%d_%H-%M-%S\")\n",
    "run = wandb.init(project=\"sign_language\", name=f\"CNN-GRU_{run_time}\")\n",
    "\n",
    "criterion = nn.CrossEntropyLoss()\n",
    "optimizer = optim.Adam(model.parameters(), lr=0.001)\n",
    "\n",
    "num_epochs = 40\n",
    "\n",
    "train_accuracies = []\n",
    "val_accuracies = []\n",
    "losses = []\n",
    "\n",
    "for epoch in range(num_epochs):\n",
    "    # Set model to training mode\n",
    "    model.train()\n",
    "\n",
    "    # Iterate over data\n",
    "    for inputs, labels in train_loader:\n",
    "        inputs, labels = inputs.to(device), labels.to(device)\n",
    "        optimizer.zero_grad()\n",
    "        outputs = model(inputs)\n",
    "        loss = criterion(outputs, labels)\n",
    "        losses.append(loss.item())\n",
    "        loss.backward()\n",
    "        optimizer.step()\n",
    "        \n",
    "        # Log loss to WandB\n",
    "        wandb.log({\"train_loss\": loss.item()})\n",
    "\n",
    "    train_accuracy = calculate_accuracy(train_loader)\n",
    "    train_accuracies.append(train_accuracy)\n",
    "    \n",
    "    # Log train accuracy to WandB\n",
    "    wandb.log({\"train_accuracy\": train_accuracy})\n",
    "\n",
    "    # Evaluate on validation set\n",
    "    val_accuracy = calculate_accuracy(val_loader)\n",
    "    val_accuracies.append(val_accuracy)\n",
    "    \n",
    "    # Log validation accuracy to WandB\n",
    "    wandb.log({\"val_accuracy\": val_accuracy})\n",
    "    \n",
    "    print(f\"Epoch {epoch+1}/{num_epochs}, Validation accuracy: {val_accuracy}%\")\n",
    "\n",
    "# Optionally, log final metrics after training completes\n",
    "wandb.log({\"final_train_accuracy\": train_accuracies[-1], \"final_val_accuracy\": val_accuracies[-1]})\n"
   ]
  },
  {
   "cell_type": "code",
   "execution_count": 8,
   "metadata": {},
   "outputs": [],
   "source": [
    "# total_train_accuracies = []\n",
    "# total_val_accuracies = []\n",
    "# total_losses = []"
   ]
  },
  {
   "cell_type": "code",
   "execution_count": 20,
   "metadata": {},
   "outputs": [],
   "source": [
    "total_train_accuracies += train_accuracies\n",
    "total_val_accuracies += val_accuracies\n",
    "total_losses += losses"
   ]
  },
  {
   "cell_type": "code",
   "execution_count": 21,
   "metadata": {},
   "outputs": [
    {
     "name": "stdout",
     "output_type": "stream",
     "text": [
      "80\n",
      "80\n",
      "1280\n",
      "1280\n"
     ]
    }
   ],
   "source": [
    "print(len(total_train_accuracies))\n",
    "print(len(total_val_accuracies))\n",
    "print(len(total_losses))\n",
    "print(len(range(1, len(total_losses) + 1)))"
   ]
  },
  {
   "cell_type": "markdown",
   "metadata": {},
   "source": [
    "## Evaluation"
   ]
  },
  {
   "cell_type": "code",
   "execution_count": 22,
   "metadata": {},
   "outputs": [
    {
     "data": {
      "image/png": "[encoded data removed]",
      "text/plain": [
       "<Figure size 500x300 with 1 Axes>"
      ]
     },
     "metadata": {},
     "output_type": "display_data"
    }
   ],
   "source": [
    "# Create a dataframe\n",
    "df_loss = pd.DataFrame({\n",
    "    'step': range(1, len(total_losses) + 1),\n",
    "    'train_loss': total_losses,\n",
    "})\n",
    "\n",
    "# Create lineplot for losses\n",
    "plt.figure(figsize=(5, 3))\n",
    "sns.lineplot(data=df_loss, x='step', y='train_loss')\n",
    "plt.title('Training Losses over Epochs')\n",
    "plt.show()"
   ]
  },
  {
   "cell_type": "code",
   "execution_count": 23,
   "metadata": {},
   "outputs": [
    {
     "data": {
      "image/png": "[encoded data removed]",
      "text/plain": [
       "<Figure size 500x300 with 1 Axes>"
      ]
     },
     "metadata": {},
     "output_type": "display_data"
    }
   ],
   "source": [
    "# Create a dataframe\n",
    "df_acc = pd.DataFrame({\n",
    "    'epoch': range(1, len(total_train_accuracies) + 1),\n",
    "    'train_accuracy': total_train_accuracies,\n",
    "    'val_accuracy': total_val_accuracies\n",
    "})\n",
    "\n",
    "# Melt dataframe to long-form for easier plotting\n",
    "df_acc_melted = df_acc.melt('epoch', var_name='metric', value_name='values')\n",
    "\n",
    "# Create lineplot for accuracies\n",
    "plt.figure(figsize=(5, 3))\n",
    "sns.lineplot(data=df_acc_melted, x='epoch', y='values', hue='metric')\n",
    "plt.title('Training and Validation Accuracies over Epochs')\n",
    "plt.show()"
   ]
  },
  {
   "cell_type": "code",
   "execution_count": 24,
   "metadata": {},
   "outputs": [
    {
     "data": {
      "image/png": "[encoded data removed]",
      "text/plain": [
       "<Figure size 1000x1000 with 2 Axes>"
      ]
     },
     "metadata": {},
     "output_type": "display_data"
    }
   ],
   "source": [
    "model.eval()\n",
    "all_preds = []\n",
    "all_labels = []\n",
    "with torch.no_grad():\n",
    "    for inputs, labels in val_loader:\n",
    "        inputs, labels = inputs.to(device), labels.to(device)\n",
    "        outputs = model(inputs)\n",
    "        _, preds = torch.max(outputs, 1)\n",
    "        all_preds.extend(preds.cpu().numpy())\n",
    "        all_labels.extend(labels.cpu().numpy())\n",
    "\n",
    "# Compute confusion matrix\n",
    "cm = confusion_matrix(all_labels, all_preds)\n",
    "\n",
    "# Get actual labels\n",
    "# actual_labels = train_dataset.get_original_labels(range(len(train_dataset.encoder.classes_)))\n",
    "alphabets = 'ABCDEFGHIJKLMNOPQRSTUVWXYZ'\n",
    "actual_labels = [alphabets[i] for i in range(26)]\n",
    "\n",
    "# Plot confusion matrix\n",
    "plt.figure(figsize=(10, 10))\n",
    "sns.heatmap(cm, annot=True, fmt='d', cmap='Blues', xticklabels=actual_labels, yticklabels=actual_labels)\n",
    "# sns.heatmap(cm, annot=True, fmt='d', cmap='Blues')\n",
    "plt.xlabel('Predicted')\n",
    "plt.ylabel('Actual')\n",
    "plt.show()"
   ]
  },
  {
   "cell_type": "code",
   "execution_count": 34,
   "metadata": {},
   "outputs": [
    {
     "name": "stdout",
     "output_type": "stream",
     "text": [
      "Accuracy: 0.964\n",
      "Precision: 0.9665438368648895\n",
      "F1 Score: 0.9635939376776974\n",
      "Recall: 0.964\n"
     ]
    }
   ],
   "source": [
    "# Collect validation features and labels\n",
    "X_val = []\n",
    "y_val = []\n",
    "\n",
    "for data in val_loader:\n",
    "    inputs, labels = data\n",
    "    X_val.extend(inputs.numpy())  # Assuming inputs is a Tensor\n",
    "    y_val.extend(labels.numpy())  # Assuming labels is a Tensor\n",
    "\n",
    "X_val = torch.tensor(X_val).to(device)\n",
    "y_val = torch.tensor(y_val).to(device)\n",
    "\n",
    "# Use your model to predict and evaluate\n",
    "model.eval()\n",
    "with torch.no_grad():\n",
    "    y_pred = model(X_val)\n",
    "    y_pred = y_pred.argmax(dim=1)\n",
    "\n",
    "# Move y_val and y_pred back to CPU for evaluation\n",
    "y_val = y_val.cpu()\n",
    "y_pred = y_pred.cpu()\n",
    "\n",
    "accuracy = accuracy_score(y_val, y_pred)\n",
    "precision = precision_score(y_val, y_pred, average='weighted') # 'weighted' accounts for label imbalance\n",
    "f1 = f1_score(y_val, y_pred, average='weighted')\n",
    "recall = recall_score(y_val, y_pred, average='weighted')\n",
    "\n",
    "print(f\"Accuracy: {accuracy}\")\n",
    "print(f\"Precision: {precision}\")\n",
    "print(f\"F1 Score: {f1}\")\n",
    "print(f\"Recall: {recall}\")\n"
   ]
  },
  {
   "cell_type": "code",
   "execution_count": 25,
   "metadata": {},
   "outputs": [],
   "source": [
    "torch.save(model, 'model.pth')"
   ]
  },
  {
   "cell_type": "code",
   "execution_count": 26,
   "metadata": {},
   "outputs": [
    {
     "data": {
      "text/html": [
       "<style>\n",
       "    table.wandb td:nth-child(1) { padding: 0 10px; text-align: left ; width: auto;} td:nth-child(2) {text-align: left ; width: 100%}\n",
       "    .wandb-row { display: flex; flex-direction: row; flex-wrap: wrap; justify-content: flex-start; width: 100% }\n",
       "    .wandb-col { display: flex; flex-direction: column; flex-basis: 100%; flex: 1; padding: 10px; }\n",
       "    </style>\n",
       "<div class=\"wandb-row\"><div class=\"wandb-col\"><h3>Run history:</h3><br/><table class=\"wandb\"><tr><td>final_train_accuracy</td><td>▁</td></tr><tr><td>final_val_accuracy</td><td>▁</td></tr><tr><td>train_accuracy</td><td>▁▅▇███████▇▇▃▇▇▆▃▃▁▆█▇████▇██▇▆▇████████</td></tr><tr><td>train_loss</td><td>█▆▁▁▁▁▁▁▁▁▁▂▂▃▁▂▁▄▁▄▂▁▁▁▂▁▁▁▁▁▃▁▁▁▁▁▁▁▁▁</td></tr><tr><td>val_accuracy</td><td>▂▂▇▇▇▇▇▇██▅▅▅▅▆▆▁▃▃▇▆▇█▆▇▆▆▇▆▅▄▇▇█▇▇█▇██</td></tr></table><br/></div><div class=\"wandb-col\"><h3>Run summary:</h3><br/><table class=\"wandb\"><tr><td>final_train_accuracy</td><td>100.0</td></tr><tr><td>final_val_accuracy</td><td>96.4</td></tr><tr><td>train_accuracy</td><td>100.0</td></tr><tr><td>train_loss</td><td>0.00139</td></tr><tr><td>val_accuracy</td><td>96.4</td></tr></table><br/></div></div>"
      ],
      "text/plain": [
       "<IPython.core.display.HTML object>"
      ]
     },
     "metadata": {},
     "output_type": "display_data"
    },
    {
     "data": {
      "text/html": [
       " View run <strong style=\"color:#cdcd00\">CNN-GRU_2024-06-12_23-10-06</strong> at: <a href='https://wandb.ai/rik0/sign_language/runs/0oy0okyc' target=\"_blank\">https://wandb.ai/rik0/sign_language/runs/0oy0okyc</a><br/> View project at: <a href='https://wandb.ai/rik0/sign_language' target=\"_blank\">https://wandb.ai/rik0/sign_language</a><br/>Synced 5 W&B file(s), 0 media file(s), 0 artifact file(s) and 1 other file(s)"
      ],
      "text/plain": [
       "<IPython.core.display.HTML object>"
      ]
     },
     "metadata": {},
     "output_type": "display_data"
    },
    {
     "data": {
      "text/html": [
       "Find logs at: <code>./wandb/run-20240612_231006-0oy0okyc/logs</code>"
      ],
      "text/plain": [
       "<IPython.core.display.HTML object>"
      ]
     },
     "metadata": {},
     "output_type": "display_data"
    }
   ],
   "source": [
    "wandb.save(\"model.pth\")\n",
    "run.finish()"
   ]
  },
  {
   "cell_type": "markdown",
   "metadata": {},
   "source": [
    "## Convert model to Other format"
   ]
  },
  {
   "cell_type": "code",
   "execution_count": 93,
   "metadata": {},
   "outputs": [],
   "source": [
    "# load model.pth\n",
    "model = torch.load('model.pth')"
   ]
  },
  {
   "cell_type": "markdown",
   "metadata": {},
   "source": [
    "### ONNX"
   ]
  },
  {
   "cell_type": "code",
   "execution_count": 28,
   "metadata": {},
   "outputs": [
    {
     "name": "stdout",
     "output_type": "stream",
     "text": [
      "Model has been saved to model.onnx\n"
     ]
    },
    {
     "name": "stderr",
     "output_type": "stream",
     "text": [
      "/home/ubuntu/.local/share/virtualenvs/CNN-GRU-9IlhNg0D/lib/python3.11/site-packages/torch/onnx/symbolic_opset9.py:4661: UserWarning: Exporting a model to ONNX with a batch_size other than 1, with a variable length with GRU can cause an error when running the ONNX model with a different batch size. Make sure to save the model with a batch size of 1, or define the initial states (h0/c0) as inputs of the model. \n",
      "  warnings.warn(\n"
     ]
    }
   ],
   "source": [
    "# Create a dummy input with appropriate data type\n",
    "dummy_input = torch.randn(64, 3, 630, device=device, dtype=torch.float32)\n",
    "\n",
    "# Specify the file path where you want to save the ONNX model\n",
    "onnx_file_path = \"model.onnx\"\n",
    "\n",
    "# Export the model to ONNX format\n",
    "torch.onnx.export(\n",
    "    model,                     # model being run\n",
    "    dummy_input,               # model input (or a tuple for multiple inputs)\n",
    "    onnx_file_path,            # where to save the model (can be a file or file-like object)\n",
    "    export_params=True,        # store the trained parameter weights inside the model file\n",
    "    opset_version=10,          # the ONNX version to export the model to\n",
    "    do_constant_folding=True,  # whether to execute constant folding for optimization\n",
    "    input_names=['input'],     # the model's input names\n",
    "    output_names=['output'],   # the model's output names\n",
    "    dynamic_axes={'input': {0: 'batch_size'}, 'output': {0: 'batch_size'}}  # variable length axes\n",
    ")\n",
    "\n",
    "\n",
    "print(f\"Model has been saved to {onnx_file_path}\")\n"
   ]
  },
  {
   "cell_type": "code",
   "execution_count": 95,
   "metadata": {},
   "outputs": [],
   "source": [
    "# import onnx\n",
    "# from onnx import helper, numpy_helper\n",
    "# import numpy as np\n",
    "\n",
    "# # Load the ONNX model\n",
    "# onnx_model = onnx.load(onnx_file_path)\n",
    "\n",
    "# # Check and convert int64 tensors to int32\n",
    "# def convert_int64_to_int32(model):\n",
    "#     for initializer in model.graph.initializer:\n",
    "#         if initializer.data_type == onnx.TensorProto.INT64:\n",
    "#             int64_data = numpy_helper.to_array(initializer)\n",
    "#             int32_data = int64_data.astype(np.int32)\n",
    "#             new_initializer = numpy_helper.from_array(int32_data, initializer.name)\n",
    "#             model.graph.initializer.remove(initializer)\n",
    "#             model.graph.initializer.append(new_initializer)\n",
    "\n",
    "#     for node in model.graph.node:\n",
    "#         for attr in node.attribute:\n",
    "#             if attr.type == onnx.AttributeProto.TENSOR and attr.t.data_type == onnx.TensorProto.INT64:\n",
    "#                 int64_data = numpy_helper.to_array(attr.t)\n",
    "#                 int32_data = int64_data.astype(np.int32)\n",
    "#                 new_tensor = numpy_helper.from_array(int32_data)\n",
    "#                 new_tensor.name = attr.t.name\n",
    "#                 attr.t.CopyFrom(new_tensor)\n",
    "\n",
    "#     return model\n",
    "\n",
    "# # Convert and save the modified model\n",
    "# onnx_model = convert_int64_to_int32(onnx_model)\n",
    "# onnx.save(onnx_model, onnx_file_path)\n",
    "\n",
    "# # Verify the ONNX model for int64 tensors\n",
    "# def check_for_int64(model):\n",
    "#     for tensor in model.graph.initializer:\n",
    "#         if tensor.data_type == onnx.TensorProto.INT64:\n",
    "#             print(f\"Found int64 tensor in initializer {tensor.name}\")\n",
    "#             return True\n",
    "#     for node in model.graph.node:\n",
    "#         for attr in node.attribute:\n",
    "#             if attr.type == onnx.AttributeProto.TENSOR and attr.t.data_type == onnx.TensorProto.INT64:\n",
    "#                 print(f\"Found int64 tensor in node {node.name}\")\n",
    "#                 return True\n",
    "#     return False\n",
    "\n",
    "# if check_for_int64(onnx_model):\n",
    "#     print(\"Model contains int64 tensors. Modify the model to use int32 tensors.\")\n",
    "# else:\n",
    "#     print(\"Model does not contain int64 tensors.\")\n",
    "\n"
   ]
  },
  {
   "cell_type": "markdown",
   "metadata": {},
   "source": [
    "### TorchScript"
   ]
  },
  {
   "cell_type": "code",
   "execution_count": 96,
   "metadata": {},
   "outputs": [],
   "source": [
    "scripted_model = torch.jit.script(model)  # Convert to TorchScript\n",
    "scripted_model.save('model_scripted.pt')  # Save the scripted model"
   ]
  },
  {
   "cell_type": "code",
   "execution_count": 97,
   "metadata": {},
   "outputs": [
    {
     "ename": "ModuleNotFoundError",
     "evalue": "No module named 'tensorflow_probability'",
     "output_type": "error",
     "traceback": [
      "\u001b[0;31m---------------------------------------------------------------------------\u001b[0m",
      "\u001b[0;31mModuleNotFoundError\u001b[0m                       Traceback (most recent call last)",
      "Cell \u001b[0;32mIn[97], line 1\u001b[0m\n\u001b[0;32m----> 1\u001b[0m \u001b[38;5;28;01mfrom\u001b[39;00m \u001b[38;5;21;01monnx_tf\u001b[39;00m\u001b[38;5;21;01m.\u001b[39;00m\u001b[38;5;21;01mbackend\u001b[39;00m \u001b[38;5;28;01mimport\u001b[39;00m prepare\n\u001b[1;32m      2\u001b[0m \u001b[38;5;28;01mimport\u001b[39;00m \u001b[38;5;21;01monnx\u001b[39;00m\n\u001b[1;32m      4\u001b[0m onnx_model \u001b[38;5;241m=\u001b[39m onnx\u001b[38;5;241m.\u001b[39mload(\u001b[38;5;124m\"\u001b[39m\u001b[38;5;124mmodel.onnx\u001b[39m\u001b[38;5;124m\"\u001b[39m)\n",
      "File \u001b[0;32m~/.local/share/virtualenvs/CNN-GRU-9IlhNg0D/lib/python3.11/site-packages/onnx_tf/__init__.py:1\u001b[0m\n\u001b[0;32m----> 1\u001b[0m \u001b[38;5;28;01mfrom\u001b[39;00m \u001b[38;5;21;01m.\u001b[39;00m \u001b[38;5;28;01mimport\u001b[39;00m backend\n\u001b[1;32m      2\u001b[0m \u001b[38;5;28;01mfrom\u001b[39;00m \u001b[38;5;21;01m.\u001b[39;00m\u001b[38;5;21;01mversion\u001b[39;00m \u001b[38;5;28;01mimport\u001b[39;00m version \u001b[38;5;28;01mas\u001b[39;00m __version__\n",
      "File \u001b[0;32m~/.local/share/virtualenvs/CNN-GRU-9IlhNg0D/lib/python3.11/site-packages/onnx_tf/backend.py:28\u001b[0m\n\u001b[1;32m     26\u001b[0m \u001b[38;5;28;01mfrom\u001b[39;00m \u001b[38;5;21;01monnx_tf\u001b[39;00m\u001b[38;5;21;01m.\u001b[39;00m\u001b[38;5;21;01mcommon\u001b[39;00m \u001b[38;5;28;01mimport\u001b[39;00m get_unique_suffix\n\u001b[1;32m     27\u001b[0m \u001b[38;5;28;01mfrom\u001b[39;00m \u001b[38;5;21;01monnx_tf\u001b[39;00m\u001b[38;5;21;01m.\u001b[39;00m\u001b[38;5;21;01mcommon\u001b[39;00m \u001b[38;5;28;01mimport\u001b[39;00m supports_device \u001b[38;5;28;01mas\u001b[39;00m common_supports_device\n\u001b[0;32m---> 28\u001b[0m \u001b[38;5;28;01mfrom\u001b[39;00m \u001b[38;5;21;01monnx_tf\u001b[39;00m\u001b[38;5;21;01m.\u001b[39;00m\u001b[38;5;21;01mcommon\u001b[39;00m\u001b[38;5;21;01m.\u001b[39;00m\u001b[38;5;21;01mhandler_helper\u001b[39;00m \u001b[38;5;28;01mimport\u001b[39;00m get_all_backend_handlers\n\u001b[1;32m     29\u001b[0m \u001b[38;5;28;01mfrom\u001b[39;00m \u001b[38;5;21;01monnx_tf\u001b[39;00m\u001b[38;5;21;01m.\u001b[39;00m\u001b[38;5;21;01mpb_wrapper\u001b[39;00m \u001b[38;5;28;01mimport\u001b[39;00m OnnxNode\n\u001b[1;32m     30\u001b[0m \u001b[38;5;28;01mfrom\u001b[39;00m \u001b[38;5;21;01monnx_tf\u001b[39;00m\u001b[38;5;21;01m.\u001b[39;00m\u001b[38;5;21;01mbackend_tf_module\u001b[39;00m \u001b[38;5;28;01mimport\u001b[39;00m BackendTFModule, TFModule\n",
      "File \u001b[0;32m~/.local/share/virtualenvs/CNN-GRU-9IlhNg0D/lib/python3.11/site-packages/onnx_tf/common/handler_helper.py:3\u001b[0m\n\u001b[1;32m      1\u001b[0m \u001b[38;5;28;01mfrom\u001b[39;00m \u001b[38;5;21;01monnx\u001b[39;00m \u001b[38;5;28;01mimport\u001b[39;00m defs\n\u001b[0;32m----> 3\u001b[0m \u001b[38;5;28;01mfrom\u001b[39;00m \u001b[38;5;21;01monnx_tf\u001b[39;00m\u001b[38;5;21;01m.\u001b[39;00m\u001b[38;5;21;01mhandlers\u001b[39;00m\u001b[38;5;21;01m.\u001b[39;00m\u001b[38;5;21;01mbackend\u001b[39;00m \u001b[38;5;28;01mimport\u001b[39;00m \u001b[38;5;241m*\u001b[39m  \u001b[38;5;66;03m# noqa\u001b[39;00m\n\u001b[1;32m      4\u001b[0m \u001b[38;5;28;01mfrom\u001b[39;00m \u001b[38;5;21;01monnx_tf\u001b[39;00m\u001b[38;5;21;01m.\u001b[39;00m\u001b[38;5;21;01mhandlers\u001b[39;00m\u001b[38;5;21;01m.\u001b[39;00m\u001b[38;5;21;01mbackend_handler\u001b[39;00m \u001b[38;5;28;01mimport\u001b[39;00m BackendHandler\n\u001b[1;32m      5\u001b[0m \u001b[38;5;28;01mimport\u001b[39;00m \u001b[38;5;21;01monnx_tf\u001b[39;00m\u001b[38;5;21;01m.\u001b[39;00m\u001b[38;5;21;01mcommon\u001b[39;00m \u001b[38;5;28;01mas\u001b[39;00m \u001b[38;5;21;01mcommon\u001b[39;00m\n",
      "File \u001b[0;32m~/.local/share/virtualenvs/CNN-GRU-9IlhNg0D/lib/python3.11/site-packages/onnx_tf/handlers/backend/bernoulli.py:2\u001b[0m\n\u001b[1;32m      1\u001b[0m \u001b[38;5;28;01mimport\u001b[39;00m \u001b[38;5;21;01mtensorflow\u001b[39;00m \u001b[38;5;28;01mas\u001b[39;00m \u001b[38;5;21;01mtf\u001b[39;00m\n\u001b[0;32m----> 2\u001b[0m \u001b[38;5;28;01mfrom\u001b[39;00m \u001b[38;5;21;01mtensorflow_probability\u001b[39;00m \u001b[38;5;28;01mimport\u001b[39;00m distributions \u001b[38;5;28;01mas\u001b[39;00m tfd\n\u001b[1;32m      4\u001b[0m \u001b[38;5;28;01mfrom\u001b[39;00m \u001b[38;5;21;01monnx_tf\u001b[39;00m\u001b[38;5;21;01m.\u001b[39;00m\u001b[38;5;21;01mhandlers\u001b[39;00m\u001b[38;5;21;01m.\u001b[39;00m\u001b[38;5;21;01mbackend_handler\u001b[39;00m \u001b[38;5;28;01mimport\u001b[39;00m BackendHandler\n\u001b[1;32m      5\u001b[0m \u001b[38;5;28;01mfrom\u001b[39;00m \u001b[38;5;21;01monnx_tf\u001b[39;00m\u001b[38;5;21;01m.\u001b[39;00m\u001b[38;5;21;01mhandlers\u001b[39;00m\u001b[38;5;21;01m.\u001b[39;00m\u001b[38;5;21;01mhandler\u001b[39;00m \u001b[38;5;28;01mimport\u001b[39;00m onnx_op\n",
      "\u001b[0;31mModuleNotFoundError\u001b[0m: No module named 'tensorflow_probability'"
     ]
    }
   ],
   "source": [
    "from onnx_tf.backend import prepare\n",
    "import onnx\n",
    "\n",
    "onnx_model = onnx.load(\"model.onnx\")\n",
    "tf_rep = prepare(onnx_model)\n",
    "tf_rep.export_graph(\"model_tf.pb\")"
   ]
  },
  {
   "cell_type": "code",
   "execution_count": null,
   "metadata": {},
   "outputs": [],
   "source": [
    "# bash command to convert the TensorFlow model to TensorFlow.js\n",
    "# tensorflowjs_converter --input_format=tf_saved_model --output_format=tfjs_graph_model model_tf web_model"
   ]
  },
  {
   "cell_type": "markdown",
   "metadata": {},
   "source": [
    "tensorflow\n",
    "pytorch -> onnx -> tensorflow -> tensorflow.js\n",
    "uses @tensorflow/tfjs on the front\n",
    "\n",
    "error when onnx -> tensorflow\n",
    "\n",
    "onnx\n",
    "pytorch -> onnx\n",
    "ueses either onnxjs or onnxruntime-web\n",
    "\n",
    "onnxjs: error when loading model\n",
    "onnxruntime-web: error with wasm"
   ]
  },
  {
   "cell_type": "code",
   "execution_count": null,
   "metadata": {},
   "outputs": [],
   "source": [
    "# Save the model state_dict\n",
    "torch.save(model.state_dict(), 'model_state_dict.pth')"
   ]
  },
  {
   "cell_type": "code",
   "execution_count": null,
   "metadata": {},
   "outputs": [
    {
     "name": "stdout",
     "output_type": "stream",
     "text": [
      "Model saved to model.json\n"
     ]
    }
   ],
   "source": [
    "import torch\n",
    "import json\n",
    "\n",
    "# Define your model class exactly as it was when you saved the model\n",
    "class CNN_GRU_Model(nn.Module):\n",
    "    def __init__(self):\n",
    "        super(CNN_GRU_Model, self).__init__()\n",
    "        self.conv1d = nn.Conv1d(3, 64, kernel_size=3)\n",
    "        self.maxpooling1d = nn.MaxPool1d(2)\n",
    "        self.flatten = nn.Flatten()\n",
    "        self.dense = nn.Linear(40256, 64)  # Adjust this based on the output of the previous layer\n",
    "        self.gru = nn.GRU(64, 100, batch_first=True)\n",
    "        self.gru_1 = nn.GRU(100, 100, batch_first=True)\n",
    "        self.dense_1 = nn.Linear(100, 64)\n",
    "        self.final_dense = nn.Linear(128, 7)  # Final Dense layer for 7 classes\n",
    "\n",
    "    def forward(self, x):\n",
    "        x = self.conv1d(x)\n",
    "        x = self.maxpooling1d(x)\n",
    "        x = self.flatten(x)\n",
    "        dense_output = self.dense(x)\n",
    "        x = dense_output.view(dense_output.shape[0], 1, -1)\n",
    "        x, _ = self.gru(x)\n",
    "        x, _ = self.gru_1(x)\n",
    "        x = self.dense_1(x[:, -1, :])\n",
    "        x = torch.cat((dense_output, x), dim=1)\n",
    "        x = self.final_dense(x)\n",
    "        return x\n",
    "\n",
    "# Load the model\n",
    "model = CNN_GRU_Model()\n",
    "\n",
    "# Load the state_dict\n",
    "state_dict = torch.load('model_state_dict.pth')\n",
    "\n",
    "# Ensure the state_dict is in the correct format (i.e., a dictionary)\n",
    "if not isinstance(state_dict, dict):\n",
    "    raise TypeError(f\"Expected state_dict to be dict-like, got {type(state_dict)}.\")\n",
    "\n",
    "# Load the state_dict into the model\n",
    "model.load_state_dict(state_dict)\n",
    "\n",
    "# Extract the model's state_dict (parameters)\n",
    "model_state_dict = model.state_dict()\n",
    "\n",
    "# Convert the state_dict to a dictionary suitable for JSON\n",
    "model_state_dict = {k: v.tolist() for k, v in model_state_dict.items()}\n",
    "\n",
    "# Save the state_dict to a JSON file\n",
    "with open('model.json', 'w') as json_file:\n",
    "    json.dump(model_state_dict, json_file)\n",
    "\n",
    "print(\"Model saved to model.json\")\n",
    "\n"
   ]
  }
 ],
 "metadata": {
  "kernelspec": {
   "display_name": "data-gen-gFpVQeOr",
   "language": "python",
   "name": "python3"
  },
  "language_info": {
   "codemirror_mode": {
    "name": "ipython",
    "version": 3
   },
   "file_extension": ".py",
   "mimetype": "text/x-python",
   "name": "python",
   "nbconvert_exporter": "python",
   "pygments_lexer": "ipython3",
   "version": "3.11.9"
  }
 },
 "nbformat": 4,
 "nbformat_minor": 2
}
